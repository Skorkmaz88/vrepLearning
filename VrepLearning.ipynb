{
 "cells": [
  {
   "cell_type": "code",
   "execution_count": 47,
   "metadata": {},
   "outputs": [],
   "source": [
    "import time\n",
    "import sys\n",
    "import numpy as np\n",
    "import skimage\n",
    "from skimage import data, transform\n",
    "import matplotlib.pyplot as plt\n",
    "from skimage import io, exposure, img_as_uint, img_as_float\n",
    "import pickle\n",
    "import time\n",
    "import math\n",
    "import keras\n",
    "from keras import *\n",
    "from keras.layers import Input, Dense, Activation\n",
    "from keras.models import Model, Sequential\n",
    "from sklearn.utils import shuffle\n",
    "\n"
   ]
  },
  {
   "cell_type": "code",
   "execution_count": 2,
   "metadata": {},
   "outputs": [
    {
     "name": "stdout",
     "output_type": "stream",
     "text": [
      "Loaded observed:40404 angles\n"
     ]
    }
   ],
   "source": [
    "\n",
    "encoding_dim = 4  # 4 angles are learned for 4 joints\n",
    "decoding_dim = 19200 # Images are downsized to 210 * 120\n",
    "\n",
    "\n",
    "# I had a black first image at first even though there was an image\n",
    "n_samples = 10001\n",
    "# Create n number of frames, for sequence for one angle\n",
    "interpolation_steps = 4\n",
    "\n",
    "with open('angles-observed.pkl', 'rb') as pickle_file:\n",
    "    angles = pickle.load(pickle_file)\n",
    "print(\"Loaded observed:\" + str(len(angles)) + \" angles\")\n",
    "\n",
    "lst_images = list()\n",
    "lst_angles = list()"
   ]
  },
  {
   "cell_type": "code",
   "execution_count": 3,
   "metadata": {},
   "outputs": [
    {
     "name": "stderr",
     "output_type": "stream",
     "text": [
      "c:\\program files (x86)\\microsoft visual studio\\shared\\python36_64\\lib\\site-packages\\skimage\\transform\\_warps.py:84: UserWarning: The default mode, 'constant', will be changed to 'reflect' in skimage 0.15.\n",
      "  warn(\"The default mode, 'constant', will be changed to 'reflect' in \"\n"
     ]
    }
   ],
   "source": [
    "for i in range(4, (len(angles) - 400)):\n",
    "    # Load angles\n",
    "    lst_angles.append(angles[i])\n",
    "    image = skimage.io.imread('C:\\\\Users\\\\skork\\\\Documents\\\\img\\\\depth_' + str(i // 4) + \"_\" + str(i % 4) +  \".png\" , as_grey=True)\n",
    "    image_rescaled = skimage.transform.rescale(image, 1.0 / 4.0)\n",
    "    lst_images.append(image_rescaled)\n",
    "\n",
    "\n",
    "X = np.asarray(lst_images)\n",
    "Y = np.asarray(lst_angles)\n"
   ]
  },
  {
   "cell_type": "code",
   "execution_count": 59,
   "metadata": {},
   "outputs": [],
   "source": [
    "for i in range(5):\n",
    "    np.random.seed(i)\n",
    "    np.random.shuffle(X)\n",
    "    np.random.seed(i)\n",
    "    np.random.shuffle(Y)\n",
    "   \n",
    "    training, test = X[:32000,:], X[32000:40000,:]\n",
    "    training_angle, test_angle = Y[:32000,:], Y[32000:40000,:]\n"
   ]
  },
  {
   "cell_type": "code",
   "execution_count": 18,
   "metadata": {},
   "outputs": [
    {
     "name": "stdout",
     "output_type": "stream",
     "text": [
      "Epoch 1/50\n",
      "40000/40000 [==============================] - 32s 795us/step - loss: 0.6922\n",
      "Epoch 2/50\n",
      "40000/40000 [==============================] - 26s 654us/step - loss: 0.6790\n",
      "Epoch 3/50\n",
      "40000/40000 [==============================] - 26s 652us/step - loss: 0.33892s \n",
      "Epoch 4/50\n",
      "40000/40000 [==============================] - 26s 661us/step - loss: 0.0988\n",
      "Epoch 5/50\n",
      "40000/40000 [==============================] - 26s 650us/step - loss: 0.0822\n",
      "Epoch 6/50\n",
      "40000/40000 [==============================] - 26s 658us/step - loss: 0.0783\n",
      "Epoch 7/50\n",
      "40000/40000 [==============================] - 26s 655us/step - loss: 0.0766\n",
      "Epoch 8/50\n",
      "40000/40000 [==============================] - 26s 646us/step - loss: 0.0757\n",
      "Epoch 9/50\n",
      "40000/40000 [==============================] - 26s 645us/step - loss: 0.0752\n",
      "Epoch 10/50\n",
      "40000/40000 [==============================] - 26s 651us/step - loss: 0.0748\n",
      "Epoch 11/50\n",
      "40000/40000 [==============================] - 26s 655us/step - loss: 0.0745\n",
      "Epoch 12/50\n",
      "40000/40000 [==============================] - 25s 636us/step - loss: 0.0743\n",
      "Epoch 13/50\n",
      "40000/40000 [==============================] - 24s 593us/step - loss: 0.0742\n",
      "Epoch 14/50\n",
      "40000/40000 [==============================] - 24s 594us/step - loss: 0.0741\n",
      "Epoch 15/50\n",
      "40000/40000 [==============================] - 26s 638us/step - loss: 0.0740\n",
      "Epoch 16/50\n",
      "40000/40000 [==============================] - 26s 648us/step - loss: 0.0739\n",
      "Epoch 17/50\n",
      "40000/40000 [==============================] - 24s 611us/step - loss: 0.0738\n",
      "Epoch 18/50\n",
      "40000/40000 [==============================] - 25s 620us/step - loss: 0.0738\n",
      "Epoch 19/50\n",
      "40000/40000 [==============================] - 23s 578us/step - loss: 0.0737\n",
      "Epoch 20/50\n",
      "40000/40000 [==============================] - 25s 631us/step - loss: 0.0737\n",
      "Epoch 21/50\n",
      "40000/40000 [==============================] - 22s 553us/step - loss: 0.0736\n",
      "Epoch 22/50\n",
      "40000/40000 [==============================] - 25s 613us/step - loss: 0.0736\n",
      "Epoch 23/50\n",
      "40000/40000 [==============================] - 25s 617us/step - loss: 0.0736\n",
      "Epoch 24/50\n",
      "40000/40000 [==============================] - 25s 624us/step - loss: 0.0735\n",
      "Epoch 25/50\n",
      "40000/40000 [==============================] - 24s 612us/step - loss: 0.0735\n",
      "Epoch 26/50\n",
      "24320/40000 [=================>............] - ETA: 9s - loss: 0.0735"
     ]
    },
    {
     "ename": "KeyboardInterrupt",
     "evalue": "",
     "output_type": "error",
     "traceback": [
      "\u001b[1;31m---------------------------------------------------------------------------\u001b[0m",
      "\u001b[1;31mKeyboardInterrupt\u001b[0m                         Traceback (most recent call last)",
      "\u001b[1;32m<ipython-input-18-c8bbe5bc8af3>\u001b[0m in \u001b[0;36m<module>\u001b[1;34m()\u001b[0m\n\u001b[0;32m     28\u001b[0m                 \u001b[0mepochs\u001b[0m\u001b[1;33m=\u001b[0m\u001b[1;36m50\u001b[0m\u001b[1;33m,\u001b[0m\u001b[1;33m\u001b[0m\u001b[0m\n\u001b[0;32m     29\u001b[0m                 \u001b[0mbatch_size\u001b[0m\u001b[1;33m=\u001b[0m\u001b[1;36m256\u001b[0m\u001b[1;33m,\u001b[0m\u001b[1;33m\u001b[0m\u001b[0m\n\u001b[1;32m---> 30\u001b[1;33m                 shuffle=True)\n\u001b[0m",
      "\u001b[1;32mc:\\program files (x86)\\microsoft visual studio\\shared\\python36_64\\lib\\site-packages\\keras\\engine\\training.py\u001b[0m in \u001b[0;36mfit\u001b[1;34m(self, x, y, batch_size, epochs, verbose, callbacks, validation_split, validation_data, shuffle, class_weight, sample_weight, initial_epoch, steps_per_epoch, validation_steps, **kwargs)\u001b[0m\n\u001b[0;32m   1710\u001b[0m                               \u001b[0minitial_epoch\u001b[0m\u001b[1;33m=\u001b[0m\u001b[0minitial_epoch\u001b[0m\u001b[1;33m,\u001b[0m\u001b[1;33m\u001b[0m\u001b[0m\n\u001b[0;32m   1711\u001b[0m                               \u001b[0msteps_per_epoch\u001b[0m\u001b[1;33m=\u001b[0m\u001b[0msteps_per_epoch\u001b[0m\u001b[1;33m,\u001b[0m\u001b[1;33m\u001b[0m\u001b[0m\n\u001b[1;32m-> 1712\u001b[1;33m                               validation_steps=validation_steps)\n\u001b[0m\u001b[0;32m   1713\u001b[0m \u001b[1;33m\u001b[0m\u001b[0m\n\u001b[0;32m   1714\u001b[0m     def evaluate(self, x=None, y=None,\n",
      "\u001b[1;32mc:\\program files (x86)\\microsoft visual studio\\shared\\python36_64\\lib\\site-packages\\keras\\engine\\training.py\u001b[0m in \u001b[0;36m_fit_loop\u001b[1;34m(self, f, ins, out_labels, batch_size, epochs, verbose, callbacks, val_f, val_ins, shuffle, callback_metrics, initial_epoch, steps_per_epoch, validation_steps)\u001b[0m\n\u001b[0;32m   1226\u001b[0m                                         \u001b[1;34m'If using HDF5 input data, '\u001b[0m\u001b[1;33m\u001b[0m\u001b[0m\n\u001b[0;32m   1227\u001b[0m                                         'pass shuffle=\"batch\".')\n\u001b[1;32m-> 1228\u001b[1;33m                     \u001b[0mbatch_logs\u001b[0m \u001b[1;33m=\u001b[0m \u001b[1;33m{\u001b[0m\u001b[1;33m}\u001b[0m\u001b[1;33m\u001b[0m\u001b[0m\n\u001b[0m\u001b[0;32m   1229\u001b[0m                     \u001b[0mbatch_logs\u001b[0m\u001b[1;33m[\u001b[0m\u001b[1;34m'batch'\u001b[0m\u001b[1;33m]\u001b[0m \u001b[1;33m=\u001b[0m \u001b[0mbatch_index\u001b[0m\u001b[1;33m\u001b[0m\u001b[0m\n\u001b[0;32m   1230\u001b[0m                     \u001b[0mbatch_logs\u001b[0m\u001b[1;33m[\u001b[0m\u001b[1;34m'size'\u001b[0m\u001b[1;33m]\u001b[0m \u001b[1;33m=\u001b[0m \u001b[0mlen\u001b[0m\u001b[1;33m(\u001b[0m\u001b[0mbatch_ids\u001b[0m\u001b[1;33m)\u001b[0m\u001b[1;33m\u001b[0m\u001b[0m\n",
      "\u001b[1;31mKeyboardInterrupt\u001b[0m: "
     ]
    }
   ],
   "source": [
    "angles_dim = 4  #  floats -> compression of factor 24.5, assuming the input is 784 floats\n",
    "\n",
    "x_train = X.reshape((len(X), np.prod(X.shape[1:])))\n",
    "\n",
    "\n",
    "input_img = Input(shape=(19200,))\n",
    "# \"encoded\" is the encoded representation of the input\n",
    "encoded = Dense(encoding_dim, activation='relu')(input_img)\n",
    "# \"decoded\" is the lossy reconstruction of the input\n",
    "decoded = Dense(19200, activation='sigmoid')(encoded)\n",
    "\n",
    "# this model maps an input to its reconstruction\n",
    "autoencoder = Model(input_img, decoded)\n",
    "\n",
    "# this model maps an input to its encoded representation\n",
    "encoder = Model(input_img, encoded)\n",
    "\n",
    "# create a placeholder for an encoded (4-dimensional) input\n",
    "encoded_input = Input(shape=(encoding_dim,))\n",
    "# retrieve the last layer of the autoencoder model\n",
    "decoder_layer = autoencoder.layers[-1]\n",
    "# create the decoder model\n",
    "decoder = Model(encoded_input, decoder_layer(encoded_input))\n",
    "\n",
    "autoencoder.compile(optimizer='adadelta', loss='binary_crossentropy')\n",
    "\n",
    "autoencoder.fit(x_train, x_train,\n",
    "                epochs=50,\n",
    "                batch_size=256,\n",
    "                shuffle=True,\n",
    "                validation_data=(x_train, x_train))"
   ]
  },
  {
   "cell_type": "code",
   "execution_count": null,
   "metadata": {},
   "outputs": [
    {
     "name": "stdout",
     "output_type": "stream",
     "text": [
      "Train on 32000 samples, validate on 8000 samples\n",
      "Epoch 1/20\n",
      "32000/32000 [==============================] - 63s 2ms/step - loss: 0.0456 - val_loss: 0.0422\n",
      "Epoch 2/20\n",
      "32000/32000 [==============================] - 61s 2ms/step - loss: 0.0414 - val_loss: 0.0420\n",
      "Epoch 3/20\n",
      "32000/32000 [==============================] - 61s 2ms/step - loss: 0.0413 - val_loss: 0.0421\n",
      "Epoch 4/20\n",
      " 2752/32000 [=>............................] - ETA: 54s - loss: 0.0420"
     ]
    }
   ],
   "source": [
    "x_train = training.reshape((len(training), np.prod(training.shape[1:])))\n",
    "y_train = training_angle.reshape((len(training_angle), np.prod(training_angle.shape[1:])))\n",
    "\n",
    "x_test = test.reshape((len(test), np.prod(test.shape[1:])))\n",
    "y_test = test_angle.reshape((len(test_angle), np.prod(test_angle.shape[1:])))\n",
    "\n",
    "model = Sequential()\n",
    "model.add(Dense(1000, input_shape=(19200,)))\n",
    "model.add(Activation('relu'))\n",
    "model.add(Dense(100, input_shape=(1000,)))\n",
    "model.add(Activation('relu'))\n",
    "model.add(Dense(4))\n",
    "model.compile(loss='mean_squared_error', optimizer='Adam')\n",
    "model.fit(x_train, y_train, epochs=20, validation_data=(x_test, y_test))"
   ]
  },
  {
   "cell_type": "code",
   "execution_count": 14,
   "metadata": {},
   "outputs": [
    {
     "data": {
      "text/plain": [
       "array([[0.12054431, 0.12054431, 0.12054431, ..., 0.12054431, 0.12054431,\n",
       "        0.12054431],\n",
       "       [0.1164149 , 0.1164149 , 0.1164149 , ..., 0.1164149 , 0.1164149 ,\n",
       "        0.1164149 ],\n",
       "       [0.11256078, 0.11256078, 0.11256078, ..., 0.11256078, 0.11256078,\n",
       "        0.11256078],\n",
       "       ...,\n",
       "       [0.        , 0.        , 0.        , ..., 0.        , 0.        ,\n",
       "        0.        ],\n",
       "       [0.        , 0.        , 0.        , ..., 0.        , 0.        ,\n",
       "        0.        ],\n",
       "       [0.        , 0.        , 0.        , ..., 0.        , 0.        ,\n",
       "        0.        ]])"
      ]
     },
     "execution_count": 14,
     "metadata": {},
     "output_type": "execute_result"
    }
   ],
   "source": [
    "x_train = X.reshape((len(X), np.prod(X.shape[1:])))\n"
   ]
  },
  {
   "cell_type": "code",
   "execution_count": 48,
   "metadata": {},
   "outputs": [],
   "source": [
    "X, y = shuffle(X, Y, random_state=0)\n"
   ]
  },
  {
   "cell_type": "code",
   "execution_count": 60,
   "metadata": {},
   "outputs": [
    {
     "data": {
      "text/plain": [
       "(8000, 4)"
      ]
     },
     "execution_count": 60,
     "metadata": {},
     "output_type": "execute_result"
    }
   ],
   "source": [
    "test_angle.shape"
   ]
  },
  {
   "cell_type": "code",
   "execution_count": 62,
   "metadata": {},
   "outputs": [],
   "source": [
    "model = None"
   ]
  },
  {
   "cell_type": "code",
   "execution_count": null,
   "metadata": {},
   "outputs": [],
   "source": []
  }
 ],
 "metadata": {
  "kernelspec": {
   "display_name": "Python 3",
   "language": "python",
   "name": "python3"
  },
  "language_info": {
   "codemirror_mode": {
    "name": "ipython",
    "version": 3
   },
   "file_extension": ".py",
   "mimetype": "text/x-python",
   "name": "python",
   "nbconvert_exporter": "python",
   "pygments_lexer": "ipython3",
   "version": "3.6.4"
  }
 },
 "nbformat": 4,
 "nbformat_minor": 2
}
