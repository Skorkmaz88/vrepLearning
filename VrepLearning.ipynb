{
 "cells": [
  {
   "cell_type": "code",
   "execution_count": 1,
   "metadata": {},
   "outputs": [
    {
     "name": "stderr",
     "output_type": "stream",
     "text": [
      "Using TensorFlow backend.\n"
     ]
    }
   ],
   "source": [
    "%matplotlib inline\n",
    "\n",
    "import time\n",
    "import sys\n",
    "import numpy as np\n",
    "import skimage\n",
    "from skimage import data, transform\n",
    "import matplotlib.pyplot as plt\n",
    "from skimage import io, exposure, img_as_uint, img_as_float\n",
    "import pickle\n",
    "import time\n",
    "import math\n",
    "import keras\n",
    "from keras import *\n",
    "from keras.layers import Input, Dense, Activation\n",
    "from keras.models import Model, Sequential\n",
    "from sklearn.utils import shuffle\n",
    "from tempfile import TemporaryFile\n"
   ]
  },
  {
   "cell_type": "code",
   "execution_count": 2,
   "metadata": {},
   "outputs": [],
   "source": [
    "outfile = TemporaryFile()\n",
    "outfile2 = TemporaryFile()"
   ]
  },
  {
   "cell_type": "code",
   "execution_count": 2,
   "metadata": {},
   "outputs": [
    {
     "name": "stdout",
     "output_type": "stream",
     "text": [
      "Loaded observed:40404 angles\n"
     ]
    }
   ],
   "source": [
    "\n",
    "encoding_dim = 4  # 4 angles are learned for 4 joints\n",
    "decoding_dim = 19200 # Images are downsized to 210 * 120\n",
    "\n",
    "\n",
    "# I had a black first image at first even though there was an image\n",
    "n_samples = 10001\n",
    "# Create n number of frames, for sequence for one angle\n",
    "interpolation_steps = 4\n",
    "\n",
    "with open('angles-observed.pkl', 'rb') as pickle_file:\n",
    "    angles = pickle.load(pickle_file)\n",
    "print(\"Loaded observed:\" + str(len(angles)) + \" angles\")\n",
    "\n",
    "lst_images = list()\n",
    "lst_angles = list()"
   ]
  },
  {
   "cell_type": "code",
   "execution_count": 4,
   "metadata": {},
   "outputs": [
    {
     "name": "stderr",
     "output_type": "stream",
     "text": [
      "c:\\program files (x86)\\microsoft visual studio\\shared\\python36_64\\lib\\site-packages\\skimage\\transform\\_warps.py:84: UserWarning: The default mode, 'constant', will be changed to 'reflect' in skimage 0.15.\n",
      "  warn(\"The default mode, 'constant', will be changed to 'reflect' in \"\n"
     ]
    }
   ],
   "source": [
    "for i in range(4, (len(angles) - 400)):\n",
    "    # Load angles\n",
    "    lst_angles.append(angles[i])\n",
    "    image = skimage.io.imread('C:\\\\Users\\\\skork\\\\Documents\\\\img\\\\depth_' + str(i // 4) + \"_\" + str(i % 4) +  \".png\" , as_grey=True)\n",
    "    image_rescaled = skimage.transform.rescale(image, 1.0 / 4.0)\n",
    "    lst_images.append(image_rescaled)\n",
    "\n",
    "\n",
    "X = np.asarray(lst_images)\n",
    "Y = np.asarray(lst_angles)\n"
   ]
  },
  {
   "cell_type": "code",
   "execution_count": 5,
   "metadata": {},
   "outputs": [],
   "source": [
    "for i in range(5):\n",
    "    np.random.seed(i)\n",
    "    np.random.shuffle(X)\n",
    "    np.random.seed(i)\n",
    "    np.random.shuffle(Y)\n",
    "   \n",
    "    training, test = X[:32000,:], X[32000:40000,:]\n",
    "    training_angle, test_angle = Y[:32000,:], Y[32000:40000,:]\n"
   ]
  },
  {
   "cell_type": "code",
   "execution_count": 65,
   "metadata": {},
   "outputs": [
    {
     "name": "stdout",
     "output_type": "stream",
     "text": [
      "Train on 40000 samples, validate on 40000 samples\n",
      "Epoch 1/50\n",
      " 4096/40000 [==>...........................] - ETA: 25s - loss: 0.6931"
     ]
    },
    {
     "ename": "KeyboardInterrupt",
     "evalue": "",
     "output_type": "error",
     "traceback": [
      "\u001b[1;31m---------------------------------------------------------------------------\u001b[0m",
      "\u001b[1;31mKeyboardInterrupt\u001b[0m                         Traceback (most recent call last)",
      "\u001b[1;32m<ipython-input-65-d6693b0e005f>\u001b[0m in \u001b[0;36m<module>\u001b[1;34m()\u001b[0m\n\u001b[0;32m     29\u001b[0m                 \u001b[0mbatch_size\u001b[0m\u001b[1;33m=\u001b[0m\u001b[1;36m256\u001b[0m\u001b[1;33m,\u001b[0m\u001b[1;33m\u001b[0m\u001b[0m\n\u001b[0;32m     30\u001b[0m                 \u001b[0mshuffle\u001b[0m\u001b[1;33m=\u001b[0m\u001b[1;32mTrue\u001b[0m\u001b[1;33m,\u001b[0m\u001b[1;33m\u001b[0m\u001b[0m\n\u001b[1;32m---> 31\u001b[1;33m                 validation_data=(x_train, x_train))\n\u001b[0m",
      "\u001b[1;32mc:\\program files (x86)\\microsoft visual studio\\shared\\python36_64\\lib\\site-packages\\keras\\engine\\training.py\u001b[0m in \u001b[0;36mfit\u001b[1;34m(self, x, y, batch_size, epochs, verbose, callbacks, validation_split, validation_data, shuffle, class_weight, sample_weight, initial_epoch, steps_per_epoch, validation_steps, **kwargs)\u001b[0m\n\u001b[0;32m   1710\u001b[0m                               \u001b[0minitial_epoch\u001b[0m\u001b[1;33m=\u001b[0m\u001b[0minitial_epoch\u001b[0m\u001b[1;33m,\u001b[0m\u001b[1;33m\u001b[0m\u001b[0m\n\u001b[0;32m   1711\u001b[0m                               \u001b[0msteps_per_epoch\u001b[0m\u001b[1;33m=\u001b[0m\u001b[0msteps_per_epoch\u001b[0m\u001b[1;33m,\u001b[0m\u001b[1;33m\u001b[0m\u001b[0m\n\u001b[1;32m-> 1712\u001b[1;33m                               validation_steps=validation_steps)\n\u001b[0m\u001b[0;32m   1713\u001b[0m \u001b[1;33m\u001b[0m\u001b[0m\n\u001b[0;32m   1714\u001b[0m     def evaluate(self, x=None, y=None,\n",
      "\u001b[1;32mc:\\program files (x86)\\microsoft visual studio\\shared\\python36_64\\lib\\site-packages\\keras\\engine\\training.py\u001b[0m in \u001b[0;36m_fit_loop\u001b[1;34m(self, f, ins, out_labels, batch_size, epochs, verbose, callbacks, val_f, val_ins, shuffle, callback_metrics, initial_epoch, steps_per_epoch, validation_steps)\u001b[0m\n\u001b[0;32m   1221\u001b[0m                             \u001b[0mins_batch\u001b[0m \u001b[1;33m=\u001b[0m \u001b[0m_slice_arrays\u001b[0m\u001b[1;33m(\u001b[0m\u001b[0mins\u001b[0m\u001b[1;33m[\u001b[0m\u001b[1;33m:\u001b[0m\u001b[1;33m-\u001b[0m\u001b[1;36m1\u001b[0m\u001b[1;33m]\u001b[0m\u001b[1;33m,\u001b[0m \u001b[0mbatch_ids\u001b[0m\u001b[1;33m)\u001b[0m \u001b[1;33m+\u001b[0m \u001b[1;33m[\u001b[0m\u001b[0mins\u001b[0m\u001b[1;33m[\u001b[0m\u001b[1;33m-\u001b[0m\u001b[1;36m1\u001b[0m\u001b[1;33m]\u001b[0m\u001b[1;33m]\u001b[0m\u001b[1;33m\u001b[0m\u001b[0m\n\u001b[0;32m   1222\u001b[0m                         \u001b[1;32melse\u001b[0m\u001b[1;33m:\u001b[0m\u001b[1;33m\u001b[0m\u001b[0m\n\u001b[1;32m-> 1223\u001b[1;33m                             \u001b[0mins_batch\u001b[0m \u001b[1;33m=\u001b[0m \u001b[0m_slice_arrays\u001b[0m\u001b[1;33m(\u001b[0m\u001b[0mins\u001b[0m\u001b[1;33m,\u001b[0m \u001b[0mbatch_ids\u001b[0m\u001b[1;33m)\u001b[0m\u001b[1;33m\u001b[0m\u001b[0m\n\u001b[0m\u001b[0;32m   1224\u001b[0m                     \u001b[1;32mexcept\u001b[0m \u001b[0mTypeError\u001b[0m\u001b[1;33m:\u001b[0m\u001b[1;33m\u001b[0m\u001b[0m\n\u001b[0;32m   1225\u001b[0m                         raise TypeError('TypeError while preparing batch. '\n",
      "\u001b[1;32mc:\\program files (x86)\\microsoft visual studio\\shared\\python36_64\\lib\\site-packages\\keras\\engine\\training.py\u001b[0m in \u001b[0;36m_slice_arrays\u001b[1;34m(arrays, start, stop)\u001b[0m\n\u001b[0;32m    383\u001b[0m             \u001b[1;32mif\u001b[0m \u001b[0mhasattr\u001b[0m\u001b[1;33m(\u001b[0m\u001b[0mstart\u001b[0m\u001b[1;33m,\u001b[0m \u001b[1;34m'shape'\u001b[0m\u001b[1;33m)\u001b[0m\u001b[1;33m:\u001b[0m\u001b[1;33m\u001b[0m\u001b[0m\n\u001b[0;32m    384\u001b[0m                 \u001b[0mstart\u001b[0m \u001b[1;33m=\u001b[0m \u001b[0mstart\u001b[0m\u001b[1;33m.\u001b[0m\u001b[0mtolist\u001b[0m\u001b[1;33m(\u001b[0m\u001b[1;33m)\u001b[0m\u001b[1;33m\u001b[0m\u001b[0m\n\u001b[1;32m--> 385\u001b[1;33m             \u001b[1;32mreturn\u001b[0m \u001b[1;33m[\u001b[0m\u001b[1;32mNone\u001b[0m \u001b[1;32mif\u001b[0m \u001b[0mx\u001b[0m \u001b[1;32mis\u001b[0m \u001b[1;32mNone\u001b[0m \u001b[1;32melse\u001b[0m \u001b[0mx\u001b[0m\u001b[1;33m[\u001b[0m\u001b[0mstart\u001b[0m\u001b[1;33m]\u001b[0m \u001b[1;32mfor\u001b[0m \u001b[0mx\u001b[0m \u001b[1;32min\u001b[0m \u001b[0marrays\u001b[0m\u001b[1;33m]\u001b[0m\u001b[1;33m\u001b[0m\u001b[0m\n\u001b[0m\u001b[0;32m    386\u001b[0m         \u001b[1;32melse\u001b[0m\u001b[1;33m:\u001b[0m\u001b[1;33m\u001b[0m\u001b[0m\n\u001b[0;32m    387\u001b[0m             \u001b[1;32mreturn\u001b[0m \u001b[1;33m[\u001b[0m\u001b[1;32mNone\u001b[0m \u001b[1;32mif\u001b[0m \u001b[0mx\u001b[0m \u001b[1;32mis\u001b[0m \u001b[1;32mNone\u001b[0m \u001b[1;32melse\u001b[0m \u001b[0mx\u001b[0m\u001b[1;33m[\u001b[0m\u001b[0mstart\u001b[0m\u001b[1;33m:\u001b[0m\u001b[0mstop\u001b[0m\u001b[1;33m]\u001b[0m \u001b[1;32mfor\u001b[0m \u001b[0mx\u001b[0m \u001b[1;32min\u001b[0m \u001b[0marrays\u001b[0m\u001b[1;33m]\u001b[0m\u001b[1;33m\u001b[0m\u001b[0m\n",
      "\u001b[1;32mc:\\program files (x86)\\microsoft visual studio\\shared\\python36_64\\lib\\site-packages\\keras\\engine\\training.py\u001b[0m in \u001b[0;36m<listcomp>\u001b[1;34m(.0)\u001b[0m\n\u001b[0;32m    383\u001b[0m             \u001b[1;32mif\u001b[0m \u001b[0mhasattr\u001b[0m\u001b[1;33m(\u001b[0m\u001b[0mstart\u001b[0m\u001b[1;33m,\u001b[0m \u001b[1;34m'shape'\u001b[0m\u001b[1;33m)\u001b[0m\u001b[1;33m:\u001b[0m\u001b[1;33m\u001b[0m\u001b[0m\n\u001b[0;32m    384\u001b[0m                 \u001b[0mstart\u001b[0m \u001b[1;33m=\u001b[0m \u001b[0mstart\u001b[0m\u001b[1;33m.\u001b[0m\u001b[0mtolist\u001b[0m\u001b[1;33m(\u001b[0m\u001b[1;33m)\u001b[0m\u001b[1;33m\u001b[0m\u001b[0m\n\u001b[1;32m--> 385\u001b[1;33m             \u001b[1;32mreturn\u001b[0m \u001b[1;33m[\u001b[0m\u001b[1;32mNone\u001b[0m \u001b[1;32mif\u001b[0m \u001b[0mx\u001b[0m \u001b[1;32mis\u001b[0m \u001b[1;32mNone\u001b[0m \u001b[1;32melse\u001b[0m \u001b[0mx\u001b[0m\u001b[1;33m[\u001b[0m\u001b[0mstart\u001b[0m\u001b[1;33m]\u001b[0m \u001b[1;32mfor\u001b[0m \u001b[0mx\u001b[0m \u001b[1;32min\u001b[0m \u001b[0marrays\u001b[0m\u001b[1;33m]\u001b[0m\u001b[1;33m\u001b[0m\u001b[0m\n\u001b[0m\u001b[0;32m    386\u001b[0m         \u001b[1;32melse\u001b[0m\u001b[1;33m:\u001b[0m\u001b[1;33m\u001b[0m\u001b[0m\n\u001b[0;32m    387\u001b[0m             \u001b[1;32mreturn\u001b[0m \u001b[1;33m[\u001b[0m\u001b[1;32mNone\u001b[0m \u001b[1;32mif\u001b[0m \u001b[0mx\u001b[0m \u001b[1;32mis\u001b[0m \u001b[1;32mNone\u001b[0m \u001b[1;32melse\u001b[0m \u001b[0mx\u001b[0m\u001b[1;33m[\u001b[0m\u001b[0mstart\u001b[0m\u001b[1;33m:\u001b[0m\u001b[0mstop\u001b[0m\u001b[1;33m]\u001b[0m \u001b[1;32mfor\u001b[0m \u001b[0mx\u001b[0m \u001b[1;32min\u001b[0m \u001b[0marrays\u001b[0m\u001b[1;33m]\u001b[0m\u001b[1;33m\u001b[0m\u001b[0m\n",
      "\u001b[1;31mKeyboardInterrupt\u001b[0m: "
     ]
    }
   ],
   "source": [
    "angles_dim = 4  #  floats -> compression of factor 24.5, assuming the input is 784 floats\n",
    "\n",
    "x_train = X.reshape((len(X), np.prod(X.shape[1:])))\n",
    "\n",
    "\n",
    "input_img = Input(shape=(19200,))\n",
    "# \"encoded\" is the encoded representation of the input\n",
    "encoded = Dense(encoding_dim, activation='relu')(input_img)\n",
    "# \"decoded\" is the lossy reconstruction of the input\n",
    "decoded = Dense(19200, activation='sigmoid')(encoded)\n",
    "\n",
    "# this model maps an input to its reconstruction\n",
    "autoencoder = Model(input_img, decoded)\n",
    "\n",
    "# this model maps an input to its encoded representation\n",
    "encoder = Model(input_img, encoded)\n",
    "\n",
    "# create a placeholder for an encoded (4-dimensional) input\n",
    "encoded_input = Input(shape=(encoding_dim,))\n",
    "# retrieve the last layer of the autoencoder model\n",
    "decoder_layer = autoencoder.layers[-1]\n",
    "# create the decoder model\n",
    "decoder = Model(encoded_input, decoder_layer(encoded_input))\n",
    "\n",
    "autoencoder.compile(optimizer='adadelta', loss='binary_crossentropy')\n",
    "\n",
    "autoencoder.fit(x_train, x_train,\n",
    "                epochs=50,\n",
    "                batch_size=256,\n",
    "                shuffle=True,\n",
    "                validation_data=(x_train, x_train))"
   ]
  },
  {
   "cell_type": "code",
   "execution_count": 15,
   "metadata": {},
   "outputs": [
    {
     "name": "stdout",
     "output_type": "stream",
     "text": [
      "Train on 32000 samples, validate on 8000 samples\n",
      "Epoch 1/100\n",
      "11872/32000 [==========>...................] - ETA: 28s - loss: 0.0163"
     ]
    },
    {
     "ename": "KeyboardInterrupt",
     "evalue": "",
     "output_type": "error",
     "traceback": [
      "\u001b[1;31m---------------------------------------------------------------------------\u001b[0m",
      "\u001b[1;31mKeyboardInterrupt\u001b[0m                         Traceback (most recent call last)",
      "\u001b[1;32m<ipython-input-15-fab463afc193>\u001b[0m in \u001b[0;36m<module>\u001b[1;34m()\u001b[0m\n\u001b[0;32m     14\u001b[0m \u001b[0mmodelEncoder\u001b[0m\u001b[1;33m.\u001b[0m\u001b[0madd\u001b[0m\u001b[1;33m(\u001b[0m\u001b[0mDense\u001b[0m\u001b[1;33m(\u001b[0m\u001b[1;36m4\u001b[0m\u001b[1;33m)\u001b[0m\u001b[1;33m)\u001b[0m\u001b[1;33m\u001b[0m\u001b[0m\n\u001b[0;32m     15\u001b[0m \u001b[0mmodelEncoder\u001b[0m\u001b[1;33m.\u001b[0m\u001b[0mcompile\u001b[0m\u001b[1;33m(\u001b[0m\u001b[0mloss\u001b[0m\u001b[1;33m=\u001b[0m\u001b[1;34m'mean_squared_error'\u001b[0m\u001b[1;33m,\u001b[0m \u001b[0moptimizer\u001b[0m\u001b[1;33m=\u001b[0m\u001b[1;34m'Adam'\u001b[0m\u001b[1;33m)\u001b[0m\u001b[1;33m\u001b[0m\u001b[0m\n\u001b[1;32m---> 16\u001b[1;33m \u001b[0mhe\u001b[0m \u001b[1;33m=\u001b[0m \u001b[0mmodelEncoder\u001b[0m\u001b[1;33m.\u001b[0m\u001b[0mfit\u001b[0m\u001b[1;33m(\u001b[0m\u001b[0mx_train\u001b[0m\u001b[1;33m,\u001b[0m \u001b[0my_train\u001b[0m\u001b[1;33m,\u001b[0m \u001b[0mepochs\u001b[0m\u001b[1;33m=\u001b[0m\u001b[1;36m100\u001b[0m\u001b[1;33m,\u001b[0m \u001b[0mvalidation_data\u001b[0m\u001b[1;33m=\u001b[0m\u001b[1;33m(\u001b[0m\u001b[0mx_test\u001b[0m\u001b[1;33m,\u001b[0m \u001b[0my_test\u001b[0m\u001b[1;33m)\u001b[0m\u001b[1;33m)\u001b[0m\u001b[1;33m\u001b[0m\u001b[0m\n\u001b[0m",
      "\u001b[1;32mc:\\program files (x86)\\microsoft visual studio\\shared\\python36_64\\lib\\site-packages\\keras\\models.py\u001b[0m in \u001b[0;36mfit\u001b[1;34m(self, x, y, batch_size, epochs, verbose, callbacks, validation_split, validation_data, shuffle, class_weight, sample_weight, initial_epoch, steps_per_epoch, validation_steps, **kwargs)\u001b[0m\n\u001b[0;32m    961\u001b[0m                               \u001b[0minitial_epoch\u001b[0m\u001b[1;33m=\u001b[0m\u001b[0minitial_epoch\u001b[0m\u001b[1;33m,\u001b[0m\u001b[1;33m\u001b[0m\u001b[0m\n\u001b[0;32m    962\u001b[0m                               \u001b[0msteps_per_epoch\u001b[0m\u001b[1;33m=\u001b[0m\u001b[0msteps_per_epoch\u001b[0m\u001b[1;33m,\u001b[0m\u001b[1;33m\u001b[0m\u001b[0m\n\u001b[1;32m--> 963\u001b[1;33m                               validation_steps=validation_steps)\n\u001b[0m\u001b[0;32m    964\u001b[0m \u001b[1;33m\u001b[0m\u001b[0m\n\u001b[0;32m    965\u001b[0m     def evaluate(self, x=None, y=None,\n",
      "\u001b[1;32mc:\\program files (x86)\\microsoft visual studio\\shared\\python36_64\\lib\\site-packages\\keras\\engine\\training.py\u001b[0m in \u001b[0;36mfit\u001b[1;34m(self, x, y, batch_size, epochs, verbose, callbacks, validation_split, validation_data, shuffle, class_weight, sample_weight, initial_epoch, steps_per_epoch, validation_steps, **kwargs)\u001b[0m\n\u001b[0;32m   1710\u001b[0m                               \u001b[0minitial_epoch\u001b[0m\u001b[1;33m=\u001b[0m\u001b[0minitial_epoch\u001b[0m\u001b[1;33m,\u001b[0m\u001b[1;33m\u001b[0m\u001b[0m\n\u001b[0;32m   1711\u001b[0m                               \u001b[0msteps_per_epoch\u001b[0m\u001b[1;33m=\u001b[0m\u001b[0msteps_per_epoch\u001b[0m\u001b[1;33m,\u001b[0m\u001b[1;33m\u001b[0m\u001b[0m\n\u001b[1;32m-> 1712\u001b[1;33m                               validation_steps=validation_steps)\n\u001b[0m\u001b[0;32m   1713\u001b[0m \u001b[1;33m\u001b[0m\u001b[0m\n\u001b[0;32m   1714\u001b[0m     def evaluate(self, x=None, y=None,\n",
      "\u001b[1;32mc:\\program files (x86)\\microsoft visual studio\\shared\\python36_64\\lib\\site-packages\\keras\\engine\\training.py\u001b[0m in \u001b[0;36m_fit_loop\u001b[1;34m(self, f, ins, out_labels, batch_size, epochs, verbose, callbacks, val_f, val_ins, shuffle, callback_metrics, initial_epoch, steps_per_epoch, validation_steps)\u001b[0m\n\u001b[0;32m   1221\u001b[0m                             \u001b[0mins_batch\u001b[0m \u001b[1;33m=\u001b[0m \u001b[0m_slice_arrays\u001b[0m\u001b[1;33m(\u001b[0m\u001b[0mins\u001b[0m\u001b[1;33m[\u001b[0m\u001b[1;33m:\u001b[0m\u001b[1;33m-\u001b[0m\u001b[1;36m1\u001b[0m\u001b[1;33m]\u001b[0m\u001b[1;33m,\u001b[0m \u001b[0mbatch_ids\u001b[0m\u001b[1;33m)\u001b[0m \u001b[1;33m+\u001b[0m \u001b[1;33m[\u001b[0m\u001b[0mins\u001b[0m\u001b[1;33m[\u001b[0m\u001b[1;33m-\u001b[0m\u001b[1;36m1\u001b[0m\u001b[1;33m]\u001b[0m\u001b[1;33m]\u001b[0m\u001b[1;33m\u001b[0m\u001b[0m\n\u001b[0;32m   1222\u001b[0m                         \u001b[1;32melse\u001b[0m\u001b[1;33m:\u001b[0m\u001b[1;33m\u001b[0m\u001b[0m\n\u001b[1;32m-> 1223\u001b[1;33m                             \u001b[0mins_batch\u001b[0m \u001b[1;33m=\u001b[0m \u001b[0m_slice_arrays\u001b[0m\u001b[1;33m(\u001b[0m\u001b[0mins\u001b[0m\u001b[1;33m,\u001b[0m \u001b[0mbatch_ids\u001b[0m\u001b[1;33m)\u001b[0m\u001b[1;33m\u001b[0m\u001b[0m\n\u001b[0m\u001b[0;32m   1224\u001b[0m                     \u001b[1;32mexcept\u001b[0m \u001b[0mTypeError\u001b[0m\u001b[1;33m:\u001b[0m\u001b[1;33m\u001b[0m\u001b[0m\n\u001b[0;32m   1225\u001b[0m                         raise TypeError('TypeError while preparing batch. '\n",
      "\u001b[1;32mc:\\program files (x86)\\microsoft visual studio\\shared\\python36_64\\lib\\site-packages\\keras\\engine\\training.py\u001b[0m in \u001b[0;36m_slice_arrays\u001b[1;34m(arrays, start, stop)\u001b[0m\n\u001b[0;32m    383\u001b[0m             \u001b[1;32mif\u001b[0m \u001b[0mhasattr\u001b[0m\u001b[1;33m(\u001b[0m\u001b[0mstart\u001b[0m\u001b[1;33m,\u001b[0m \u001b[1;34m'shape'\u001b[0m\u001b[1;33m)\u001b[0m\u001b[1;33m:\u001b[0m\u001b[1;33m\u001b[0m\u001b[0m\n\u001b[0;32m    384\u001b[0m                 \u001b[0mstart\u001b[0m \u001b[1;33m=\u001b[0m \u001b[0mstart\u001b[0m\u001b[1;33m.\u001b[0m\u001b[0mtolist\u001b[0m\u001b[1;33m(\u001b[0m\u001b[1;33m)\u001b[0m\u001b[1;33m\u001b[0m\u001b[0m\n\u001b[1;32m--> 385\u001b[1;33m             \u001b[1;32mreturn\u001b[0m \u001b[1;33m[\u001b[0m\u001b[1;32mNone\u001b[0m \u001b[1;32mif\u001b[0m \u001b[0mx\u001b[0m \u001b[1;32mis\u001b[0m \u001b[1;32mNone\u001b[0m \u001b[1;32melse\u001b[0m \u001b[0mx\u001b[0m\u001b[1;33m[\u001b[0m\u001b[0mstart\u001b[0m\u001b[1;33m]\u001b[0m \u001b[1;32mfor\u001b[0m \u001b[0mx\u001b[0m \u001b[1;32min\u001b[0m \u001b[0marrays\u001b[0m\u001b[1;33m]\u001b[0m\u001b[1;33m\u001b[0m\u001b[0m\n\u001b[0m\u001b[0;32m    386\u001b[0m         \u001b[1;32melse\u001b[0m\u001b[1;33m:\u001b[0m\u001b[1;33m\u001b[0m\u001b[0m\n\u001b[0;32m    387\u001b[0m             \u001b[1;32mreturn\u001b[0m \u001b[1;33m[\u001b[0m\u001b[1;32mNone\u001b[0m \u001b[1;32mif\u001b[0m \u001b[0mx\u001b[0m \u001b[1;32mis\u001b[0m \u001b[1;32mNone\u001b[0m \u001b[1;32melse\u001b[0m \u001b[0mx\u001b[0m\u001b[1;33m[\u001b[0m\u001b[0mstart\u001b[0m\u001b[1;33m:\u001b[0m\u001b[0mstop\u001b[0m\u001b[1;33m]\u001b[0m \u001b[1;32mfor\u001b[0m \u001b[0mx\u001b[0m \u001b[1;32min\u001b[0m \u001b[0marrays\u001b[0m\u001b[1;33m]\u001b[0m\u001b[1;33m\u001b[0m\u001b[0m\n",
      "\u001b[1;32mc:\\program files (x86)\\microsoft visual studio\\shared\\python36_64\\lib\\site-packages\\keras\\engine\\training.py\u001b[0m in \u001b[0;36m<listcomp>\u001b[1;34m(.0)\u001b[0m\n\u001b[0;32m    383\u001b[0m             \u001b[1;32mif\u001b[0m \u001b[0mhasattr\u001b[0m\u001b[1;33m(\u001b[0m\u001b[0mstart\u001b[0m\u001b[1;33m,\u001b[0m \u001b[1;34m'shape'\u001b[0m\u001b[1;33m)\u001b[0m\u001b[1;33m:\u001b[0m\u001b[1;33m\u001b[0m\u001b[0m\n\u001b[0;32m    384\u001b[0m                 \u001b[0mstart\u001b[0m \u001b[1;33m=\u001b[0m \u001b[0mstart\u001b[0m\u001b[1;33m.\u001b[0m\u001b[0mtolist\u001b[0m\u001b[1;33m(\u001b[0m\u001b[1;33m)\u001b[0m\u001b[1;33m\u001b[0m\u001b[0m\n\u001b[1;32m--> 385\u001b[1;33m             \u001b[1;32mreturn\u001b[0m \u001b[1;33m[\u001b[0m\u001b[1;32mNone\u001b[0m \u001b[1;32mif\u001b[0m \u001b[0mx\u001b[0m \u001b[1;32mis\u001b[0m \u001b[1;32mNone\u001b[0m \u001b[1;32melse\u001b[0m \u001b[0mx\u001b[0m\u001b[1;33m[\u001b[0m\u001b[0mstart\u001b[0m\u001b[1;33m]\u001b[0m \u001b[1;32mfor\u001b[0m \u001b[0mx\u001b[0m \u001b[1;32min\u001b[0m \u001b[0marrays\u001b[0m\u001b[1;33m]\u001b[0m\u001b[1;33m\u001b[0m\u001b[0m\n\u001b[0m\u001b[0;32m    386\u001b[0m         \u001b[1;32melse\u001b[0m\u001b[1;33m:\u001b[0m\u001b[1;33m\u001b[0m\u001b[0m\n\u001b[0;32m    387\u001b[0m             \u001b[1;32mreturn\u001b[0m \u001b[1;33m[\u001b[0m\u001b[1;32mNone\u001b[0m \u001b[1;32mif\u001b[0m \u001b[0mx\u001b[0m \u001b[1;32mis\u001b[0m \u001b[1;32mNone\u001b[0m \u001b[1;32melse\u001b[0m \u001b[0mx\u001b[0m\u001b[1;33m[\u001b[0m\u001b[0mstart\u001b[0m\u001b[1;33m:\u001b[0m\u001b[0mstop\u001b[0m\u001b[1;33m]\u001b[0m \u001b[1;32mfor\u001b[0m \u001b[0mx\u001b[0m \u001b[1;32min\u001b[0m \u001b[0marrays\u001b[0m\u001b[1;33m]\u001b[0m\u001b[1;33m\u001b[0m\u001b[0m\n",
      "\u001b[1;31mKeyboardInterrupt\u001b[0m: "
     ]
    }
   ],
   "source": [
    "x_train = training.reshape((len(training), np.prod(training.shape[1:])))\n",
    "y_train = training_angle.reshape((len(training_angle), np.prod(training_angle.shape[1:])))\n",
    "\n",
    "x_test = test.reshape((len(test), np.prod(test.shape[1:])))\n",
    "y_test = test_angle.reshape((len(test_angle), np.prod(test_angle.shape[1:])))\n",
    "\n",
    "modelEncoder = Sequential()\n",
    "modelEncoder.add(Dense(1000, input_shape=(19200,)))\n",
    "modelEncoder.add(Activation('relu'))\n",
    "modelEncoder.add(Dense(1000, input_shape=(19200,)))\n",
    "modelEncoder.add(Activation('relu'))\n",
    "modelEncoder.add(Dense(100, input_shape=(1000,)))\n",
    "modelEncoder.add(Activation('relu'))\n",
    "modelEncoder.add(Dense(4))\n",
    "modelEncoder.compile(loss='mean_squared_error', optimizer='Adam')\n",
    "he = modelEncoder.fit(x_train, y_train, epochs=100, validation_data=(x_test, y_test))"
   ]
  },
  {
   "cell_type": "code",
   "execution_count": 6,
   "metadata": {},
   "outputs": [
    {
     "name": "stdout",
     "output_type": "stream",
     "text": [
      "Train on 32000 samples, validate on 8000 samples\n",
      "Epoch 1/20\n",
      "32000/32000 [==============================] - 51s 2ms/step - loss: 3.0750e-04 - val_loss: 1.5612e-04\n",
      "Epoch 2/20\n",
      "32000/32000 [==============================] - 46s 1ms/step - loss: 1.2765e-04 - val_loss: 1.0665e-04\n",
      "Epoch 3/20\n",
      "32000/32000 [==============================] - 46s 1ms/step - loss: 9.7094e-05 - val_loss: 8.7520e-05\n",
      "Epoch 4/20\n",
      "32000/32000 [==============================] - 46s 1ms/step - loss: 8.2653e-05 - val_loss: 7.6302e-05\n",
      "Epoch 5/20\n",
      "32000/32000 [==============================] - 47s 1ms/step - loss: 7.4045e-05 - val_loss: 7.0744e-05\n",
      "Epoch 6/20\n",
      "32000/32000 [==============================] - 47s 1ms/step - loss: 6.8190e-05 - val_loss: 6.4986e-05\n",
      "Epoch 7/20\n",
      "32000/32000 [==============================] - 46s 1ms/step - loss: 6.3599e-05 - val_loss: 6.2040e-05\n",
      "Epoch 8/20\n",
      "32000/32000 [==============================] - 47s 1ms/step - loss: 6.0251e-05 - val_loss: 5.8438e-05\n",
      "Epoch 9/20\n",
      "32000/32000 [==============================] - 48s 2ms/step - loss: 5.7575e-05 - val_loss: 5.5870e-05\n",
      "Epoch 10/20\n",
      "32000/32000 [==============================] - 47s 1ms/step - loss: 5.4910e-05 - val_loss: 5.3721e-05\n",
      "Epoch 11/20\n",
      "32000/32000 [==============================] - 47s 1ms/step - loss: 5.2797e-05 - val_loss: 5.1828e-05\n",
      "Epoch 12/20\n",
      "32000/32000 [==============================] - 47s 1ms/step - loss: 5.0883e-05 - val_loss: 5.0509e-05\n",
      "Epoch 13/20\n",
      "32000/32000 [==============================] - 47s 1ms/step - loss: 4.9615e-05 - val_loss: 4.9044e-05\n",
      "Epoch 14/20\n",
      "32000/32000 [==============================] - 46s 1ms/step - loss: 4.7966e-05 - val_loss: 4.7999e-05\n",
      "Epoch 15/20\n",
      "32000/32000 [==============================] - 46s 1ms/step - loss: 4.6370e-05 - val_loss: 4.5736e-05\n",
      "Epoch 16/20\n",
      "32000/32000 [==============================] - 46s 1ms/step - loss: 4.5348e-05 - val_loss: 4.6294e-05\n",
      "Epoch 17/20\n",
      "32000/32000 [==============================] - 47s 1ms/step - loss: 4.4204e-05 - val_loss: 4.5282e-05\n",
      "Epoch 18/20\n",
      "32000/32000 [==============================] - 47s 1ms/step - loss: 4.3435e-05 - val_loss: 4.3994e-05\n",
      "Epoch 19/20\n",
      "32000/32000 [==============================] - 47s 1ms/step - loss: 4.2384e-05 - val_loss: 4.2673e-05\n",
      "Epoch 20/20\n",
      "32000/32000 [==============================] - 47s 1ms/step - loss: 4.1411e-05 - val_loss: 4.2132e-05\n"
     ]
    },
    {
     "data": {
      "text/plain": [
       "<keras.callbacks.History at 0x2267f416b70>"
      ]
     },
     "execution_count": 6,
     "metadata": {},
     "output_type": "execute_result"
    }
   ],
   "source": [
    "x_train = training.reshape((len(training), np.prod(training.shape[1:])))\n",
    "y_train = training_angle.reshape((len(training_angle), np.prod(training_angle.shape[1:])))\n",
    "\n",
    "x_test = test.reshape((len(test), np.prod(test.shape[1:])))\n",
    "y_test = test_angle.reshape((len(test_angle), np.prod(test_angle.shape[1:])))\n",
    "\n",
    "modelDecoder = Sequential()\n",
    "modelDecoder.add(Dense(100, input_shape=(4,)))\n",
    "modelDecoder.add(Activation('relu'))\n",
    "modelDecoder.add(Dense(1000, input_shape=(100,)))\n",
    "modelDecoder.add(Activation('relu'))\n",
    "modelDecoder.add(Dense(1000, input_shape=(1000,)))\n",
    "modelDecoder.add(Activation('relu'))\n",
    "modelDecoder.add(Dense(19200))\n",
    "modelDecoder.compile(loss='mean_squared_error', optimizer='Adam')\n",
    "modelDecoder.fit(y_train, x_train, epochs=100, validation_data=(y_test, x_test))"
   ]
  },
  {
   "cell_type": "code",
   "execution_count": 16,
   "metadata": {},
   "outputs": [
    {
     "ename": "NameError",
     "evalue": "name 'he' is not defined",
     "output_type": "error",
     "traceback": [
      "\u001b[1;31m---------------------------------------------------------------------------\u001b[0m",
      "\u001b[1;31mNameError\u001b[0m                                 Traceback (most recent call last)",
      "\u001b[1;32m<ipython-input-16-75d3ec0efe48>\u001b[0m in \u001b[0;36m<module>\u001b[1;34m()\u001b[0m\n\u001b[1;32m----> 1\u001b[1;33m \u001b[0mhe\u001b[0m\u001b[1;33m\u001b[0m\u001b[0m\n\u001b[0m",
      "\u001b[1;31mNameError\u001b[0m: name 'he' is not defined"
     ]
    }
   ],
   "source": [
    "he\n"
   ]
  },
  {
   "cell_type": "code",
   "execution_count": 96,
   "metadata": {},
   "outputs": [
    {
     "data": {
      "text/plain": [
       "(8000, 4)"
      ]
     },
     "execution_count": 96,
     "metadata": {},
     "output_type": "execute_result"
    }
   ],
   "source": [
    "test_angle.shape"
   ]
  },
  {
   "cell_type": "code",
   "execution_count": 97,
   "metadata": {},
   "outputs": [
    {
     "data": {
      "text/plain": [
       "(4,)"
      ]
     },
     "execution_count": 97,
     "metadata": {},
     "output_type": "execute_result"
    }
   ],
   "source": [
    "y_test[0].shape"
   ]
  },
  {
   "cell_type": "code",
   "execution_count": 7,
   "metadata": {},
   "outputs": [],
   "source": [
    "output = modelDecoder.predict(y_test[0:])"
   ]
  },
  {
   "cell_type": "code",
   "execution_count": 8,
   "metadata": {},
   "outputs": [],
   "source": [
    "a = output[0].reshape(120,160)"
   ]
  },
  {
   "cell_type": "code",
   "execution_count": 9,
   "metadata": {},
   "outputs": [
    {
     "data": {
      "text/plain": [
       "array([0.12054431, 0.12054431, 0.12054431, ..., 0.        , 0.        ,\n",
       "       0.        ])"
      ]
     },
     "execution_count": 9,
     "metadata": {},
     "output_type": "execute_result"
    }
   ],
   "source": [
    "x_test[0]"
   ]
  },
  {
   "cell_type": "code",
   "execution_count": 10,
   "metadata": {},
   "outputs": [
    {
     "name": "stderr",
     "output_type": "stream",
     "text": [
      "c:\\program files (x86)\\microsoft visual studio\\shared\\python36_64\\lib\\site-packages\\skimage\\io\\_plugins\\matplotlib_plugin.py:51: FutureWarning: Conversion of the second argument of issubdtype from `float` to `np.floating` is deprecated. In future, it will be treated as `np.float64 == np.dtype(float).type`.\n",
      "  out_of_range_float = (np.issubdtype(image.dtype, np.float) and\n",
      "c:\\program files (x86)\\microsoft visual studio\\shared\\python36_64\\lib\\site-packages\\matplotlib\\axes\\_base.py:1400: MatplotlibDeprecationWarning: The 'box-forced' keyword argument is deprecated since 2.2.\n",
      "  \" since 2.2.\", cbook.mplDeprecation)\n"
     ]
    },
    {
     "data": {
      "text/plain": [
       "<matplotlib.image.AxesImage at 0x2282d09c668>"
      ]
     },
     "execution_count": 10,
     "metadata": {},
     "output_type": "execute_result"
    },
    {
     "data": {
      "image/png": "[encoded data removed]",
      "text/plain": [
       "<Figure size 432x288 with 2 Axes>"
      ]
     },
     "metadata": {},
     "output_type": "display_data"
    }
   ],
   "source": [
    "skimage.io.imshow(a)"
   ]
  },
  {
   "cell_type": "code",
   "execution_count": 11,
   "metadata": {},
   "outputs": [],
   "source": [
    "b = x_test[0].reshape(120, 160)"
   ]
  },
  {
   "cell_type": "code",
   "execution_count": 12,
   "metadata": {},
   "outputs": [
    {
     "name": "stderr",
     "output_type": "stream",
     "text": [
      "c:\\program files (x86)\\microsoft visual studio\\shared\\python36_64\\lib\\site-packages\\skimage\\io\\_plugins\\matplotlib_plugin.py:51: FutureWarning: Conversion of the second argument of issubdtype from `float` to `np.floating` is deprecated. In future, it will be treated as `np.float64 == np.dtype(float).type`.\n",
      "  out_of_range_float = (np.issubdtype(image.dtype, np.float) and\n",
      "c:\\program files (x86)\\microsoft visual studio\\shared\\python36_64\\lib\\site-packages\\matplotlib\\axes\\_base.py:1400: MatplotlibDeprecationWarning: The 'box-forced' keyword argument is deprecated since 2.2.\n",
      "  \" since 2.2.\", cbook.mplDeprecation)\n"
     ]
    },
    {
     "data": {
      "text/plain": [
       "<matplotlib.image.AxesImage at 0x2282d0c09b0>"
      ]
     },
     "execution_count": 12,
     "metadata": {},
     "output_type": "execute_result"
    },
    {
     "data": {
      "image/png": "[encoded data removed]",
      "text/plain": [
       "<Figure size 432x288 with 1 Axes>"
      ]
     },
     "metadata": {},
     "output_type": "display_data"
    }
   ],
   "source": [
    "skimage.io.imshow(b)"
   ]
  },
  {
   "cell_type": "code",
   "execution_count": 107,
   "metadata": {},
   "outputs": [],
   "source": [
    "np.save('X.dat', X)\n",
    "np.save('Y.dat', Y)"
   ]
  },
  {
   "cell_type": "code",
   "execution_count": 13,
   "metadata": {},
   "outputs": [],
   "source": [
    "output = None"
   ]
  },
  {
   "cell_type": "code",
   "execution_count": 17,
   "metadata": {},
   "outputs": [
    {
     "name": "stdout",
     "output_type": "stream",
     "text": [
      "Train on 32000 samples, validate on 8000 samples\n",
      "Epoch 1/100\n",
      "32000/32000 [==============================] - 46s 1ms/step - loss: 0.0101 - val_loss: 0.0044\n",
      "Epoch 2/100\n",
      "32000/32000 [==============================] - 45s 1ms/step - loss: 0.0025 - val_loss: 0.0018\n",
      "Epoch 3/100\n",
      "32000/32000 [==============================] - 45s 1ms/step - loss: 0.0014 - val_loss: 0.0013\n",
      "Epoch 4/100\n",
      "32000/32000 [==============================] - 45s 1ms/step - loss: 0.0012 - val_loss: 0.0013\n",
      "Epoch 5/100\n",
      "32000/32000 [==============================] - 45s 1ms/step - loss: 0.0010 - val_loss: 0.0014\n",
      "Epoch 6/100\n",
      "32000/32000 [==============================] - 45s 1ms/step - loss: 9.0085e-04 - val_loss: 8.2680e-04\n",
      "Epoch 7/100\n",
      "32000/32000 [==============================] - 45s 1ms/step - loss: 7.8234e-04 - val_loss: 8.9047e-04\n",
      "Epoch 8/100\n",
      "32000/32000 [==============================] - 45s 1ms/step - loss: 6.9973e-04 - val_loss: 7.2952e-04\n",
      "Epoch 9/100\n",
      "32000/32000 [==============================] - 45s 1ms/step - loss: 6.2310e-04 - val_loss: 5.2490e-04\n",
      "Epoch 10/100\n",
      "32000/32000 [==============================] - 45s 1ms/step - loss: 5.0494e-04 - val_loss: 6.4417e-04\n",
      "Epoch 11/100\n",
      "32000/32000 [==============================] - 45s 1ms/step - loss: 5.2292e-04 - val_loss: 5.5894e-04\n",
      "Epoch 12/100\n",
      "32000/32000 [==============================] - 45s 1ms/step - loss: 4.8034e-04 - val_loss: 4.7291e-04\n",
      "Epoch 13/100\n",
      "32000/32000 [==============================] - 45s 1ms/step - loss: 4.4688e-04 - val_loss: 5.4582e-04\n",
      "Epoch 14/100\n",
      "32000/32000 [==============================] - 45s 1ms/step - loss: 3.9581e-04 - val_loss: 4.8826e-04\n",
      "Epoch 15/100\n",
      "32000/32000 [==============================] - 45s 1ms/step - loss: 3.7628e-04 - val_loss: 3.7042e-04\n",
      "Epoch 16/100\n",
      "32000/32000 [==============================] - 45s 1ms/step - loss: 3.4834e-04 - val_loss: 5.1203e-04\n",
      "Epoch 17/100\n",
      "32000/32000 [==============================] - 45s 1ms/step - loss: 3.2922e-04 - val_loss: 6.4508e-04\n",
      "Epoch 18/100\n",
      "32000/32000 [==============================] - 45s 1ms/step - loss: 3.2017e-04 - val_loss: 5.1969e-04\n",
      "Epoch 19/100\n",
      "32000/32000 [==============================] - 45s 1ms/step - loss: 3.0852e-04 - val_loss: 4.4529e-04\n",
      "Epoch 20/100\n",
      "32000/32000 [==============================] - 45s 1ms/step - loss: 2.8451e-04 - val_loss: 3.1516e-04\n",
      "Epoch 21/100\n",
      "32000/32000 [==============================] - 45s 1ms/step - loss: 2.6196e-04 - val_loss: 3.9296e-04\n",
      "Epoch 22/100\n",
      "32000/32000 [==============================] - 45s 1ms/step - loss: 2.7005e-04 - val_loss: 4.4654e-04\n",
      "Epoch 23/100\n",
      "32000/32000 [==============================] - 45s 1ms/step - loss: 2.5204e-04 - val_loss: 3.2716e-04\n",
      "Epoch 24/100\n",
      "32000/32000 [==============================] - 46s 1ms/step - loss: 2.4286e-04 - val_loss: 3.4274e-04\n",
      "Epoch 25/100\n",
      "32000/32000 [==============================] - 45s 1ms/step - loss: 2.3765e-04 - val_loss: 3.7834e-04\n",
      "Epoch 26/100\n",
      "32000/32000 [==============================] - 45s 1ms/step - loss: 2.2366e-04 - val_loss: 2.9600e-04\n",
      "Epoch 27/100\n",
      "32000/32000 [==============================] - 45s 1ms/step - loss: 2.2200e-04 - val_loss: 3.9221e-04\n",
      "Epoch 28/100\n",
      "32000/32000 [==============================] - 45s 1ms/step - loss: 2.2207e-04 - val_loss: 3.7604e-04\n",
      "Epoch 29/100\n",
      "32000/32000 [==============================] - 45s 1ms/step - loss: 2.1190e-04 - val_loss: 3.2440e-04\n",
      "Epoch 30/100\n",
      "32000/32000 [==============================] - 45s 1ms/step - loss: 2.0167e-04 - val_loss: 2.7904e-04\n",
      "Epoch 31/100\n",
      "32000/32000 [==============================] - 45s 1ms/step - loss: 2.0373e-04 - val_loss: 3.3354e-04\n",
      "Epoch 32/100\n",
      "32000/32000 [==============================] - 45s 1ms/step - loss: 1.9397e-04 - val_loss: 3.0102e-04\n",
      "Epoch 33/100\n",
      "32000/32000 [==============================] - 45s 1ms/step - loss: 1.9100e-04 - val_loss: 4.2066e-04\n",
      "Epoch 34/100\n",
      "32000/32000 [==============================] - 45s 1ms/step - loss: 1.9129e-04 - val_loss: 3.5386e-04\n",
      "Epoch 35/100\n",
      "32000/32000 [==============================] - 45s 1ms/step - loss: 1.7996e-04 - val_loss: 3.6393e-04\n",
      "Epoch 36/100\n",
      "32000/32000 [==============================] - 45s 1ms/step - loss: 1.7593e-04 - val_loss: 3.1928e-04\n",
      "Epoch 37/100\n",
      "32000/32000 [==============================] - 45s 1ms/step - loss: 1.7106e-04 - val_loss: 2.9315e-04\n",
      "Epoch 38/100\n",
      "32000/32000 [==============================] - 45s 1ms/step - loss: 1.9251e-04 - val_loss: 2.8526e-04\n",
      "Epoch 39/100\n",
      "32000/32000 [==============================] - 45s 1ms/step - loss: 1.6390e-04 - val_loss: 2.8327e-04\n",
      "Epoch 40/100\n",
      "32000/32000 [==============================] - 45s 1ms/step - loss: 1.6425e-04 - val_loss: 2.5589e-04\n",
      "Epoch 41/100\n",
      "32000/32000 [==============================] - 45s 1ms/step - loss: 1.7003e-04 - val_loss: 2.6027e-04\n",
      "Epoch 42/100\n",
      "32000/32000 [==============================] - 45s 1ms/step - loss: 1.7126e-04 - val_loss: 2.6841e-04\n",
      "Epoch 43/100\n",
      "32000/32000 [==============================] - 45s 1ms/step - loss: 1.3801e-04 - val_loss: 2.8030e-04\n",
      "Epoch 44/100\n",
      "32000/32000 [==============================] - 45s 1ms/step - loss: 1.6571e-04 - val_loss: 3.0689e-04\n",
      "Epoch 45/100\n",
      "32000/32000 [==============================] - 45s 1ms/step - loss: 1.4979e-04 - val_loss: 2.3314e-04\n",
      "Epoch 46/100\n",
      "32000/32000 [==============================] - 45s 1ms/step - loss: 1.4691e-04 - val_loss: 3.6012e-04\n",
      "Epoch 47/100\n",
      "32000/32000 [==============================] - 46s 1ms/step - loss: 1.5261e-04 - val_loss: 3.9030e-04\n",
      "Epoch 48/100\n",
      "32000/32000 [==============================] - 45s 1ms/step - loss: 1.4160e-04 - val_loss: 2.1449e-04\n",
      "Epoch 49/100\n",
      "32000/32000 [==============================] - 45s 1ms/step - loss: 1.3688e-04 - val_loss: 2.2991e-04\n",
      "Epoch 50/100\n",
      "32000/32000 [==============================] - 45s 1ms/step - loss: 1.5059e-04 - val_loss: 3.1728e-04\n",
      "Epoch 51/100\n",
      "32000/32000 [==============================] - 45s 1ms/step - loss: 1.3179e-04 - val_loss: 3.3481e-04\n",
      "Epoch 52/100\n",
      "32000/32000 [==============================] - 45s 1ms/step - loss: 1.4580e-04 - val_loss: 2.5495e-04\n",
      "Epoch 53/100\n",
      "32000/32000 [==============================] - 45s 1ms/step - loss: 1.3488e-04 - val_loss: 2.9387e-04\n",
      "Epoch 54/100\n",
      "32000/32000 [==============================] - 45s 1ms/step - loss: 1.4335e-04 - val_loss: 2.4868e-04\n",
      "Epoch 55/100\n",
      "32000/32000 [==============================] - 45s 1ms/step - loss: 1.3187e-04 - val_loss: 2.3214e-04\n",
      "Epoch 56/100\n",
      "32000/32000 [==============================] - 45s 1ms/step - loss: 1.3126e-04 - val_loss: 2.0616e-04\n",
      "Epoch 57/100\n",
      "32000/32000 [==============================] - 45s 1ms/step - loss: 1.2026e-04 - val_loss: 2.0666e-04\n",
      "Epoch 58/100\n",
      "32000/32000 [==============================] - 45s 1ms/step - loss: 1.2314e-04 - val_loss: 2.5529e-04\n",
      "Epoch 59/100\n",
      "32000/32000 [==============================] - 45s 1ms/step - loss: 1.3693e-04 - val_loss: 2.2495e-04\n",
      "Epoch 60/100\n",
      "32000/32000 [==============================] - 45s 1ms/step - loss: 1.2990e-04 - val_loss: 2.1875e-04\n",
      "Epoch 61/100\n",
      "32000/32000 [==============================] - 45s 1ms/step - loss: 1.2534e-04 - val_loss: 2.5342e-04\n",
      "Epoch 62/100\n",
      "32000/32000 [==============================] - 45s 1ms/step - loss: 1.1409e-04 - val_loss: 2.1799e-04\n",
      "Epoch 63/100\n",
      "32000/32000 [==============================] - 45s 1ms/step - loss: 1.3110e-04 - val_loss: 2.9394e-04\n",
      "Epoch 64/100\n",
      "32000/32000 [==============================] - 45s 1ms/step - loss: 1.1935e-04 - val_loss: 2.3024e-04\n",
      "Epoch 65/100\n",
      "32000/32000 [==============================] - 45s 1ms/step - loss: 1.1574e-04 - val_loss: 2.5620e-04\n",
      "Epoch 66/100\n",
      "32000/32000 [==============================] - 45s 1ms/step - loss: 1.2346e-04 - val_loss: 2.3783e-04\n",
      "Epoch 67/100\n",
      "32000/32000 [==============================] - 45s 1ms/step - loss: 1.1090e-04 - val_loss: 2.1587e-04\n",
      "Epoch 68/100\n",
      "32000/32000 [==============================] - 46s 1ms/step - loss: 1.1798e-04 - val_loss: 2.2187e-04\n",
      "Epoch 69/100\n",
      "32000/32000 [==============================] - 44s 1ms/step - loss: 1.2051e-04 - val_loss: 2.3445e-04\n",
      "Epoch 70/100\n",
      "32000/32000 [==============================] - 45s 1ms/step - loss: 1.1095e-04 - val_loss: 2.9119e-04\n",
      "Epoch 71/100\n",
      "32000/32000 [==============================] - 45s 1ms/step - loss: 1.2173e-04 - val_loss: 2.8588e-04\n",
      "Epoch 72/100\n",
      "32000/32000 [==============================] - 45s 1ms/step - loss: 1.0470e-04 - val_loss: 1.9903e-04\n",
      "Epoch 73/100\n",
      "32000/32000 [==============================] - 44s 1ms/step - loss: 1.1009e-04 - val_loss: 2.3925e-04\n",
      "Epoch 74/100\n",
      "32000/32000 [==============================] - 45s 1ms/step - loss: 1.1344e-04 - val_loss: 2.3202e-04\n",
      "Epoch 75/100\n",
      "32000/32000 [==============================] - 45s 1ms/step - loss: 1.0833e-04 - val_loss: 2.6034e-04\n",
      "Epoch 76/100\n",
      "32000/32000 [==============================] - 45s 1ms/step - loss: 1.0430e-04 - val_loss: 2.3879e-04\n",
      "Epoch 77/100\n",
      "32000/32000 [==============================] - 45s 1ms/step - loss: 1.0627e-04 - val_loss: 2.1056e-04\n",
      "Epoch 78/100\n",
      "32000/32000 [==============================] - 44s 1ms/step - loss: 1.1064e-04 - val_loss: 2.9170e-04\n",
      "Epoch 79/100\n",
      "32000/32000 [==============================] - 45s 1ms/step - loss: 9.7960e-05 - val_loss: 2.7065e-04\n",
      "Epoch 80/100\n",
      "32000/32000 [==============================] - 45s 1ms/step - loss: 9.8276e-05 - val_loss: 2.5167e-04\n",
      "Epoch 81/100\n",
      "32000/32000 [==============================] - 45s 1ms/step - loss: 9.7176e-05 - val_loss: 2.3164e-04\n",
      "Epoch 82/100\n",
      "32000/32000 [==============================] - 45s 1ms/step - loss: 1.0690e-04 - val_loss: 1.9921e-04\n",
      "Epoch 83/100\n",
      "32000/32000 [==============================] - 45s 1ms/step - loss: 9.9765e-05 - val_loss: 2.0050e-04\n",
      "Epoch 84/100\n",
      "32000/32000 [==============================] - 45s 1ms/step - loss: 9.9093e-05 - val_loss: 2.4192e-04\n",
      "Epoch 85/100\n",
      "32000/32000 [==============================] - 45s 1ms/step - loss: 1.0221e-04 - val_loss: 2.2582e-04\n",
      "Epoch 86/100\n",
      "32000/32000 [==============================] - 45s 1ms/step - loss: 9.5867e-05 - val_loss: 2.0990e-04\n",
      "Epoch 87/100\n",
      "32000/32000 [==============================] - 45s 1ms/step - loss: 1.1016e-04 - val_loss: 2.0363e-04\n",
      "Epoch 88/100\n",
      "32000/32000 [==============================] - 45s 1ms/step - loss: 9.6126e-05 - val_loss: 1.8711e-04\n",
      "Epoch 89/100\n",
      "32000/32000 [==============================] - 45s 1ms/step - loss: 9.5412e-05 - val_loss: 2.0557e-04\n",
      "Epoch 90/100\n",
      "32000/32000 [==============================] - 45s 1ms/step - loss: 8.9730e-05 - val_loss: 2.1240e-04\n",
      "Epoch 91/100\n",
      "32000/32000 [==============================] - 45s 1ms/step - loss: 9.6926e-05 - val_loss: 2.4847e-04\n",
      "Epoch 92/100\n",
      "32000/32000 [==============================] - 45s 1ms/step - loss: 9.6689e-05 - val_loss: 2.2572e-04\n",
      "Epoch 93/100\n",
      "32000/32000 [==============================] - 46s 1ms/step - loss: 8.9670e-05 - val_loss: 2.3248e-04\n",
      "Epoch 94/100\n",
      "32000/32000 [==============================] - 45s 1ms/step - loss: 9.3141e-05 - val_loss: 2.1640e-04\n",
      "Epoch 95/100\n",
      "32000/32000 [==============================] - 45s 1ms/step - loss: 9.8901e-05 - val_loss: 4.7848e-04\n",
      "Epoch 96/100\n",
      "32000/32000 [==============================] - 45s 1ms/step - loss: 1.1024e-04 - val_loss: 1.9812e-04\n",
      "Epoch 97/100\n",
      "32000/32000 [==============================] - 45s 1ms/step - loss: 8.3943e-05 - val_loss: 1.9318e-04\n",
      "Epoch 98/100\n",
      "32000/32000 [==============================] - 45s 1ms/step - loss: 8.9027e-05 - val_loss: 2.4460e-04\n",
      "Epoch 99/100\n",
      "32000/32000 [==============================] - 45s 1ms/step - loss: 9.2580e-05 - val_loss: 2.1255e-04\n",
      "Epoch 100/100\n",
      "32000/32000 [==============================] - 45s 1ms/step - loss: 8.4713e-05 - val_loss: 1.8288e-04\n",
      "Train on 32000 samples, validate on 8000 samples\n",
      "Epoch 1/100\n",
      "32000/32000 [==============================] - 47s 1ms/step - loss: 3.0697e-04 - val_loss: 1.5607e-04\n",
      "Epoch 2/100\n",
      "32000/32000 [==============================] - 47s 1ms/step - loss: 1.2724e-04 - val_loss: 1.0756e-04\n",
      "Epoch 3/100\n",
      "32000/32000 [==============================] - 47s 1ms/step - loss: 9.6831e-05 - val_loss: 8.9057e-05\n",
      "Epoch 4/100\n",
      "32000/32000 [==============================] - 46s 1ms/step - loss: 8.2315e-05 - val_loss: 7.7291e-05\n",
      "Epoch 5/100\n",
      "32000/32000 [==============================] - 46s 1ms/step - loss: 7.4115e-05 - val_loss: 7.2136e-05\n",
      "Epoch 6/100\n",
      "32000/32000 [==============================] - 46s 1ms/step - loss: 6.8180e-05 - val_loss: 6.5037e-05\n",
      "Epoch 7/100\n",
      "32000/32000 [==============================] - 46s 1ms/step - loss: 6.3723e-05 - val_loss: 6.2466e-05\n",
      "Epoch 8/100\n",
      "32000/32000 [==============================] - 46s 1ms/step - loss: 6.0364e-05 - val_loss: 5.8836e-05\n",
      "Epoch 9/100\n",
      "32000/32000 [==============================] - 46s 1ms/step - loss: 5.7404e-05 - val_loss: 5.5913e-05\n",
      "Epoch 10/100\n",
      "32000/32000 [==============================] - 46s 1ms/step - loss: 5.4700e-05 - val_loss: 5.4510e-05\n",
      "Epoch 11/100\n",
      "32000/32000 [==============================] - 46s 1ms/step - loss: 5.2882e-05 - val_loss: 5.2368e-05\n",
      "Epoch 12/100\n",
      "32000/32000 [==============================] - 46s 1ms/step - loss: 5.0891e-05 - val_loss: 5.0027e-05\n",
      "Epoch 13/100\n",
      "32000/32000 [==============================] - 46s 1ms/step - loss: 4.9653e-05 - val_loss: 4.9233e-05\n",
      "Epoch 14/100\n",
      "32000/32000 [==============================] - 46s 1ms/step - loss: 4.7998e-05 - val_loss: 4.6935e-05\n",
      "Epoch 15/100\n",
      "32000/32000 [==============================] - 46s 1ms/step - loss: 4.6640e-05 - val_loss: 4.5724e-05\n",
      "Epoch 16/100\n",
      "32000/32000 [==============================] - 46s 1ms/step - loss: 4.5649e-05 - val_loss: 4.6029e-05\n",
      "Epoch 17/100\n",
      "32000/32000 [==============================] - 46s 1ms/step - loss: 4.4425e-05 - val_loss: 4.3377e-05\n",
      "Epoch 18/100\n",
      "32000/32000 [==============================] - 48s 1ms/step - loss: 4.3359e-05 - val_loss: 4.2975e-05\n",
      "Epoch 19/100\n",
      "32000/32000 [==============================] - 47s 1ms/step - loss: 4.2658e-05 - val_loss: 4.2055e-05\n",
      "Epoch 20/100\n",
      "32000/32000 [==============================] - 46s 1ms/step - loss: 4.1856e-05 - val_loss: 4.1497e-05\n",
      "Epoch 21/100\n",
      "32000/32000 [==============================] - 46s 1ms/step - loss: 4.0785e-05 - val_loss: 4.0919e-05\n",
      "Epoch 22/100\n",
      "32000/32000 [==============================] - 46s 1ms/step - loss: 4.0630e-05 - val_loss: 3.9392e-05\n",
      "Epoch 23/100\n",
      "32000/32000 [==============================] - 46s 1ms/step - loss: 3.9457e-05 - val_loss: 4.0145e-05\n",
      "Epoch 24/100\n",
      "32000/32000 [==============================] - 46s 1ms/step - loss: 3.9120e-05 - val_loss: 3.9851e-05\n",
      "Epoch 25/100\n",
      "32000/32000 [==============================] - 46s 1ms/step - loss: 3.8331e-05 - val_loss: 3.8811e-05\n",
      "Epoch 26/100\n",
      "32000/32000 [==============================] - 46s 1ms/step - loss: 3.7920e-05 - val_loss: 3.7582e-05\n",
      "Epoch 27/100\n",
      "32000/32000 [==============================] - 46s 1ms/step - loss: 3.7368e-05 - val_loss: 3.7512e-05\n",
      "Epoch 28/100\n",
      "32000/32000 [==============================] - 46s 1ms/step - loss: 3.6701e-05 - val_loss: 3.6766e-05\n",
      "Epoch 29/100\n",
      "32000/32000 [==============================] - 46s 1ms/step - loss: 3.6905e-05 - val_loss: 3.6857e-05\n",
      "Epoch 30/100\n",
      "32000/32000 [==============================] - 46s 1ms/step - loss: 3.6053e-05 - val_loss: 3.5945e-05\n",
      "Epoch 31/100\n",
      "32000/32000 [==============================] - 46s 1ms/step - loss: 3.5410e-05 - val_loss: 3.6926e-05\n",
      "Epoch 32/100\n",
      "32000/32000 [==============================] - 46s 1ms/step - loss: 3.4993e-05 - val_loss: 3.4922e-05\n",
      "Epoch 33/100\n",
      "32000/32000 [==============================] - 46s 1ms/step - loss: 3.4693e-05 - val_loss: 3.4469e-05\n",
      "Epoch 34/100\n",
      "32000/32000 [==============================] - 46s 1ms/step - loss: 3.4558e-05 - val_loss: 3.3958e-05\n",
      "Epoch 35/100\n",
      "32000/32000 [==============================] - 46s 1ms/step - loss: 3.4030e-05 - val_loss: 3.4818e-05\n",
      "Epoch 36/100\n",
      "32000/32000 [==============================] - 46s 1ms/step - loss: 3.3701e-05 - val_loss: 3.4328e-05\n",
      "Epoch 37/100\n",
      "32000/32000 [==============================] - 46s 1ms/step - loss: 3.3402e-05 - val_loss: 3.3640e-05\n",
      "Epoch 38/100\n",
      "32000/32000 [==============================] - 48s 1ms/step - loss: 3.2967e-05 - val_loss: 3.3970e-05\n",
      "Epoch 39/100\n",
      "32000/32000 [==============================] - 46s 1ms/step - loss: 3.2956e-05 - val_loss: 3.2744e-05\n",
      "Epoch 40/100\n",
      "32000/32000 [==============================] - 46s 1ms/step - loss: 3.2280e-05 - val_loss: 3.3075e-05\n",
      "Epoch 41/100\n",
      "32000/32000 [==============================] - 46s 1ms/step - loss: 3.2065e-05 - val_loss: 3.2108e-05\n",
      "Epoch 42/100\n",
      "32000/32000 [==============================] - 46s 1ms/step - loss: 3.1834e-05 - val_loss: 3.2430e-05\n"
     ]
    },
    {
     "name": "stdout",
     "output_type": "stream",
     "text": [
      "Epoch 43/100\n",
      "32000/32000 [==============================] - 46s 1ms/step - loss: 3.1646e-05 - val_loss: 3.1921e-05\n",
      "Epoch 44/100\n",
      "32000/32000 [==============================] - 46s 1ms/step - loss: 3.1169e-05 - val_loss: 3.1494e-05\n",
      "Epoch 45/100\n",
      "32000/32000 [==============================] - 46s 1ms/step - loss: 3.0961e-05 - val_loss: 3.1706e-05\n",
      "Epoch 46/100\n",
      "32000/32000 [==============================] - 46s 1ms/step - loss: 3.1058e-05 - val_loss: 3.1248e-05\n",
      "Epoch 47/100\n",
      "32000/32000 [==============================] - 46s 1ms/step - loss: 3.0890e-05 - val_loss: 3.0194e-05\n",
      "Epoch 48/100\n",
      "32000/32000 [==============================] - 46s 1ms/step - loss: 3.0241e-05 - val_loss: 3.1565e-05\n",
      "Epoch 49/100\n",
      "32000/32000 [==============================] - 46s 1ms/step - loss: 3.0171e-05 - val_loss: 3.0520e-05\n",
      "Epoch 50/100\n",
      "32000/32000 [==============================] - 46s 1ms/step - loss: 2.9941e-05 - val_loss: 2.9993e-05\n",
      "Epoch 51/100\n",
      "32000/32000 [==============================] - 46s 1ms/step - loss: 2.9860e-05 - val_loss: 3.1869e-05\n",
      "Epoch 52/100\n",
      "32000/32000 [==============================] - 46s 1ms/step - loss: 2.9524e-05 - val_loss: 2.9702e-05\n",
      "Epoch 53/100\n",
      "32000/32000 [==============================] - 46s 1ms/step - loss: 2.9465e-05 - val_loss: 3.0602e-05\n",
      "Epoch 54/100\n",
      "32000/32000 [==============================] - 46s 1ms/step - loss: 2.9159e-05 - val_loss: 3.0748e-05\n",
      "Epoch 55/100\n",
      "32000/32000 [==============================] - 46s 1ms/step - loss: 2.8920e-05 - val_loss: 2.9571e-05\n",
      "Epoch 56/100\n",
      "32000/32000 [==============================] - 46s 1ms/step - loss: 2.9096e-05 - val_loss: 2.8968e-05\n",
      "Epoch 57/100\n",
      "32000/32000 [==============================] - 47s 1ms/step - loss: 2.8674e-05 - val_loss: 2.9255e-05\n",
      "Epoch 58/100\n",
      "32000/32000 [==============================] - 46s 1ms/step - loss: 2.8350e-05 - val_loss: 3.0991e-05\n",
      "Epoch 59/100\n",
      "32000/32000 [==============================] - 46s 1ms/step - loss: 2.8484e-05 - val_loss: 2.8988e-05\n",
      "Epoch 60/100\n",
      "32000/32000 [==============================] - 46s 1ms/step - loss: 2.8109e-05 - val_loss: 2.8804e-05\n",
      "Epoch 61/100\n",
      "32000/32000 [==============================] - 46s 1ms/step - loss: 2.8084e-05 - val_loss: 2.8193e-05\n",
      "Epoch 62/100\n",
      "32000/32000 [==============================] - 46s 1ms/step - loss: 2.7780e-05 - val_loss: 2.8252e-05\n",
      "Epoch 63/100\n",
      "32000/32000 [==============================] - 46s 1ms/step - loss: 2.7700e-05 - val_loss: 2.8104e-05\n",
      "Epoch 64/100\n",
      "32000/32000 [==============================] - 46s 1ms/step - loss: 2.7720e-05 - val_loss: 2.8878e-05\n",
      "Epoch 65/100\n",
      "32000/32000 [==============================] - 46s 1ms/step - loss: 2.7268e-05 - val_loss: 2.8331e-05\n",
      "Epoch 66/100\n",
      "32000/32000 [==============================] - 46s 1ms/step - loss: 2.7504e-05 - val_loss: 2.8850e-05\n",
      "Epoch 67/100\n",
      "32000/32000 [==============================] - 46s 1ms/step - loss: 2.7085e-05 - val_loss: 2.9860e-05\n",
      "Epoch 68/100\n",
      "32000/32000 [==============================] - 46s 1ms/step - loss: 2.7117e-05 - val_loss: 2.7658e-05\n",
      "Epoch 69/100\n",
      "32000/32000 [==============================] - 46s 1ms/step - loss: 2.6957e-05 - val_loss: 2.7903e-05\n",
      "Epoch 70/100\n",
      "32000/32000 [==============================] - 46s 1ms/step - loss: 2.6702e-05 - val_loss: 2.7212e-05\n",
      "Epoch 71/100\n",
      "32000/32000 [==============================] - 46s 1ms/step - loss: 2.6929e-05 - val_loss: 2.6850e-05\n",
      "Epoch 72/100\n",
      "32000/32000 [==============================] - 46s 1ms/step - loss: 2.6358e-05 - val_loss: 2.7370e-05\n",
      "Epoch 73/100\n",
      "32000/32000 [==============================] - 46s 1ms/step - loss: 2.6479e-05 - val_loss: 2.6928e-05\n",
      "Epoch 74/100\n",
      "32000/32000 [==============================] - 46s 1ms/step - loss: 2.6317e-05 - val_loss: 2.7105e-05\n",
      "Epoch 75/100\n",
      "32000/32000 [==============================] - 46s 1ms/step - loss: 2.6314e-05 - val_loss: 2.7148e-05\n",
      "Epoch 76/100\n",
      "32000/32000 [==============================] - 46s 1ms/step - loss: 2.6035e-05 - val_loss: 2.6871e-05\n",
      "Epoch 77/100\n",
      "32000/32000 [==============================] - 48s 1ms/step - loss: 2.6198e-05 - val_loss: 2.6349e-05\n",
      "Epoch 78/100\n",
      "32000/32000 [==============================] - 46s 1ms/step - loss: 2.5824e-05 - val_loss: 2.6890e-05\n",
      "Epoch 79/100\n",
      "32000/32000 [==============================] - 46s 1ms/step - loss: 2.5858e-05 - val_loss: 2.6228e-05\n",
      "Epoch 80/100\n",
      "32000/32000 [==============================] - 46s 1ms/step - loss: 2.5624e-05 - val_loss: 2.6493e-05\n",
      "Epoch 81/100\n",
      "32000/32000 [==============================] - 46s 1ms/step - loss: 2.5735e-05 - val_loss: 2.6236e-05\n",
      "Epoch 82/100\n",
      "32000/32000 [==============================] - 46s 1ms/step - loss: 2.5634e-05 - val_loss: 2.6321e-05\n",
      "Epoch 83/100\n",
      "32000/32000 [==============================] - 46s 1ms/step - loss: 2.5394e-05 - val_loss: 2.5850e-05\n",
      "Epoch 84/100\n",
      "32000/32000 [==============================] - 46s 1ms/step - loss: 2.5213e-05 - val_loss: 2.5787e-05\n",
      "Epoch 85/100\n",
      "32000/32000 [==============================] - 46s 1ms/step - loss: 2.5368e-05 - val_loss: 2.6470e-05\n",
      "Epoch 86/100\n",
      "32000/32000 [==============================] - 46s 1ms/step - loss: 2.5082e-05 - val_loss: 2.6477e-05\n",
      "Epoch 87/100\n",
      "32000/32000 [==============================] - 46s 1ms/step - loss: 2.5007e-05 - val_loss: 2.6074e-05\n",
      "Epoch 88/100\n",
      "32000/32000 [==============================] - 46s 1ms/step - loss: 2.4992e-05 - val_loss: 2.5864e-05\n",
      "Epoch 89/100\n",
      "32000/32000 [==============================] - 46s 1ms/step - loss: 2.4943e-05 - val_loss: 2.6233e-05\n",
      "Epoch 90/100\n",
      "32000/32000 [==============================] - 46s 1ms/step - loss: 2.5007e-05 - val_loss: 2.6790e-05\n",
      "Epoch 91/100\n",
      "32000/32000 [==============================] - 46s 1ms/step - loss: 2.4556e-05 - val_loss: 2.5794e-05\n",
      "Epoch 92/100\n",
      "32000/32000 [==============================] - 46s 1ms/step - loss: 2.4736e-05 - val_loss: 2.5331e-05\n",
      "Epoch 93/100\n",
      "32000/32000 [==============================] - 46s 1ms/step - loss: 2.4476e-05 - val_loss: 2.6224e-05\n",
      "Epoch 94/100\n",
      "32000/32000 [==============================] - 46s 1ms/step - loss: 2.4481e-05 - val_loss: 2.6116e-05\n",
      "Epoch 95/100\n",
      "32000/32000 [==============================] - 46s 1ms/step - loss: 2.4495e-05 - val_loss: 2.6013e-05\n",
      "Epoch 96/100\n",
      "32000/32000 [==============================] - 47s 1ms/step - loss: 2.4333e-05 - val_loss: 2.5335e-05\n",
      "Epoch 97/100\n",
      "32000/32000 [==============================] - 46s 1ms/step - loss: 2.4249e-05 - val_loss: 2.5055e-05\n",
      "Epoch 98/100\n",
      "32000/32000 [==============================] - 46s 1ms/step - loss: 2.4410e-05 - val_loss: 2.5046e-05\n",
      "Epoch 99/100\n",
      "32000/32000 [==============================] - 46s 1ms/step - loss: 2.4031e-05 - val_loss: 2.4582e-05\n",
      "Epoch 100/100\n",
      "32000/32000 [==============================] - 46s 1ms/step - loss: 2.4045e-05 - val_loss: 2.5163e-05\n",
      "Train on 32000 samples, validate on 8000 samples\n",
      "Epoch 1/100\n",
      "32000/32000 [==============================] - 45s 1ms/step - loss: 0.0111 - val_loss: 0.0046\n",
      "Epoch 2/100\n",
      "32000/32000 [==============================] - 44s 1ms/step - loss: 0.0028 - val_loss: 0.0016\n",
      "Epoch 3/100\n",
      "32000/32000 [==============================] - 44s 1ms/step - loss: 0.0015 - val_loss: 0.0011\n",
      "Epoch 4/100\n",
      "32000/32000 [==============================] - 44s 1ms/step - loss: 0.0011 - val_loss: 0.0011\n",
      "Epoch 5/100\n",
      "32000/32000 [==============================] - 44s 1ms/step - loss: 0.0010 - val_loss: 0.0013\n",
      "Epoch 6/100\n",
      "32000/32000 [==============================] - 44s 1ms/step - loss: 9.0587e-04 - val_loss: 0.0016\n",
      "Epoch 7/100\n",
      "32000/32000 [==============================] - 44s 1ms/step - loss: 8.2126e-04 - val_loss: 9.6897e-04\n",
      "Epoch 8/100\n",
      "32000/32000 [==============================] - 45s 1ms/step - loss: 7.6567e-04 - val_loss: 9.1625e-04\n",
      "Epoch 9/100\n",
      "32000/32000 [==============================] - 45s 1ms/step - loss: 6.5935e-04 - val_loss: 8.2837e-04\n",
      "Epoch 10/100\n",
      "32000/32000 [==============================] - 44s 1ms/step - loss: 5.5933e-04 - val_loss: 5.2248e-04\n",
      "Epoch 11/100\n",
      "32000/32000 [==============================] - 44s 1ms/step - loss: 5.2930e-04 - val_loss: 5.8862e-04\n",
      "Epoch 12/100\n",
      "32000/32000 [==============================] - 44s 1ms/step - loss: 4.7356e-04 - val_loss: 5.8453e-04\n",
      "Epoch 13/100\n",
      "32000/32000 [==============================] - 44s 1ms/step - loss: 4.2069e-04 - val_loss: 5.8344e-04\n",
      "Epoch 14/100\n",
      "32000/32000 [==============================] - 44s 1ms/step - loss: 3.7963e-04 - val_loss: 5.9945e-04\n",
      "Epoch 15/100\n",
      "32000/32000 [==============================] - 44s 1ms/step - loss: 4.1523e-04 - val_loss: 7.5870e-04\n",
      "Epoch 16/100\n",
      "32000/32000 [==============================] - 46s 1ms/step - loss: 3.3821e-04 - val_loss: 4.5282e-04\n",
      "Epoch 17/100\n",
      "32000/32000 [==============================] - 45s 1ms/step - loss: 3.3270e-04 - val_loss: 5.8793e-04\n",
      "Epoch 18/100\n",
      "32000/32000 [==============================] - 44s 1ms/step - loss: 3.1841e-04 - val_loss: 4.2488e-04\n",
      "Epoch 19/100\n",
      "32000/32000 [==============================] - 44s 1ms/step - loss: 2.9094e-04 - val_loss: 4.6865e-04\n",
      "Epoch 20/100\n",
      "32000/32000 [==============================] - 45s 1ms/step - loss: 2.8002e-04 - val_loss: 4.4482e-04\n",
      "Epoch 21/100\n",
      "32000/32000 [==============================] - 44s 1ms/step - loss: 2.8170e-04 - val_loss: 3.6611e-04\n",
      "Epoch 22/100\n",
      "32000/32000 [==============================] - 44s 1ms/step - loss: 2.5082e-04 - val_loss: 4.3787e-04\n",
      "Epoch 23/100\n",
      "32000/32000 [==============================] - 44s 1ms/step - loss: 2.5676e-04 - val_loss: 4.2412e-04\n",
      "Epoch 24/100\n",
      "32000/32000 [==============================] - 44s 1ms/step - loss: 2.5373e-04 - val_loss: 3.9095e-04\n",
      "Epoch 25/100\n",
      "32000/32000 [==============================] - 45s 1ms/step - loss: 2.5276e-04 - val_loss: 2.9820e-04\n",
      "Epoch 26/100\n",
      "32000/32000 [==============================] - 45s 1ms/step - loss: 2.1772e-04 - val_loss: 3.2993e-04\n",
      "Epoch 27/100\n",
      "32000/32000 [==============================] - 44s 1ms/step - loss: 2.1754e-04 - val_loss: 3.0567e-04\n",
      "Epoch 28/100\n",
      "32000/32000 [==============================] - 44s 1ms/step - loss: 2.0086e-04 - val_loss: 3.6062e-04\n",
      "Epoch 29/100\n",
      "32000/32000 [==============================] - 44s 1ms/step - loss: 2.1487e-04 - val_loss: 3.6180e-04\n",
      "Epoch 30/100\n",
      "32000/32000 [==============================] - 44s 1ms/step - loss: 2.0524e-04 - val_loss: 3.5678e-04\n",
      "Epoch 31/100\n",
      "32000/32000 [==============================] - 45s 1ms/step - loss: 1.8500e-04 - val_loss: 2.6782e-04\n",
      "Epoch 32/100\n",
      "32000/32000 [==============================] - 45s 1ms/step - loss: 1.8819e-04 - val_loss: 2.7677e-04\n",
      "Epoch 33/100\n",
      "32000/32000 [==============================] - 45s 1ms/step - loss: 1.8467e-04 - val_loss: 4.1045e-04\n",
      "Epoch 34/100\n",
      "32000/32000 [==============================] - 45s 1ms/step - loss: 1.8769e-04 - val_loss: 2.4453e-04\n",
      "Epoch 35/100\n",
      "32000/32000 [==============================] - 45s 1ms/step - loss: 1.6179e-04 - val_loss: 2.7284e-04\n",
      "Epoch 36/100\n",
      "32000/32000 [==============================] - 44s 1ms/step - loss: 1.6790e-04 - val_loss: 3.3574e-04\n",
      "Epoch 37/100\n",
      "32000/32000 [==============================] - 46s 1ms/step - loss: 1.8024e-04 - val_loss: 2.2886e-04\n",
      "Epoch 38/100\n",
      "32000/32000 [==============================] - 45s 1ms/step - loss: 1.6297e-04 - val_loss: 2.3075e-04\n",
      "Epoch 39/100\n",
      "32000/32000 [==============================] - 45s 1ms/step - loss: 1.5523e-04 - val_loss: 2.5985e-04\n",
      "Epoch 40/100\n",
      "32000/32000 [==============================] - 45s 1ms/step - loss: 1.6624e-04 - val_loss: 3.4701e-04\n",
      "Epoch 41/100\n",
      "32000/32000 [==============================] - 45s 1ms/step - loss: 1.5507e-04 - val_loss: 2.9522e-04\n",
      "Epoch 42/100\n",
      "32000/32000 [==============================] - 45s 1ms/step - loss: 1.6148e-04 - val_loss: 4.2335e-04\n",
      "Epoch 43/100\n",
      "32000/32000 [==============================] - 45s 1ms/step - loss: 1.4985e-04 - val_loss: 2.9943e-04\n",
      "Epoch 44/100\n",
      "32000/32000 [==============================] - 45s 1ms/step - loss: 1.4643e-04 - val_loss: 2.9094e-04\n",
      "Epoch 45/100\n",
      "32000/32000 [==============================] - 45s 1ms/step - loss: 1.5191e-04 - val_loss: 2.4193e-04\n",
      "Epoch 46/100\n",
      "32000/32000 [==============================] - 45s 1ms/step - loss: 1.5430e-04 - val_loss: 2.4544e-04\n",
      "Epoch 47/100\n",
      "32000/32000 [==============================] - 45s 1ms/step - loss: 1.3588e-04 - val_loss: 3.0124e-04\n",
      "Epoch 48/100\n",
      "32000/32000 [==============================] - 45s 1ms/step - loss: 1.3691e-04 - val_loss: 2.7383e-04\n",
      "Epoch 49/100\n",
      "32000/32000 [==============================] - 45s 1ms/step - loss: 1.3264e-04 - val_loss: 2.2783e-04\n",
      "Epoch 50/100\n",
      "32000/32000 [==============================] - 45s 1ms/step - loss: 1.3214e-04 - val_loss: 2.8354e-04\n",
      "Epoch 51/100\n",
      "32000/32000 [==============================] - 45s 1ms/step - loss: 1.3705e-04 - val_loss: 2.9500e-04\n",
      "Epoch 52/100\n",
      "32000/32000 [==============================] - 45s 1ms/step - loss: 1.2891e-04 - val_loss: 2.6436e-04\n",
      "Epoch 53/100\n",
      "32000/32000 [==============================] - 45s 1ms/step - loss: 1.3035e-04 - val_loss: 2.9094e-04\n",
      "Epoch 54/100\n",
      "32000/32000 [==============================] - 45s 1ms/step - loss: 1.2622e-04 - val_loss: 2.5920e-04\n",
      "Epoch 55/100\n",
      "32000/32000 [==============================] - 45s 1ms/step - loss: 1.3146e-04 - val_loss: 2.3651e-04\n",
      "Epoch 56/100\n",
      "32000/32000 [==============================] - 44s 1ms/step - loss: 1.1296e-04 - val_loss: 2.1572e-04\n",
      "Epoch 57/100\n",
      "32000/32000 [==============================] - 46s 1ms/step - loss: 1.2325e-04 - val_loss: 2.3134e-04\n",
      "Epoch 58/100\n",
      "32000/32000 [==============================] - 45s 1ms/step - loss: 1.2193e-04 - val_loss: 4.1857e-04\n",
      "Epoch 59/100\n",
      "32000/32000 [==============================] - 45s 1ms/step - loss: 1.2089e-04 - val_loss: 2.6525e-04\n",
      "Epoch 60/100\n",
      "32000/32000 [==============================] - 45s 1ms/step - loss: 1.1167e-04 - val_loss: 2.2799e-04\n",
      "Epoch 61/100\n",
      "32000/32000 [==============================] - 44s 1ms/step - loss: 1.1805e-04 - val_loss: 2.8076e-04\n",
      "Epoch 62/100\n",
      "32000/32000 [==============================] - 44s 1ms/step - loss: 1.1605e-04 - val_loss: 2.3449e-04\n",
      "Epoch 63/100\n",
      "32000/32000 [==============================] - 44s 1ms/step - loss: 1.1562e-04 - val_loss: 2.1780e-04\n",
      "Epoch 64/100\n",
      "32000/32000 [==============================] - 45s 1ms/step - loss: 1.1093e-04 - val_loss: 2.4681e-04\n",
      "Epoch 65/100\n",
      "32000/32000 [==============================] - 44s 1ms/step - loss: 1.1283e-04 - val_loss: 2.1755e-04\n",
      "Epoch 66/100\n",
      "32000/32000 [==============================] - 44s 1ms/step - loss: 1.1850e-04 - val_loss: 2.3660e-04\n",
      "Epoch 67/100\n",
      "32000/32000 [==============================] - 45s 1ms/step - loss: 1.0269e-04 - val_loss: 2.7092e-04\n",
      "Epoch 68/100\n",
      "32000/32000 [==============================] - 44s 1ms/step - loss: 1.0734e-04 - val_loss: 2.0481e-04\n",
      "Epoch 69/100\n",
      "32000/32000 [==============================] - 44s 1ms/step - loss: 1.2025e-04 - val_loss: 2.6597e-04\n",
      "Epoch 70/100\n",
      "32000/32000 [==============================] - 44s 1ms/step - loss: 1.0070e-04 - val_loss: 2.3445e-04\n",
      "Epoch 71/100\n",
      "32000/32000 [==============================] - 44s 1ms/step - loss: 1.0467e-04 - val_loss: 2.3294e-04\n",
      "Epoch 72/100\n",
      "32000/32000 [==============================] - 45s 1ms/step - loss: 1.0577e-04 - val_loss: 1.9988e-04\n",
      "Epoch 73/100\n",
      "32000/32000 [==============================] - 45s 1ms/step - loss: 1.0638e-04 - val_loss: 2.0025e-04\n",
      "Epoch 74/100\n",
      "32000/32000 [==============================] - 44s 1ms/step - loss: 1.0329e-04 - val_loss: 2.5650e-04\n",
      "Epoch 75/100\n",
      "32000/32000 [==============================] - 44s 1ms/step - loss: 1.0136e-04 - val_loss: 2.3737e-04\n",
      "Epoch 76/100\n",
      "32000/32000 [==============================] - 44s 1ms/step - loss: 9.7382e-05 - val_loss: 2.4181e-04\n",
      "Epoch 77/100\n",
      "32000/32000 [==============================] - 46s 1ms/step - loss: 9.7485e-05 - val_loss: 2.1007e-04\n",
      "Epoch 78/100\n",
      "32000/32000 [==============================] - 45s 1ms/step - loss: 9.4466e-05 - val_loss: 2.5083e-04\n",
      "Epoch 79/100\n",
      "32000/32000 [==============================] - 44s 1ms/step - loss: 9.6678e-05 - val_loss: 2.0852e-04\n",
      "Epoch 80/100\n",
      "32000/32000 [==============================] - 44s 1ms/step - loss: 1.0090e-04 - val_loss: 2.1756e-04\n",
      "Epoch 81/100\n",
      "32000/32000 [==============================] - 45s 1ms/step - loss: 9.7830e-05 - val_loss: 2.1908e-04\n",
      "Epoch 82/100\n",
      "32000/32000 [==============================] - 44s 1ms/step - loss: 9.8785e-05 - val_loss: 2.0908e-04\n",
      "Epoch 83/100\n",
      "32000/32000 [==============================] - 45s 1ms/step - loss: 9.1709e-05 - val_loss: 2.6114e-04\n",
      "Epoch 84/100\n",
      "32000/32000 [==============================] - 44s 1ms/step - loss: 9.8452e-05 - val_loss: 3.1370e-04\n",
      "Epoch 85/100\n"
     ]
    },
    {
     "name": "stdout",
     "output_type": "stream",
     "text": [
      "32000/32000 [==============================] - 44s 1ms/step - loss: 9.0882e-05 - val_loss: 2.2680e-04\n",
      "Epoch 86/100\n",
      "32000/32000 [==============================] - 44s 1ms/step - loss: 8.9035e-05 - val_loss: 2.5043e-04\n",
      "Epoch 87/100\n",
      "32000/32000 [==============================] - 44s 1ms/step - loss: 9.4781e-05 - val_loss: 2.0000e-04\n",
      "Epoch 88/100\n",
      "32000/32000 [==============================] - 44s 1ms/step - loss: 9.1558e-05 - val_loss: 2.2825e-04\n",
      "Epoch 89/100\n",
      "32000/32000 [==============================] - 44s 1ms/step - loss: 8.9235e-05 - val_loss: 1.9373e-04\n",
      "Epoch 90/100\n",
      "32000/32000 [==============================] - 44s 1ms/step - loss: 9.1041e-05 - val_loss: 1.8898e-04\n",
      "Epoch 91/100\n",
      "32000/32000 [==============================] - 44s 1ms/step - loss: 8.6104e-05 - val_loss: 2.3209e-04\n",
      "Epoch 92/100\n",
      "32000/32000 [==============================] - 44s 1ms/step - loss: 9.1090e-05 - val_loss: 2.4855e-04\n",
      "Epoch 93/100\n",
      "32000/32000 [==============================] - 44s 1ms/step - loss: 8.5181e-05 - val_loss: 2.4972e-04\n",
      "Epoch 94/100\n",
      "32000/32000 [==============================] - 45s 1ms/step - loss: 9.2112e-05 - val_loss: 1.8828e-04\n",
      "Epoch 95/100\n",
      "32000/32000 [==============================] - 45s 1ms/step - loss: 9.2077e-05 - val_loss: 2.0559e-04\n",
      "Epoch 96/100\n",
      "32000/32000 [==============================] - 44s 1ms/step - loss: 8.4091e-05 - val_loss: 2.2531e-04\n",
      "Epoch 97/100\n",
      "32000/32000 [==============================] - 46s 1ms/step - loss: 8.8078e-05 - val_loss: 1.8363e-04\n",
      "Epoch 98/100\n",
      "32000/32000 [==============================] - 45s 1ms/step - loss: 7.7997e-05 - val_loss: 1.8434e-04\n",
      "Epoch 99/100\n",
      "32000/32000 [==============================] - 44s 1ms/step - loss: 8.7552e-05 - val_loss: 2.1039e-04\n",
      "Epoch 100/100\n",
      "32000/32000 [==============================] - 45s 1ms/step - loss: 8.5617e-05 - val_loss: 1.9775e-04\n",
      "Train on 32000 samples, validate on 8000 samples\n",
      "Epoch 1/100\n",
      "32000/32000 [==============================] - 47s 1ms/step - loss: 3.0690e-04 - val_loss: 1.5859e-04\n",
      "Epoch 2/100\n",
      "32000/32000 [==============================] - 46s 1ms/step - loss: 1.2805e-04 - val_loss: 1.0822e-04\n",
      "Epoch 3/100\n",
      "32000/32000 [==============================] - 46s 1ms/step - loss: 9.7186e-05 - val_loss: 8.9009e-05\n",
      "Epoch 4/100\n",
      "32000/32000 [==============================] - 46s 1ms/step - loss: 8.3022e-05 - val_loss: 7.8697e-05\n",
      "Epoch 5/100\n",
      "32000/32000 [==============================] - 46s 1ms/step - loss: 7.4459e-05 - val_loss: 7.1296e-05\n",
      "Epoch 6/100\n",
      "32000/32000 [==============================] - 46s 1ms/step - loss: 6.8426e-05 - val_loss: 6.7199e-05\n",
      "Epoch 7/100\n",
      "32000/32000 [==============================] - 46s 1ms/step - loss: 6.3856e-05 - val_loss: 6.3639e-05\n",
      "Epoch 8/100\n",
      "32000/32000 [==============================] - 46s 1ms/step - loss: 6.0503e-05 - val_loss: 6.1518e-05\n",
      "Epoch 9/100\n",
      "32000/32000 [==============================] - 46s 1ms/step - loss: 5.7743e-05 - val_loss: 5.6515e-05\n",
      "Epoch 10/100\n",
      "32000/32000 [==============================] - 46s 1ms/step - loss: 5.5079e-05 - val_loss: 5.4578e-05\n",
      "Epoch 11/100\n",
      "32000/32000 [==============================] - 46s 1ms/step - loss: 5.3029e-05 - val_loss: 5.3521e-05\n",
      "Epoch 12/100\n",
      "32000/32000 [==============================] - 46s 1ms/step - loss: 5.1222e-05 - val_loss: 5.1543e-05\n",
      "Epoch 13/100\n",
      "32000/32000 [==============================] - 46s 1ms/step - loss: 4.9494e-05 - val_loss: 5.0973e-05\n",
      "Epoch 14/100\n",
      "32000/32000 [==============================] - 46s 1ms/step - loss: 4.8312e-05 - val_loss: 4.7594e-05\n",
      "Epoch 15/100\n",
      "32000/32000 [==============================] - 46s 1ms/step - loss: 4.6844e-05 - val_loss: 4.7321e-05\n",
      "Epoch 16/100\n",
      "32000/32000 [==============================] - 46s 1ms/step - loss: 4.5721e-05 - val_loss: 4.5982e-05\n",
      "Epoch 17/100\n",
      "32000/32000 [==============================] - 47s 1ms/step - loss: 4.4530e-05 - val_loss: 4.4484e-05\n",
      "Epoch 18/100\n",
      "32000/32000 [==============================] - 46s 1ms/step - loss: 4.3582e-05 - val_loss: 4.3705e-05\n",
      "Epoch 19/100\n",
      "32000/32000 [==============================] - 46s 1ms/step - loss: 4.2613e-05 - val_loss: 4.3179e-05\n",
      "Epoch 20/100\n",
      "32000/32000 [==============================] - 46s 1ms/step - loss: 4.1926e-05 - val_loss: 4.3227e-05\n",
      "Epoch 21/100\n",
      "32000/32000 [==============================] - 46s 1ms/step - loss: 4.1137e-05 - val_loss: 4.1395e-05\n",
      "Epoch 22/100\n",
      "32000/32000 [==============================] - 46s 1ms/step - loss: 4.0400e-05 - val_loss: 4.1113e-05\n",
      "Epoch 23/100\n",
      "32000/32000 [==============================] - 46s 1ms/step - loss: 3.9789e-05 - val_loss: 4.0627e-05\n",
      "Epoch 24/100\n",
      "32000/32000 [==============================] - 46s 1ms/step - loss: 3.9280e-05 - val_loss: 3.9436e-05\n",
      "Epoch 25/100\n",
      "32000/32000 [==============================] - 46s 1ms/step - loss: 3.8717e-05 - val_loss: 3.9250e-05\n",
      "Epoch 26/100\n",
      "32000/32000 [==============================] - 46s 1ms/step - loss: 3.8043e-05 - val_loss: 3.8451e-05\n",
      "Epoch 27/100\n",
      "32000/32000 [==============================] - 46s 1ms/step - loss: 3.7860e-05 - val_loss: 3.8384e-05\n",
      "Epoch 28/100\n",
      "32000/32000 [==============================] - 46s 1ms/step - loss: 3.7011e-05 - val_loss: 3.8001e-05\n",
      "Epoch 29/100\n",
      "32000/32000 [==============================] - 46s 1ms/step - loss: 3.6444e-05 - val_loss: 3.7222e-05\n",
      "Epoch 30/100\n",
      "32000/32000 [==============================] - 46s 1ms/step - loss: 3.6231e-05 - val_loss: 3.7102e-05\n",
      "Epoch 31/100\n",
      "32000/32000 [==============================] - 46s 1ms/step - loss: 3.5658e-05 - val_loss: 3.6523e-05\n",
      "Epoch 32/100\n",
      "32000/32000 [==============================] - 46s 1ms/step - loss: 3.5401e-05 - val_loss: 3.6151e-05\n",
      "Epoch 33/100\n",
      "32000/32000 [==============================] - 46s 1ms/step - loss: 3.4753e-05 - val_loss: 3.5780e-05\n",
      "Epoch 34/100\n",
      "32000/32000 [==============================] - 46s 1ms/step - loss: 3.4497e-05 - val_loss: 3.5400e-05\n",
      "Epoch 35/100\n",
      "32000/32000 [==============================] - 46s 1ms/step - loss: 3.4022e-05 - val_loss: 3.5112e-05\n",
      "Epoch 36/100\n",
      "32000/32000 [==============================] - 46s 1ms/step - loss: 3.3926e-05 - val_loss: 3.4143e-05\n",
      "Epoch 37/100\n",
      "32000/32000 [==============================] - 48s 1ms/step - loss: 3.3460e-05 - val_loss: 3.3854e-05\n",
      "Epoch 38/100\n",
      "32000/32000 [==============================] - 46s 1ms/step - loss: 3.3188e-05 - val_loss: 3.4391e-05\n",
      "Epoch 39/100\n",
      "32000/32000 [==============================] - 46s 1ms/step - loss: 3.2962e-05 - val_loss: 3.3976e-05\n",
      "Epoch 40/100\n",
      "32000/32000 [==============================] - 46s 1ms/step - loss: 3.2563e-05 - val_loss: 3.3952e-05\n",
      "Epoch 41/100\n",
      "32000/32000 [==============================] - 46s 1ms/step - loss: 3.2368e-05 - val_loss: 3.2782e-05\n",
      "Epoch 42/100\n",
      "32000/32000 [==============================] - 46s 1ms/step - loss: 3.2165e-05 - val_loss: 3.2732e-05\n",
      "Epoch 43/100\n",
      "32000/32000 [==============================] - 46s 1ms/step - loss: 3.1750e-05 - val_loss: 3.2921e-05\n",
      "Epoch 44/100\n",
      "32000/32000 [==============================] - 46s 1ms/step - loss: 3.1592e-05 - val_loss: 3.2085e-05\n",
      "Epoch 45/100\n",
      "32000/32000 [==============================] - 46s 1ms/step - loss: 3.1037e-05 - val_loss: 3.1969e-05\n",
      "Epoch 46/100\n",
      "32000/32000 [==============================] - 46s 1ms/step - loss: 3.1072e-05 - val_loss: 3.1599e-05\n",
      "Epoch 47/100\n",
      "32000/32000 [==============================] - 46s 1ms/step - loss: 3.0789e-05 - val_loss: 3.1698e-05\n",
      "Epoch 48/100\n",
      "32000/32000 [==============================] - 46s 1ms/step - loss: 3.0415e-05 - val_loss: 3.0895e-05\n",
      "Epoch 49/100\n",
      "32000/32000 [==============================] - 46s 1ms/step - loss: 3.0553e-05 - val_loss: 3.2114e-05\n",
      "Epoch 50/100\n",
      "32000/32000 [==============================] - 46s 1ms/step - loss: 3.0127e-05 - val_loss: 3.1261e-05\n",
      "Epoch 51/100\n",
      "32000/32000 [==============================] - 46s 1ms/step - loss: 2.9962e-05 - val_loss: 3.1183e-05\n",
      "Epoch 52/100\n",
      "32000/32000 [==============================] - 46s 1ms/step - loss: 2.9647e-05 - val_loss: 3.0325e-05\n",
      "Epoch 53/100\n",
      "32000/32000 [==============================] - 46s 1ms/step - loss: 2.9624e-05 - val_loss: 3.1103e-05\n",
      "Epoch 54/100\n",
      "32000/32000 [==============================] - 46s 1ms/step - loss: 2.9298e-05 - val_loss: 3.0117e-05\n",
      "Epoch 55/100\n",
      "32000/32000 [==============================] - 46s 1ms/step - loss: 2.9220e-05 - val_loss: 3.0435e-05\n"
     ]
    },
    {
     "name": "stdout",
     "output_type": "stream",
     "text": [
      "Epoch 56/100\n",
      "32000/32000 [==============================] - 47s 1ms/step - loss: 2.9120e-05 - val_loss: 3.0411e-05\n",
      "Epoch 57/100\n",
      "32000/32000 [==============================] - 46s 1ms/step - loss: 2.8772e-05 - val_loss: 3.0296e-05\n",
      "Epoch 58/100\n",
      "32000/32000 [==============================] - 46s 1ms/step - loss: 2.8559e-05 - val_loss: 2.9153e-05\n",
      "Epoch 59/100\n",
      "32000/32000 [==============================] - 46s 1ms/step - loss: 2.8392e-05 - val_loss: 2.9158e-05\n",
      "Epoch 60/100\n",
      "32000/32000 [==============================] - 46s 1ms/step - loss: 2.8385e-05 - val_loss: 2.8718e-05\n",
      "Epoch 61/100\n",
      "32000/32000 [==============================] - 46s 1ms/step - loss: 2.8201e-05 - val_loss: 2.9721e-05\n",
      "Epoch 62/100\n",
      "32000/32000 [==============================] - 46s 1ms/step - loss: 2.7945e-05 - val_loss: 2.9341e-05\n",
      "Epoch 63/100\n",
      "32000/32000 [==============================] - 46s 1ms/step - loss: 2.7865e-05 - val_loss: 2.8879e-05\n",
      "Epoch 64/100\n",
      "32000/32000 [==============================] - 46s 1ms/step - loss: 2.7755e-05 - val_loss: 2.8441e-05\n",
      "Epoch 65/100\n",
      "32000/32000 [==============================] - 46s 1ms/step - loss: 2.7497e-05 - val_loss: 2.8534e-05\n",
      "Epoch 66/100\n",
      "32000/32000 [==============================] - 46s 1ms/step - loss: 2.7353e-05 - val_loss: 2.8367e-05\n",
      "Epoch 67/100\n",
      "32000/32000 [==============================] - 46s 1ms/step - loss: 2.7234e-05 - val_loss: 2.8008e-05\n",
      "Epoch 68/100\n",
      "32000/32000 [==============================] - 46s 1ms/step - loss: 2.7187e-05 - val_loss: 2.8113e-05\n",
      "Epoch 69/100\n",
      "32000/32000 [==============================] - 46s 1ms/step - loss: 2.6956e-05 - val_loss: 2.8813e-05\n",
      "Epoch 70/100\n",
      "32000/32000 [==============================] - 46s 1ms/step - loss: 2.6930e-05 - val_loss: 2.8022e-05\n",
      "Epoch 71/100\n",
      "32000/32000 [==============================] - 46s 1ms/step - loss: 2.6823e-05 - val_loss: 2.7699e-05\n",
      "Epoch 72/100\n",
      "32000/32000 [==============================] - 46s 1ms/step - loss: 2.6659e-05 - val_loss: 2.9530e-05\n",
      "Epoch 73/100\n",
      "32000/32000 [==============================] - 46s 1ms/step - loss: 2.6623e-05 - val_loss: 2.7619e-05\n",
      "Epoch 74/100\n",
      "32000/32000 [==============================] - 46s 1ms/step - loss: 2.6291e-05 - val_loss: 2.7039e-05\n",
      "Epoch 75/100\n",
      "32000/32000 [==============================] - 46s 1ms/step - loss: 2.6331e-05 - val_loss: 2.7240e-05\n",
      "Epoch 76/100\n",
      "32000/32000 [==============================] - 47s 1ms/step - loss: 2.6055e-05 - val_loss: 2.7365e-05\n",
      "Epoch 77/100\n",
      "32000/32000 [==============================] - 46s 1ms/step - loss: 2.6223e-05 - val_loss: 2.6825e-05\n",
      "Epoch 78/100\n",
      "32000/32000 [==============================] - 46s 1ms/step - loss: 2.5971e-05 - val_loss: 2.7670e-05\n",
      "Epoch 79/100\n",
      "32000/32000 [==============================] - 46s 1ms/step - loss: 2.5947e-05 - val_loss: 2.7206e-05\n",
      "Epoch 80/100\n",
      "32000/32000 [==============================] - 46s 1ms/step - loss: 2.5687e-05 - val_loss: 2.7008e-05\n",
      "Epoch 81/100\n",
      "32000/32000 [==============================] - 46s 1ms/step - loss: 2.5597e-05 - val_loss: 2.7105e-05\n",
      "Epoch 82/100\n",
      "32000/32000 [==============================] - 46s 1ms/step - loss: 2.5667e-05 - val_loss: 2.7779e-05\n",
      "Epoch 83/100\n",
      "32000/32000 [==============================] - 46s 1ms/step - loss: 2.5472e-05 - val_loss: 2.6429e-05\n",
      "Epoch 84/100\n",
      "32000/32000 [==============================] - 46s 1ms/step - loss: 2.5415e-05 - val_loss: 2.6558e-05\n",
      "Epoch 85/100\n",
      "32000/32000 [==============================] - 46s 1ms/step - loss: 2.5454e-05 - val_loss: 2.5985e-05\n",
      "Epoch 86/100\n",
      "32000/32000 [==============================] - 46s 1ms/step - loss: 2.5141e-05 - val_loss: 2.5824e-05\n",
      "Epoch 87/100\n",
      "32000/32000 [==============================] - 46s 1ms/step - loss: 2.5174e-05 - val_loss: 2.6500e-05\n",
      "Epoch 88/100\n",
      "32000/32000 [==============================] - 46s 1ms/step - loss: 2.5047e-05 - val_loss: 2.6000e-05\n",
      "Epoch 89/100\n",
      "32000/32000 [==============================] - 46s 1ms/step - loss: 2.4864e-05 - val_loss: 2.6018e-05\n",
      "Epoch 90/100\n",
      "32000/32000 [==============================] - 46s 1ms/step - loss: 2.4825e-05 - val_loss: 2.6256e-05\n",
      "Epoch 91/100\n",
      "32000/32000 [==============================] - 46s 1ms/step - loss: 2.4645e-05 - val_loss: 2.5557e-05\n",
      "Epoch 92/100\n",
      "32000/32000 [==============================] - 46s 1ms/step - loss: 2.4426e-05 - val_loss: 2.6067e-05\n",
      "Epoch 93/100\n",
      "32000/32000 [==============================] - 46s 1ms/step - loss: 2.4645e-05 - val_loss: 2.6622e-05\n",
      "Epoch 94/100\n",
      "32000/32000 [==============================] - 46s 1ms/step - loss: 2.4551e-05 - val_loss: 2.5664e-05\n",
      "Epoch 95/100\n",
      "32000/32000 [==============================] - 47s 1ms/step - loss: 2.4304e-05 - val_loss: 2.6205e-05\n",
      "Epoch 96/100\n",
      "32000/32000 [==============================] - 46s 1ms/step - loss: 2.4453e-05 - val_loss: 2.5665e-05\n",
      "Epoch 97/100\n",
      "32000/32000 [==============================] - 46s 1ms/step - loss: 2.4274e-05 - val_loss: 2.5029e-05\n",
      "Epoch 98/100\n",
      "32000/32000 [==============================] - 46s 1ms/step - loss: 2.4274e-05 - val_loss: 2.4926e-05\n",
      "Epoch 99/100\n",
      "32000/32000 [==============================] - 46s 1ms/step - loss: 2.4064e-05 - val_loss: 2.4931e-05\n",
      "Epoch 100/100\n",
      "32000/32000 [==============================] - 46s 1ms/step - loss: 2.4303e-05 - val_loss: 2.4945e-05\n",
      "Train on 32000 samples, validate on 8000 samples\n",
      "Epoch 1/100\n",
      "32000/32000 [==============================] - 45s 1ms/step - loss: 0.0102 - val_loss: 0.0036\n",
      "Epoch 2/100\n",
      "32000/32000 [==============================] - 45s 1ms/step - loss: 0.0025 - val_loss: 0.0013\n",
      "Epoch 3/100\n",
      "32000/32000 [==============================] - 45s 1ms/step - loss: 0.0014 - val_loss: 0.0014\n",
      "Epoch 4/100\n",
      "32000/32000 [==============================] - 45s 1ms/step - loss: 0.0011 - val_loss: 0.0016\n",
      "Epoch 5/100\n",
      "32000/32000 [==============================] - 45s 1ms/step - loss: 0.0010 - val_loss: 0.0012\n",
      "Epoch 6/100\n",
      "32000/32000 [==============================] - 45s 1ms/step - loss: 8.3366e-04 - val_loss: 9.6782e-04\n",
      "Epoch 7/100\n",
      "32000/32000 [==============================] - 45s 1ms/step - loss: 7.6423e-04 - val_loss: 0.0010\n",
      "Epoch 8/100\n",
      "32000/32000 [==============================] - 45s 1ms/step - loss: 6.5700e-04 - val_loss: 6.7910e-04\n",
      "Epoch 9/100\n",
      "32000/32000 [==============================] - 45s 1ms/step - loss: 6.3291e-04 - val_loss: 7.6174e-04\n",
      "Epoch 10/100\n",
      "32000/32000 [==============================] - 44s 1ms/step - loss: 5.3658e-04 - val_loss: 6.0310e-04\n",
      "Epoch 11/100\n",
      "32000/32000 [==============================] - 45s 1ms/step - loss: 5.0792e-04 - val_loss: 8.0776e-04\n",
      "Epoch 12/100\n",
      "32000/32000 [==============================] - 45s 1ms/step - loss: 4.5237e-04 - val_loss: 5.3014e-04\n",
      "Epoch 13/100\n",
      "32000/32000 [==============================] - 45s 1ms/step - loss: 4.7024e-04 - val_loss: 6.2454e-04\n",
      "Epoch 14/100\n",
      "32000/32000 [==============================] - 45s 1ms/step - loss: 4.1339e-04 - val_loss: 4.3535e-04\n",
      "Epoch 15/100\n",
      "32000/32000 [==============================] - 46s 1ms/step - loss: 3.4707e-04 - val_loss: 5.4985e-04\n",
      "Epoch 16/100\n",
      "32000/32000 [==============================] - 45s 1ms/step - loss: 3.6630e-04 - val_loss: 4.6774e-04\n",
      "Epoch 17/100\n",
      "32000/32000 [==============================] - 45s 1ms/step - loss: 3.1838e-04 - val_loss: 5.0046e-04\n",
      "Epoch 18/100\n",
      "32000/32000 [==============================] - 44s 1ms/step - loss: 3.1683e-04 - val_loss: 3.6742e-04\n",
      "Epoch 19/100\n",
      "32000/32000 [==============================] - 44s 1ms/step - loss: 2.9047e-04 - val_loss: 4.3295e-04\n",
      "Epoch 20/100\n",
      "32000/32000 [==============================] - 44s 1ms/step - loss: 2.8305e-04 - val_loss: 3.5121e-04\n",
      "Epoch 21/100\n",
      "32000/32000 [==============================] - 45s 1ms/step - loss: 2.8885e-04 - val_loss: 3.0628e-04\n",
      "Epoch 22/100\n",
      "32000/32000 [==============================] - 45s 1ms/step - loss: 2.6386e-04 - val_loss: 4.3342e-04\n",
      "Epoch 23/100\n",
      "32000/32000 [==============================] - 45s 1ms/step - loss: 2.6270e-04 - val_loss: 3.1498e-04\n",
      "Epoch 24/100\n",
      "32000/32000 [==============================] - 44s 1ms/step - loss: 2.3326e-04 - val_loss: 3.3447e-04\n",
      "Epoch 25/100\n",
      "32000/32000 [==============================] - 44s 1ms/step - loss: 2.2938e-04 - val_loss: 3.3316e-04\n",
      "Epoch 26/100\n",
      "32000/32000 [==============================] - 44s 1ms/step - loss: 2.2618e-04 - val_loss: 3.1151e-04\n",
      "Epoch 27/100\n",
      "32000/32000 [==============================] - 44s 1ms/step - loss: 2.0657e-04 - val_loss: 3.5382e-04\n",
      "Epoch 28/100\n",
      "32000/32000 [==============================] - 44s 1ms/step - loss: 2.2191e-04 - val_loss: 2.8903e-04\n",
      "Epoch 29/100\n",
      "32000/32000 [==============================] - 45s 1ms/step - loss: 1.9495e-04 - val_loss: 2.9205e-04\n",
      "Epoch 30/100\n",
      "32000/32000 [==============================] - 45s 1ms/step - loss: 1.9585e-04 - val_loss: 3.4737e-04\n",
      "Epoch 31/100\n",
      "32000/32000 [==============================] - 44s 1ms/step - loss: 1.9134e-04 - val_loss: 2.7909e-04\n",
      "Epoch 32/100\n",
      "32000/32000 [==============================] - 44s 1ms/step - loss: 1.8713e-04 - val_loss: 3.1307e-04\n",
      "Epoch 33/100\n",
      "32000/32000 [==============================] - 44s 1ms/step - loss: 1.8997e-04 - val_loss: 3.0977e-04\n",
      "Epoch 34/100\n",
      "32000/32000 [==============================] - 44s 1ms/step - loss: 1.7887e-04 - val_loss: 3.0152e-04\n",
      "Epoch 35/100\n",
      "32000/32000 [==============================] - 45s 1ms/step - loss: 1.7019e-04 - val_loss: 2.3076e-04\n",
      "Epoch 36/100\n",
      "32000/32000 [==============================] - 46s 1ms/step - loss: 1.7951e-04 - val_loss: 2.9642e-04\n",
      "Epoch 37/100\n",
      "32000/32000 [==============================] - 44s 1ms/step - loss: 1.6513e-04 - val_loss: 2.6645e-04\n",
      "Epoch 38/100\n",
      "32000/32000 [==============================] - 44s 1ms/step - loss: 1.6872e-04 - val_loss: 3.1181e-04\n",
      "Epoch 39/100\n",
      "32000/32000 [==============================] - 44s 1ms/step - loss: 1.6240e-04 - val_loss: 2.5056e-04\n",
      "Epoch 40/100\n",
      "32000/32000 [==============================] - 44s 1ms/step - loss: 1.6445e-04 - val_loss: 2.5883e-04\n",
      "Epoch 41/100\n",
      "32000/32000 [==============================] - 44s 1ms/step - loss: 1.5315e-04 - val_loss: 2.6994e-04\n",
      "Epoch 42/100\n",
      "32000/32000 [==============================] - 44s 1ms/step - loss: 1.4589e-04 - val_loss: 2.7019e-04\n",
      "Epoch 43/100\n",
      "32000/32000 [==============================] - 44s 1ms/step - loss: 1.5677e-04 - val_loss: 2.6133e-04\n",
      "Epoch 44/100\n",
      "32000/32000 [==============================] - 44s 1ms/step - loss: 1.4823e-04 - val_loss: 2.1265e-04\n",
      "Epoch 45/100\n",
      "32000/32000 [==============================] - 44s 1ms/step - loss: 1.5688e-04 - val_loss: 3.1377e-04\n",
      "Epoch 46/100\n",
      "32000/32000 [==============================] - 44s 1ms/step - loss: 1.4904e-04 - val_loss: 2.2408e-04\n",
      "Epoch 47/100\n",
      "32000/32000 [==============================] - 44s 1ms/step - loss: 1.3571e-04 - val_loss: 2.3676e-04\n",
      "Epoch 48/100\n",
      "32000/32000 [==============================] - 44s 1ms/step - loss: 1.2802e-04 - val_loss: 2.8087e-04\n",
      "Epoch 49/100\n",
      "32000/32000 [==============================] - 44s 1ms/step - loss: 1.4474e-04 - val_loss: 2.0475e-04\n",
      "Epoch 50/100\n",
      "32000/32000 [==============================] - 45s 1ms/step - loss: 1.3849e-04 - val_loss: 2.1710e-04\n",
      "Epoch 51/100\n",
      "32000/32000 [==============================] - 45s 1ms/step - loss: 1.4162e-04 - val_loss: 2.6029e-04\n",
      "Epoch 52/100\n",
      "32000/32000 [==============================] - 44s 1ms/step - loss: 1.2512e-04 - val_loss: 3.2326e-04\n",
      "Epoch 53/100\n",
      "32000/32000 [==============================] - 45s 1ms/step - loss: 1.3046e-04 - val_loss: 2.5220e-04\n",
      "Epoch 54/100\n",
      "32000/32000 [==============================] - 45s 1ms/step - loss: 1.3362e-04 - val_loss: 2.2339e-04\n",
      "Epoch 55/100\n",
      "32000/32000 [==============================] - 45s 1ms/step - loss: 1.3194e-04 - val_loss: 2.2174e-04\n",
      "Epoch 56/100\n",
      "32000/32000 [==============================] - 46s 1ms/step - loss: 1.2716e-04 - val_loss: 2.4958e-04\n",
      "Epoch 57/100\n",
      "32000/32000 [==============================] - 45s 1ms/step - loss: 1.2990e-04 - val_loss: 2.0757e-04\n",
      "Epoch 58/100\n",
      "32000/32000 [==============================] - 44s 1ms/step - loss: 1.2710e-04 - val_loss: 2.7933e-04\n",
      "Epoch 59/100\n",
      "32000/32000 [==============================] - 44s 1ms/step - loss: 1.1978e-04 - val_loss: 2.2265e-04\n",
      "Epoch 60/100\n",
      "32000/32000 [==============================] - 44s 1ms/step - loss: 1.2602e-04 - val_loss: 2.5327e-04\n",
      "Epoch 61/100\n",
      "32000/32000 [==============================] - 45s 1ms/step - loss: 1.1229e-04 - val_loss: 1.8544e-04\n",
      "Epoch 62/100\n",
      "32000/32000 [==============================] - 45s 1ms/step - loss: 1.1782e-04 - val_loss: 2.6762e-04\n",
      "Epoch 63/100\n",
      "32000/32000 [==============================] - 44s 1ms/step - loss: 1.2153e-04 - val_loss: 2.4538e-04\n",
      "Epoch 64/100\n",
      "32000/32000 [==============================] - 45s 1ms/step - loss: 1.1641e-04 - val_loss: 2.3959e-04\n",
      "Epoch 65/100\n",
      "32000/32000 [==============================] - 44s 1ms/step - loss: 1.1003e-04 - val_loss: 2.3718e-04\n",
      "Epoch 66/100\n",
      "32000/32000 [==============================] - 44s 1ms/step - loss: 1.2550e-04 - val_loss: 2.3406e-04\n",
      "Epoch 67/100\n",
      "32000/32000 [==============================] - 45s 1ms/step - loss: 1.1310e-04 - val_loss: 2.1743e-04\n",
      "Epoch 68/100\n",
      "32000/32000 [==============================] - 45s 1ms/step - loss: 1.1214e-04 - val_loss: 1.9884e-04\n",
      "Epoch 69/100\n",
      "32000/32000 [==============================] - 44s 1ms/step - loss: 1.1175e-04 - val_loss: 2.0166e-04\n",
      "Epoch 70/100\n",
      "32000/32000 [==============================] - 44s 1ms/step - loss: 1.0257e-04 - val_loss: 2.2595e-04\n",
      "Epoch 71/100\n",
      "32000/32000 [==============================] - 44s 1ms/step - loss: 1.1177e-04 - val_loss: 1.9430e-04\n",
      "Epoch 72/100\n",
      "32000/32000 [==============================] - 44s 1ms/step - loss: 1.2043e-04 - val_loss: 2.5099e-04\n",
      "Epoch 73/100\n",
      "32000/32000 [==============================] - 44s 1ms/step - loss: 1.0271e-04 - val_loss: 2.1941e-04\n",
      "Epoch 74/100\n",
      "32000/32000 [==============================] - 44s 1ms/step - loss: 1.1038e-04 - val_loss: 2.4364e-04\n",
      "Epoch 75/100\n",
      "32000/32000 [==============================] - 44s 1ms/step - loss: 9.9553e-05 - val_loss: 1.9046e-04\n",
      "Epoch 76/100\n",
      "32000/32000 [==============================] - 46s 1ms/step - loss: 1.1164e-04 - val_loss: 2.0270e-04\n",
      "Epoch 77/100\n",
      "32000/32000 [==============================] - 45s 1ms/step - loss: 1.0822e-04 - val_loss: 2.2342e-04\n",
      "Epoch 78/100\n",
      "32000/32000 [==============================] - 45s 1ms/step - loss: 9.8307e-05 - val_loss: 1.9923e-04\n",
      "Epoch 79/100\n",
      "32000/32000 [==============================] - 44s 1ms/step - loss: 1.0047e-04 - val_loss: 2.1642e-04\n",
      "Epoch 80/100\n",
      "32000/32000 [==============================] - 44s 1ms/step - loss: 1.1043e-04 - val_loss: 2.0565e-04\n",
      "Epoch 81/100\n",
      "32000/32000 [==============================] - 45s 1ms/step - loss: 9.3106e-05 - val_loss: 2.1826e-04\n",
      "Epoch 82/100\n",
      "32000/32000 [==============================] - 45s 1ms/step - loss: 1.0283e-04 - val_loss: 1.9156e-04\n",
      "Epoch 83/100\n",
      "32000/32000 [==============================] - 45s 1ms/step - loss: 9.5722e-05 - val_loss: 1.8054e-04\n",
      "Epoch 84/100\n",
      "32000/32000 [==============================] - 44s 1ms/step - loss: 9.2721e-05 - val_loss: 2.1727e-04\n",
      "Epoch 85/100\n",
      "32000/32000 [==============================] - 45s 1ms/step - loss: 9.5467e-05 - val_loss: 1.8511e-04\n",
      "Epoch 86/100\n",
      "32000/32000 [==============================] - 44s 1ms/step - loss: 9.7215e-05 - val_loss: 2.0776e-04\n",
      "Epoch 87/100\n",
      "32000/32000 [==============================] - 44s 1ms/step - loss: 9.1670e-05 - val_loss: 1.8327e-04\n",
      "Epoch 88/100\n",
      "32000/32000 [==============================] - 45s 1ms/step - loss: 9.5046e-05 - val_loss: 2.1784e-04\n",
      "Epoch 89/100\n",
      "32000/32000 [==============================] - 45s 1ms/step - loss: 9.0427e-05 - val_loss: 1.8173e-04\n",
      "Epoch 90/100\n",
      "32000/32000 [==============================] - 45s 1ms/step - loss: 9.4370e-05 - val_loss: 2.5163e-04\n",
      "Epoch 91/100\n",
      "32000/32000 [==============================] - 45s 1ms/step - loss: 9.0860e-05 - val_loss: 2.0856e-04\n",
      "Epoch 92/100\n",
      "32000/32000 [==============================] - 45s 1ms/step - loss: 9.3503e-05 - val_loss: 1.9826e-04\n",
      "Epoch 93/100\n",
      "32000/32000 [==============================] - 45s 1ms/step - loss: 9.1249e-05 - val_loss: 2.0614e-04\n",
      "Epoch 94/100\n",
      "32000/32000 [==============================] - 45s 1ms/step - loss: 8.9594e-05 - val_loss: 1.7909e-04\n",
      "Epoch 95/100\n",
      "32000/32000 [==============================] - 44s 1ms/step - loss: 8.6809e-05 - val_loss: 1.8620e-04\n",
      "Epoch 96/100\n",
      "32000/32000 [==============================] - 46s 1ms/step - loss: 8.5765e-05 - val_loss: 2.0071e-04\n",
      "Epoch 97/100\n",
      "32000/32000 [==============================] - 45s 1ms/step - loss: 9.3168e-05 - val_loss: 1.8080e-04\n",
      "Epoch 98/100\n"
     ]
    },
    {
     "name": "stdout",
     "output_type": "stream",
     "text": [
      "32000/32000 [==============================] - 45s 1ms/step - loss: 9.2246e-05 - val_loss: 1.8171e-04\n",
      "Epoch 99/100\n",
      "32000/32000 [==============================] - 45s 1ms/step - loss: 8.4754e-05 - val_loss: 1.9423e-04\n",
      "Epoch 100/100\n",
      "32000/32000 [==============================] - 45s 1ms/step - loss: 8.4004e-05 - val_loss: 2.3156e-04\n",
      "Train on 32000 samples, validate on 8000 samples\n",
      "Epoch 1/100\n"
     ]
    },
    {
     "ename": "ResourceExhaustedError",
     "evalue": "OOM when allocating tensor with shape[1000,19200] and type float on /job:localhost/replica:0/task:0/device:GPU:0 by allocator GPU_0_bfc\n\t [[Node: training_8/Adam/mul_32 = Mul[T=DT_FLOAT, _device=\"/job:localhost/replica:0/task:0/device:GPU:0\"](training_8/Adam/sub_2, training_8/Adam/gradients/dense_36/MatMul_grad/MatMul_1)]]\nHint: If you want to see a list of allocated tensors when OOM happens, add report_tensor_allocations_upon_oom to RunOptions for current allocation info.\n\n\nCaused by op 'training_8/Adam/mul_32', defined at:\n  File \"c:\\program files (x86)\\microsoft visual studio\\shared\\python36_64\\lib\\runpy.py\", line 193, in _run_module_as_main\n    \"__main__\", mod_spec)\n  File \"c:\\program files (x86)\\microsoft visual studio\\shared\\python36_64\\lib\\runpy.py\", line 85, in _run_code\n    exec(code, run_globals)\n  File \"c:\\program files (x86)\\microsoft visual studio\\shared\\python36_64\\lib\\site-packages\\ipykernel_launcher.py\", line 16, in <module>\n    app.launch_new_instance()\n  File \"c:\\program files (x86)\\microsoft visual studio\\shared\\python36_64\\lib\\site-packages\\traitlets\\config\\application.py\", line 658, in launch_instance\n    app.start()\n  File \"c:\\program files (x86)\\microsoft visual studio\\shared\\python36_64\\lib\\site-packages\\ipykernel\\kernelapp.py\", line 486, in start\n    self.io_loop.start()\n  File \"c:\\program files (x86)\\microsoft visual studio\\shared\\python36_64\\lib\\site-packages\\tornado\\platform\\asyncio.py\", line 112, in start\n    self.asyncio_loop.run_forever()\n  File \"c:\\program files (x86)\\microsoft visual studio\\shared\\python36_64\\lib\\asyncio\\base_events.py\", line 421, in run_forever\n    self._run_once()\n  File \"c:\\program files (x86)\\microsoft visual studio\\shared\\python36_64\\lib\\asyncio\\base_events.py\", line 1431, in _run_once\n    handle._run()\n  File \"c:\\program files (x86)\\microsoft visual studio\\shared\\python36_64\\lib\\asyncio\\events.py\", line 145, in _run\n    self._callback(*self._args)\n  File \"c:\\program files (x86)\\microsoft visual studio\\shared\\python36_64\\lib\\site-packages\\tornado\\platform\\asyncio.py\", line 102, in _handle_events\n    handler_func(fileobj, events)\n  File \"c:\\program files (x86)\\microsoft visual studio\\shared\\python36_64\\lib\\site-packages\\tornado\\stack_context.py\", line 276, in null_wrapper\n    return fn(*args, **kwargs)\n  File \"c:\\program files (x86)\\microsoft visual studio\\shared\\python36_64\\lib\\site-packages\\zmq\\eventloop\\zmqstream.py\", line 450, in _handle_events\n    self._handle_recv()\n  File \"c:\\program files (x86)\\microsoft visual studio\\shared\\python36_64\\lib\\site-packages\\zmq\\eventloop\\zmqstream.py\", line 480, in _handle_recv\n    self._run_callback(callback, msg)\n  File \"c:\\program files (x86)\\microsoft visual studio\\shared\\python36_64\\lib\\site-packages\\zmq\\eventloop\\zmqstream.py\", line 432, in _run_callback\n    callback(*args, **kwargs)\n  File \"c:\\program files (x86)\\microsoft visual studio\\shared\\python36_64\\lib\\site-packages\\tornado\\stack_context.py\", line 276, in null_wrapper\n    return fn(*args, **kwargs)\n  File \"c:\\program files (x86)\\microsoft visual studio\\shared\\python36_64\\lib\\site-packages\\ipykernel\\kernelbase.py\", line 283, in dispatcher\n    return self.dispatch_shell(stream, msg)\n  File \"c:\\program files (x86)\\microsoft visual studio\\shared\\python36_64\\lib\\site-packages\\ipykernel\\kernelbase.py\", line 233, in dispatch_shell\n    handler(stream, idents, msg)\n  File \"c:\\program files (x86)\\microsoft visual studio\\shared\\python36_64\\lib\\site-packages\\ipykernel\\kernelbase.py\", line 399, in execute_request\n    user_expressions, allow_stdin)\n  File \"c:\\program files (x86)\\microsoft visual studio\\shared\\python36_64\\lib\\site-packages\\ipykernel\\ipkernel.py\", line 208, in do_execute\n    res = shell.run_cell(code, store_history=store_history, silent=silent)\n  File \"c:\\program files (x86)\\microsoft visual studio\\shared\\python36_64\\lib\\site-packages\\ipykernel\\zmqshell.py\", line 537, in run_cell\n    return super(ZMQInteractiveShell, self).run_cell(*args, **kwargs)\n  File \"c:\\program files (x86)\\microsoft visual studio\\shared\\python36_64\\lib\\site-packages\\IPython\\core\\interactiveshell.py\", line 2728, in run_cell\n    interactivity=interactivity, compiler=compiler, result=result)\n  File \"c:\\program files (x86)\\microsoft visual studio\\shared\\python36_64\\lib\\site-packages\\IPython\\core\\interactiveshell.py\", line 2850, in run_ast_nodes\n    if self.run_code(code, result):\n  File \"c:\\program files (x86)\\microsoft visual studio\\shared\\python36_64\\lib\\site-packages\\IPython\\core\\interactiveshell.py\", line 2910, in run_code\n    exec(code_obj, self.user_global_ns, self.user_ns)\n  File \"<ipython-input-17-ec7aad955880>\", line 40, in <module>\n    hd = modelDecoder.fit(y_train, x_train, epochs=100, validation_data=(y_test, x_test))\n  File \"c:\\program files (x86)\\microsoft visual studio\\shared\\python36_64\\lib\\site-packages\\keras\\models.py\", line 963, in fit\n    validation_steps=validation_steps)\n  File \"c:\\program files (x86)\\microsoft visual studio\\shared\\python36_64\\lib\\site-packages\\keras\\engine\\training.py\", line 1689, in fit\n    self._make_train_function()\n  File \"c:\\program files (x86)\\microsoft visual studio\\shared\\python36_64\\lib\\site-packages\\keras\\engine\\training.py\", line 990, in _make_train_function\n    loss=self.total_loss)\n  File \"c:\\program files (x86)\\microsoft visual studio\\shared\\python36_64\\lib\\site-packages\\keras\\legacy\\interfaces.py\", line 91, in wrapper\n    return func(*args, **kwargs)\n  File \"c:\\program files (x86)\\microsoft visual studio\\shared\\python36_64\\lib\\site-packages\\keras\\optimizers.py\", line 461, in get_updates\n    m_t = (self.beta_1 * m) + (1. - self.beta_1) * g\n  File \"c:\\program files (x86)\\microsoft visual studio\\shared\\python36_64\\lib\\site-packages\\tensorflow\\python\\ops\\math_ops.py\", line 907, in binary_op_wrapper\n    return func(x, y, name=name)\n  File \"c:\\program files (x86)\\microsoft visual studio\\shared\\python36_64\\lib\\site-packages\\tensorflow\\python\\ops\\math_ops.py\", line 1131, in _mul_dispatch\n    return gen_math_ops._mul(x, y, name=name)\n  File \"c:\\program files (x86)\\microsoft visual studio\\shared\\python36_64\\lib\\site-packages\\tensorflow\\python\\ops\\gen_math_ops.py\", line 3100, in _mul\n    \"Mul\", x=x, y=y, name=name)\n  File \"c:\\program files (x86)\\microsoft visual studio\\shared\\python36_64\\lib\\site-packages\\tensorflow\\python\\framework\\op_def_library.py\", line 787, in _apply_op_helper\n    op_def=op_def)\n  File \"c:\\program files (x86)\\microsoft visual studio\\shared\\python36_64\\lib\\site-packages\\tensorflow\\python\\framework\\ops.py\", line 3160, in create_op\n    op_def=op_def)\n  File \"c:\\program files (x86)\\microsoft visual studio\\shared\\python36_64\\lib\\site-packages\\tensorflow\\python\\framework\\ops.py\", line 1625, in __init__\n    self._traceback = self._graph._extract_stack()  # pylint: disable=protected-access\n\nResourceExhaustedError (see above for traceback): OOM when allocating tensor with shape[1000,19200] and type float on /job:localhost/replica:0/task:0/device:GPU:0 by allocator GPU_0_bfc\n\t [[Node: training_8/Adam/mul_32 = Mul[T=DT_FLOAT, _device=\"/job:localhost/replica:0/task:0/device:GPU:0\"](training_8/Adam/sub_2, training_8/Adam/gradients/dense_36/MatMul_grad/MatMul_1)]]\nHint: If you want to see a list of allocated tensors when OOM happens, add report_tensor_allocations_upon_oom to RunOptions for current allocation info.\n\n",
     "output_type": "error",
     "traceback": [
      "\u001b[1;31m---------------------------------------------------------------------------\u001b[0m",
      "\u001b[1;31mResourceExhaustedError\u001b[0m                    Traceback (most recent call last)",
      "\u001b[1;32mc:\\program files (x86)\\microsoft visual studio\\shared\\python36_64\\lib\\site-packages\\tensorflow\\python\\client\\session.py\u001b[0m in \u001b[0;36m_do_call\u001b[1;34m(self, fn, *args)\u001b[0m\n\u001b[0;32m   1349\u001b[0m     \u001b[1;32mtry\u001b[0m\u001b[1;33m:\u001b[0m\u001b[1;33m\u001b[0m\u001b[0m\n\u001b[1;32m-> 1350\u001b[1;33m       \u001b[1;32mreturn\u001b[0m \u001b[0mfn\u001b[0m\u001b[1;33m(\u001b[0m\u001b[1;33m*\u001b[0m\u001b[0margs\u001b[0m\u001b[1;33m)\u001b[0m\u001b[1;33m\u001b[0m\u001b[0m\n\u001b[0m\u001b[0;32m   1351\u001b[0m     \u001b[1;32mexcept\u001b[0m \u001b[0merrors\u001b[0m\u001b[1;33m.\u001b[0m\u001b[0mOpError\u001b[0m \u001b[1;32mas\u001b[0m \u001b[0me\u001b[0m\u001b[1;33m:\u001b[0m\u001b[1;33m\u001b[0m\u001b[0m\n",
      "\u001b[1;32mc:\\program files (x86)\\microsoft visual studio\\shared\\python36_64\\lib\\site-packages\\tensorflow\\python\\client\\session.py\u001b[0m in \u001b[0;36m_run_fn\u001b[1;34m(session, feed_dict, fetch_list, target_list, options, run_metadata)\u001b[0m\n\u001b[0;32m   1328\u001b[0m                                    \u001b[0mfeed_dict\u001b[0m\u001b[1;33m,\u001b[0m \u001b[0mfetch_list\u001b[0m\u001b[1;33m,\u001b[0m \u001b[0mtarget_list\u001b[0m\u001b[1;33m,\u001b[0m\u001b[1;33m\u001b[0m\u001b[0m\n\u001b[1;32m-> 1329\u001b[1;33m                                    status, run_metadata)\n\u001b[0m\u001b[0;32m   1330\u001b[0m \u001b[1;33m\u001b[0m\u001b[0m\n",
      "\u001b[1;32mc:\\program files (x86)\\microsoft visual studio\\shared\\python36_64\\lib\\site-packages\\tensorflow\\python\\framework\\errors_impl.py\u001b[0m in \u001b[0;36m__exit__\u001b[1;34m(self, type_arg, value_arg, traceback_arg)\u001b[0m\n\u001b[0;32m    472\u001b[0m             \u001b[0mcompat\u001b[0m\u001b[1;33m.\u001b[0m\u001b[0mas_text\u001b[0m\u001b[1;33m(\u001b[0m\u001b[0mc_api\u001b[0m\u001b[1;33m.\u001b[0m\u001b[0mTF_Message\u001b[0m\u001b[1;33m(\u001b[0m\u001b[0mself\u001b[0m\u001b[1;33m.\u001b[0m\u001b[0mstatus\u001b[0m\u001b[1;33m.\u001b[0m\u001b[0mstatus\u001b[0m\u001b[1;33m)\u001b[0m\u001b[1;33m)\u001b[0m\u001b[1;33m,\u001b[0m\u001b[1;33m\u001b[0m\u001b[0m\n\u001b[1;32m--> 473\u001b[1;33m             c_api.TF_GetCode(self.status.status))\n\u001b[0m\u001b[0;32m    474\u001b[0m     \u001b[1;31m# Delete the underlying status object from memory otherwise it stays alive\u001b[0m\u001b[1;33m\u001b[0m\u001b[1;33m\u001b[0m\u001b[0m\n",
      "\u001b[1;31mResourceExhaustedError\u001b[0m: OOM when allocating tensor with shape[1000,19200] and type float on /job:localhost/replica:0/task:0/device:GPU:0 by allocator GPU_0_bfc\n\t [[Node: training_8/Adam/mul_32 = Mul[T=DT_FLOAT, _device=\"/job:localhost/replica:0/task:0/device:GPU:0\"](training_8/Adam/sub_2, training_8/Adam/gradients/dense_36/MatMul_grad/MatMul_1)]]\nHint: If you want to see a list of allocated tensors when OOM happens, add report_tensor_allocations_upon_oom to RunOptions for current allocation info.\n",
      "\nDuring handling of the above exception, another exception occurred:\n",
      "\u001b[1;31mResourceExhaustedError\u001b[0m                    Traceback (most recent call last)",
      "\u001b[1;32m<ipython-input-17-ec7aad955880>\u001b[0m in \u001b[0;36m<module>\u001b[1;34m()\u001b[0m\n\u001b[0;32m     38\u001b[0m     \u001b[0mmodelDecoder\u001b[0m\u001b[1;33m.\u001b[0m\u001b[0madd\u001b[0m\u001b[1;33m(\u001b[0m\u001b[0mDense\u001b[0m\u001b[1;33m(\u001b[0m\u001b[1;36m19200\u001b[0m\u001b[1;33m)\u001b[0m\u001b[1;33m)\u001b[0m\u001b[1;33m\u001b[0m\u001b[0m\n\u001b[0;32m     39\u001b[0m     \u001b[0mmodelDecoder\u001b[0m\u001b[1;33m.\u001b[0m\u001b[0mcompile\u001b[0m\u001b[1;33m(\u001b[0m\u001b[0mloss\u001b[0m\u001b[1;33m=\u001b[0m\u001b[1;34m'mean_squared_error'\u001b[0m\u001b[1;33m,\u001b[0m \u001b[0moptimizer\u001b[0m\u001b[1;33m=\u001b[0m\u001b[1;34m'Adam'\u001b[0m\u001b[1;33m)\u001b[0m\u001b[1;33m\u001b[0m\u001b[0m\n\u001b[1;32m---> 40\u001b[1;33m     \u001b[0mhd\u001b[0m \u001b[1;33m=\u001b[0m \u001b[0mmodelDecoder\u001b[0m\u001b[1;33m.\u001b[0m\u001b[0mfit\u001b[0m\u001b[1;33m(\u001b[0m\u001b[0my_train\u001b[0m\u001b[1;33m,\u001b[0m \u001b[0mx_train\u001b[0m\u001b[1;33m,\u001b[0m \u001b[0mepochs\u001b[0m\u001b[1;33m=\u001b[0m\u001b[1;36m100\u001b[0m\u001b[1;33m,\u001b[0m \u001b[0mvalidation_data\u001b[0m\u001b[1;33m=\u001b[0m\u001b[1;33m(\u001b[0m\u001b[0my_test\u001b[0m\u001b[1;33m,\u001b[0m \u001b[0mx_test\u001b[0m\u001b[1;33m)\u001b[0m\u001b[1;33m)\u001b[0m\u001b[1;33m\u001b[0m\u001b[0m\n\u001b[0m\u001b[0;32m     41\u001b[0m \u001b[1;33m\u001b[0m\u001b[0m\n\u001b[0;32m     42\u001b[0m     \u001b[0mlst_hd\u001b[0m\u001b[1;33m.\u001b[0m\u001b[0mappend\u001b[0m\u001b[1;33m(\u001b[0m\u001b[0mhd\u001b[0m\u001b[1;33m)\u001b[0m\u001b[1;33m\u001b[0m\u001b[0m\n",
      "\u001b[1;32mc:\\program files (x86)\\microsoft visual studio\\shared\\python36_64\\lib\\site-packages\\keras\\models.py\u001b[0m in \u001b[0;36mfit\u001b[1;34m(self, x, y, batch_size, epochs, verbose, callbacks, validation_split, validation_data, shuffle, class_weight, sample_weight, initial_epoch, steps_per_epoch, validation_steps, **kwargs)\u001b[0m\n\u001b[0;32m    961\u001b[0m                               \u001b[0minitial_epoch\u001b[0m\u001b[1;33m=\u001b[0m\u001b[0minitial_epoch\u001b[0m\u001b[1;33m,\u001b[0m\u001b[1;33m\u001b[0m\u001b[0m\n\u001b[0;32m    962\u001b[0m                               \u001b[0msteps_per_epoch\u001b[0m\u001b[1;33m=\u001b[0m\u001b[0msteps_per_epoch\u001b[0m\u001b[1;33m,\u001b[0m\u001b[1;33m\u001b[0m\u001b[0m\n\u001b[1;32m--> 963\u001b[1;33m                               validation_steps=validation_steps)\n\u001b[0m\u001b[0;32m    964\u001b[0m \u001b[1;33m\u001b[0m\u001b[0m\n\u001b[0;32m    965\u001b[0m     def evaluate(self, x=None, y=None,\n",
      "\u001b[1;32mc:\\program files (x86)\\microsoft visual studio\\shared\\python36_64\\lib\\site-packages\\keras\\engine\\training.py\u001b[0m in \u001b[0;36mfit\u001b[1;34m(self, x, y, batch_size, epochs, verbose, callbacks, validation_split, validation_data, shuffle, class_weight, sample_weight, initial_epoch, steps_per_epoch, validation_steps, **kwargs)\u001b[0m\n\u001b[0;32m   1710\u001b[0m                               \u001b[0minitial_epoch\u001b[0m\u001b[1;33m=\u001b[0m\u001b[0minitial_epoch\u001b[0m\u001b[1;33m,\u001b[0m\u001b[1;33m\u001b[0m\u001b[0m\n\u001b[0;32m   1711\u001b[0m                               \u001b[0msteps_per_epoch\u001b[0m\u001b[1;33m=\u001b[0m\u001b[0msteps_per_epoch\u001b[0m\u001b[1;33m,\u001b[0m\u001b[1;33m\u001b[0m\u001b[0m\n\u001b[1;32m-> 1712\u001b[1;33m                               validation_steps=validation_steps)\n\u001b[0m\u001b[0;32m   1713\u001b[0m \u001b[1;33m\u001b[0m\u001b[0m\n\u001b[0;32m   1714\u001b[0m     def evaluate(self, x=None, y=None,\n",
      "\u001b[1;32mc:\\program files (x86)\\microsoft visual studio\\shared\\python36_64\\lib\\site-packages\\keras\\engine\\training.py\u001b[0m in \u001b[0;36m_fit_loop\u001b[1;34m(self, f, ins, out_labels, batch_size, epochs, verbose, callbacks, val_f, val_ins, shuffle, callback_metrics, initial_epoch, steps_per_epoch, validation_steps)\u001b[0m\n\u001b[0;32m   1233\u001b[0m                         \u001b[0mins_batch\u001b[0m\u001b[1;33m[\u001b[0m\u001b[0mi\u001b[0m\u001b[1;33m]\u001b[0m \u001b[1;33m=\u001b[0m \u001b[0mins_batch\u001b[0m\u001b[1;33m[\u001b[0m\u001b[0mi\u001b[0m\u001b[1;33m]\u001b[0m\u001b[1;33m.\u001b[0m\u001b[0mtoarray\u001b[0m\u001b[1;33m(\u001b[0m\u001b[1;33m)\u001b[0m\u001b[1;33m\u001b[0m\u001b[0m\n\u001b[0;32m   1234\u001b[0m \u001b[1;33m\u001b[0m\u001b[0m\n\u001b[1;32m-> 1235\u001b[1;33m                     \u001b[0mouts\u001b[0m \u001b[1;33m=\u001b[0m \u001b[0mf\u001b[0m\u001b[1;33m(\u001b[0m\u001b[0mins_batch\u001b[0m\u001b[1;33m)\u001b[0m\u001b[1;33m\u001b[0m\u001b[0m\n\u001b[0m\u001b[0;32m   1236\u001b[0m                     \u001b[1;32mif\u001b[0m \u001b[1;32mnot\u001b[0m \u001b[0misinstance\u001b[0m\u001b[1;33m(\u001b[0m\u001b[0mouts\u001b[0m\u001b[1;33m,\u001b[0m \u001b[0mlist\u001b[0m\u001b[1;33m)\u001b[0m\u001b[1;33m:\u001b[0m\u001b[1;33m\u001b[0m\u001b[0m\n\u001b[0;32m   1237\u001b[0m                         \u001b[0mouts\u001b[0m \u001b[1;33m=\u001b[0m \u001b[1;33m[\u001b[0m\u001b[0mouts\u001b[0m\u001b[1;33m]\u001b[0m\u001b[1;33m\u001b[0m\u001b[0m\n",
      "\u001b[1;32mc:\\program files (x86)\\microsoft visual studio\\shared\\python36_64\\lib\\site-packages\\keras\\backend\\tensorflow_backend.py\u001b[0m in \u001b[0;36m__call__\u001b[1;34m(self, inputs)\u001b[0m\n\u001b[0;32m   2473\u001b[0m         \u001b[0msession\u001b[0m \u001b[1;33m=\u001b[0m \u001b[0mget_session\u001b[0m\u001b[1;33m(\u001b[0m\u001b[1;33m)\u001b[0m\u001b[1;33m\u001b[0m\u001b[0m\n\u001b[0;32m   2474\u001b[0m         updated = session.run(fetches=fetches, feed_dict=feed_dict,\n\u001b[1;32m-> 2475\u001b[1;33m                               **self.session_kwargs)\n\u001b[0m\u001b[0;32m   2476\u001b[0m         \u001b[1;32mreturn\u001b[0m \u001b[0mupdated\u001b[0m\u001b[1;33m[\u001b[0m\u001b[1;33m:\u001b[0m\u001b[0mlen\u001b[0m\u001b[1;33m(\u001b[0m\u001b[0mself\u001b[0m\u001b[1;33m.\u001b[0m\u001b[0moutputs\u001b[0m\u001b[1;33m)\u001b[0m\u001b[1;33m]\u001b[0m\u001b[1;33m\u001b[0m\u001b[0m\n\u001b[0;32m   2477\u001b[0m \u001b[1;33m\u001b[0m\u001b[0m\n",
      "\u001b[1;32mc:\\program files (x86)\\microsoft visual studio\\shared\\python36_64\\lib\\site-packages\\tensorflow\\python\\client\\session.py\u001b[0m in \u001b[0;36mrun\u001b[1;34m(self, fetches, feed_dict, options, run_metadata)\u001b[0m\n\u001b[0;32m    893\u001b[0m     \u001b[1;32mtry\u001b[0m\u001b[1;33m:\u001b[0m\u001b[1;33m\u001b[0m\u001b[0m\n\u001b[0;32m    894\u001b[0m       result = self._run(None, fetches, feed_dict, options_ptr,\n\u001b[1;32m--> 895\u001b[1;33m                          run_metadata_ptr)\n\u001b[0m\u001b[0;32m    896\u001b[0m       \u001b[1;32mif\u001b[0m \u001b[0mrun_metadata\u001b[0m\u001b[1;33m:\u001b[0m\u001b[1;33m\u001b[0m\u001b[0m\n\u001b[0;32m    897\u001b[0m         \u001b[0mproto_data\u001b[0m \u001b[1;33m=\u001b[0m \u001b[0mtf_session\u001b[0m\u001b[1;33m.\u001b[0m\u001b[0mTF_GetBuffer\u001b[0m\u001b[1;33m(\u001b[0m\u001b[0mrun_metadata_ptr\u001b[0m\u001b[1;33m)\u001b[0m\u001b[1;33m\u001b[0m\u001b[0m\n",
      "\u001b[1;32mc:\\program files (x86)\\microsoft visual studio\\shared\\python36_64\\lib\\site-packages\\tensorflow\\python\\client\\session.py\u001b[0m in \u001b[0;36m_run\u001b[1;34m(self, handle, fetches, feed_dict, options, run_metadata)\u001b[0m\n\u001b[0;32m   1126\u001b[0m     \u001b[1;32mif\u001b[0m \u001b[0mfinal_fetches\u001b[0m \u001b[1;32mor\u001b[0m \u001b[0mfinal_targets\u001b[0m \u001b[1;32mor\u001b[0m \u001b[1;33m(\u001b[0m\u001b[0mhandle\u001b[0m \u001b[1;32mand\u001b[0m \u001b[0mfeed_dict_tensor\u001b[0m\u001b[1;33m)\u001b[0m\u001b[1;33m:\u001b[0m\u001b[1;33m\u001b[0m\u001b[0m\n\u001b[0;32m   1127\u001b[0m       results = self._do_run(handle, final_targets, final_fetches,\n\u001b[1;32m-> 1128\u001b[1;33m                              feed_dict_tensor, options, run_metadata)\n\u001b[0m\u001b[0;32m   1129\u001b[0m     \u001b[1;32melse\u001b[0m\u001b[1;33m:\u001b[0m\u001b[1;33m\u001b[0m\u001b[0m\n\u001b[0;32m   1130\u001b[0m       \u001b[0mresults\u001b[0m \u001b[1;33m=\u001b[0m \u001b[1;33m[\u001b[0m\u001b[1;33m]\u001b[0m\u001b[1;33m\u001b[0m\u001b[0m\n",
      "\u001b[1;32mc:\\program files (x86)\\microsoft visual studio\\shared\\python36_64\\lib\\site-packages\\tensorflow\\python\\client\\session.py\u001b[0m in \u001b[0;36m_do_run\u001b[1;34m(self, handle, target_list, fetch_list, feed_dict, options, run_metadata)\u001b[0m\n\u001b[0;32m   1342\u001b[0m     \u001b[1;32mif\u001b[0m \u001b[0mhandle\u001b[0m \u001b[1;32mis\u001b[0m \u001b[1;32mNone\u001b[0m\u001b[1;33m:\u001b[0m\u001b[1;33m\u001b[0m\u001b[0m\n\u001b[0;32m   1343\u001b[0m       return self._do_call(_run_fn, self._session, feeds, fetches, targets,\n\u001b[1;32m-> 1344\u001b[1;33m                            options, run_metadata)\n\u001b[0m\u001b[0;32m   1345\u001b[0m     \u001b[1;32melse\u001b[0m\u001b[1;33m:\u001b[0m\u001b[1;33m\u001b[0m\u001b[0m\n\u001b[0;32m   1346\u001b[0m       \u001b[1;32mreturn\u001b[0m \u001b[0mself\u001b[0m\u001b[1;33m.\u001b[0m\u001b[0m_do_call\u001b[0m\u001b[1;33m(\u001b[0m\u001b[0m_prun_fn\u001b[0m\u001b[1;33m,\u001b[0m \u001b[0mself\u001b[0m\u001b[1;33m.\u001b[0m\u001b[0m_session\u001b[0m\u001b[1;33m,\u001b[0m \u001b[0mhandle\u001b[0m\u001b[1;33m,\u001b[0m \u001b[0mfeeds\u001b[0m\u001b[1;33m,\u001b[0m \u001b[0mfetches\u001b[0m\u001b[1;33m)\u001b[0m\u001b[1;33m\u001b[0m\u001b[0m\n",
      "\u001b[1;32mc:\\program files (x86)\\microsoft visual studio\\shared\\python36_64\\lib\\site-packages\\tensorflow\\python\\client\\session.py\u001b[0m in \u001b[0;36m_do_call\u001b[1;34m(self, fn, *args)\u001b[0m\n\u001b[0;32m   1361\u001b[0m         \u001b[1;32mexcept\u001b[0m \u001b[0mKeyError\u001b[0m\u001b[1;33m:\u001b[0m\u001b[1;33m\u001b[0m\u001b[0m\n\u001b[0;32m   1362\u001b[0m           \u001b[1;32mpass\u001b[0m\u001b[1;33m\u001b[0m\u001b[0m\n\u001b[1;32m-> 1363\u001b[1;33m       \u001b[1;32mraise\u001b[0m \u001b[0mtype\u001b[0m\u001b[1;33m(\u001b[0m\u001b[0me\u001b[0m\u001b[1;33m)\u001b[0m\u001b[1;33m(\u001b[0m\u001b[0mnode_def\u001b[0m\u001b[1;33m,\u001b[0m \u001b[0mop\u001b[0m\u001b[1;33m,\u001b[0m \u001b[0mmessage\u001b[0m\u001b[1;33m)\u001b[0m\u001b[1;33m\u001b[0m\u001b[0m\n\u001b[0m\u001b[0;32m   1364\u001b[0m \u001b[1;33m\u001b[0m\u001b[0m\n\u001b[0;32m   1365\u001b[0m   \u001b[1;32mdef\u001b[0m \u001b[0m_extend_graph\u001b[0m\u001b[1;33m(\u001b[0m\u001b[0mself\u001b[0m\u001b[1;33m)\u001b[0m\u001b[1;33m:\u001b[0m\u001b[1;33m\u001b[0m\u001b[0m\n",
      "\u001b[1;31mResourceExhaustedError\u001b[0m: OOM when allocating tensor with shape[1000,19200] and type float on /job:localhost/replica:0/task:0/device:GPU:0 by allocator GPU_0_bfc\n\t [[Node: training_8/Adam/mul_32 = Mul[T=DT_FLOAT, _device=\"/job:localhost/replica:0/task:0/device:GPU:0\"](training_8/Adam/sub_2, training_8/Adam/gradients/dense_36/MatMul_grad/MatMul_1)]]\nHint: If you want to see a list of allocated tensors when OOM happens, add report_tensor_allocations_upon_oom to RunOptions for current allocation info.\n\n\nCaused by op 'training_8/Adam/mul_32', defined at:\n  File \"c:\\program files (x86)\\microsoft visual studio\\shared\\python36_64\\lib\\runpy.py\", line 193, in _run_module_as_main\n    \"__main__\", mod_spec)\n  File \"c:\\program files (x86)\\microsoft visual studio\\shared\\python36_64\\lib\\runpy.py\", line 85, in _run_code\n    exec(code, run_globals)\n  File \"c:\\program files (x86)\\microsoft visual studio\\shared\\python36_64\\lib\\site-packages\\ipykernel_launcher.py\", line 16, in <module>\n    app.launch_new_instance()\n  File \"c:\\program files (x86)\\microsoft visual studio\\shared\\python36_64\\lib\\site-packages\\traitlets\\config\\application.py\", line 658, in launch_instance\n    app.start()\n  File \"c:\\program files (x86)\\microsoft visual studio\\shared\\python36_64\\lib\\site-packages\\ipykernel\\kernelapp.py\", line 486, in start\n    self.io_loop.start()\n  File \"c:\\program files (x86)\\microsoft visual studio\\shared\\python36_64\\lib\\site-packages\\tornado\\platform\\asyncio.py\", line 112, in start\n    self.asyncio_loop.run_forever()\n  File \"c:\\program files (x86)\\microsoft visual studio\\shared\\python36_64\\lib\\asyncio\\base_events.py\", line 421, in run_forever\n    self._run_once()\n  File \"c:\\program files (x86)\\microsoft visual studio\\shared\\python36_64\\lib\\asyncio\\base_events.py\", line 1431, in _run_once\n    handle._run()\n  File \"c:\\program files (x86)\\microsoft visual studio\\shared\\python36_64\\lib\\asyncio\\events.py\", line 145, in _run\n    self._callback(*self._args)\n  File \"c:\\program files (x86)\\microsoft visual studio\\shared\\python36_64\\lib\\site-packages\\tornado\\platform\\asyncio.py\", line 102, in _handle_events\n    handler_func(fileobj, events)\n  File \"c:\\program files (x86)\\microsoft visual studio\\shared\\python36_64\\lib\\site-packages\\tornado\\stack_context.py\", line 276, in null_wrapper\n    return fn(*args, **kwargs)\n  File \"c:\\program files (x86)\\microsoft visual studio\\shared\\python36_64\\lib\\site-packages\\zmq\\eventloop\\zmqstream.py\", line 450, in _handle_events\n    self._handle_recv()\n  File \"c:\\program files (x86)\\microsoft visual studio\\shared\\python36_64\\lib\\site-packages\\zmq\\eventloop\\zmqstream.py\", line 480, in _handle_recv\n    self._run_callback(callback, msg)\n  File \"c:\\program files (x86)\\microsoft visual studio\\shared\\python36_64\\lib\\site-packages\\zmq\\eventloop\\zmqstream.py\", line 432, in _run_callback\n    callback(*args, **kwargs)\n  File \"c:\\program files (x86)\\microsoft visual studio\\shared\\python36_64\\lib\\site-packages\\tornado\\stack_context.py\", line 276, in null_wrapper\n    return fn(*args, **kwargs)\n  File \"c:\\program files (x86)\\microsoft visual studio\\shared\\python36_64\\lib\\site-packages\\ipykernel\\kernelbase.py\", line 283, in dispatcher\n    return self.dispatch_shell(stream, msg)\n  File \"c:\\program files (x86)\\microsoft visual studio\\shared\\python36_64\\lib\\site-packages\\ipykernel\\kernelbase.py\", line 233, in dispatch_shell\n    handler(stream, idents, msg)\n  File \"c:\\program files (x86)\\microsoft visual studio\\shared\\python36_64\\lib\\site-packages\\ipykernel\\kernelbase.py\", line 399, in execute_request\n    user_expressions, allow_stdin)\n  File \"c:\\program files (x86)\\microsoft visual studio\\shared\\python36_64\\lib\\site-packages\\ipykernel\\ipkernel.py\", line 208, in do_execute\n    res = shell.run_cell(code, store_history=store_history, silent=silent)\n  File \"c:\\program files (x86)\\microsoft visual studio\\shared\\python36_64\\lib\\site-packages\\ipykernel\\zmqshell.py\", line 537, in run_cell\n    return super(ZMQInteractiveShell, self).run_cell(*args, **kwargs)\n  File \"c:\\program files (x86)\\microsoft visual studio\\shared\\python36_64\\lib\\site-packages\\IPython\\core\\interactiveshell.py\", line 2728, in run_cell\n    interactivity=interactivity, compiler=compiler, result=result)\n  File \"c:\\program files (x86)\\microsoft visual studio\\shared\\python36_64\\lib\\site-packages\\IPython\\core\\interactiveshell.py\", line 2850, in run_ast_nodes\n    if self.run_code(code, result):\n  File \"c:\\program files (x86)\\microsoft visual studio\\shared\\python36_64\\lib\\site-packages\\IPython\\core\\interactiveshell.py\", line 2910, in run_code\n    exec(code_obj, self.user_global_ns, self.user_ns)\n  File \"<ipython-input-17-ec7aad955880>\", line 40, in <module>\n    hd = modelDecoder.fit(y_train, x_train, epochs=100, validation_data=(y_test, x_test))\n  File \"c:\\program files (x86)\\microsoft visual studio\\shared\\python36_64\\lib\\site-packages\\keras\\models.py\", line 963, in fit\n    validation_steps=validation_steps)\n  File \"c:\\program files (x86)\\microsoft visual studio\\shared\\python36_64\\lib\\site-packages\\keras\\engine\\training.py\", line 1689, in fit\n    self._make_train_function()\n  File \"c:\\program files (x86)\\microsoft visual studio\\shared\\python36_64\\lib\\site-packages\\keras\\engine\\training.py\", line 990, in _make_train_function\n    loss=self.total_loss)\n  File \"c:\\program files (x86)\\microsoft visual studio\\shared\\python36_64\\lib\\site-packages\\keras\\legacy\\interfaces.py\", line 91, in wrapper\n    return func(*args, **kwargs)\n  File \"c:\\program files (x86)\\microsoft visual studio\\shared\\python36_64\\lib\\site-packages\\keras\\optimizers.py\", line 461, in get_updates\n    m_t = (self.beta_1 * m) + (1. - self.beta_1) * g\n  File \"c:\\program files (x86)\\microsoft visual studio\\shared\\python36_64\\lib\\site-packages\\tensorflow\\python\\ops\\math_ops.py\", line 907, in binary_op_wrapper\n    return func(x, y, name=name)\n  File \"c:\\program files (x86)\\microsoft visual studio\\shared\\python36_64\\lib\\site-packages\\tensorflow\\python\\ops\\math_ops.py\", line 1131, in _mul_dispatch\n    return gen_math_ops._mul(x, y, name=name)\n  File \"c:\\program files (x86)\\microsoft visual studio\\shared\\python36_64\\lib\\site-packages\\tensorflow\\python\\ops\\gen_math_ops.py\", line 3100, in _mul\n    \"Mul\", x=x, y=y, name=name)\n  File \"c:\\program files (x86)\\microsoft visual studio\\shared\\python36_64\\lib\\site-packages\\tensorflow\\python\\framework\\op_def_library.py\", line 787, in _apply_op_helper\n    op_def=op_def)\n  File \"c:\\program files (x86)\\microsoft visual studio\\shared\\python36_64\\lib\\site-packages\\tensorflow\\python\\framework\\ops.py\", line 3160, in create_op\n    op_def=op_def)\n  File \"c:\\program files (x86)\\microsoft visual studio\\shared\\python36_64\\lib\\site-packages\\tensorflow\\python\\framework\\ops.py\", line 1625, in __init__\n    self._traceback = self._graph._extract_stack()  # pylint: disable=protected-access\n\nResourceExhaustedError (see above for traceback): OOM when allocating tensor with shape[1000,19200] and type float on /job:localhost/replica:0/task:0/device:GPU:0 by allocator GPU_0_bfc\n\t [[Node: training_8/Adam/mul_32 = Mul[T=DT_FLOAT, _device=\"/job:localhost/replica:0/task:0/device:GPU:0\"](training_8/Adam/sub_2, training_8/Adam/gradients/dense_36/MatMul_grad/MatMul_1)]]\nHint: If you want to see a list of allocated tensors when OOM happens, add report_tensor_allocations_upon_oom to RunOptions for current allocation info.\n\n"
     ]
    }
   ],
   "source": [
    "# Final study \n",
    "# Histories\n",
    "lst_he = list()\n",
    "lst_hd = list()\n",
    "for i in range(5):\n",
    "    np.random.seed(i)\n",
    "    np.random.shuffle(X)\n",
    "    np.random.seed(i)\n",
    "    np.random.shuffle(Y)\n",
    "   \n",
    "    training, test = X[:32000,:], X[32000:40000,:]\n",
    "    training_angle, test_angle = Y[:32000,:], Y[32000:40000,:]\n",
    "    x_train = training.reshape((len(training), np.prod(training.shape[1:])))\n",
    "    y_train = training_angle.reshape((len(training_angle), np.prod(training_angle.shape[1:])))\n",
    "\n",
    "    x_test = test.reshape((len(test), np.prod(test.shape[1:])))\n",
    "    y_test = test_angle.reshape((len(test_angle), np.prod(test_angle.shape[1:])))\n",
    "\n",
    "    modelEncoder = Sequential()\n",
    "    modelEncoder.add(Dense(1000, input_shape=(19200,)))\n",
    "    modelEncoder.add(Activation('relu'))\n",
    "    modelEncoder.add(Dense(1000, input_shape=(1000,)))\n",
    "    modelEncoder.add(Activation('relu'))\n",
    "    modelEncoder.add(Dense(100, input_shape=(1000,)))\n",
    "    modelEncoder.add(Activation('relu'))\n",
    "    modelEncoder.add(Dense(4))\n",
    "    modelEncoder.compile(loss='mean_squared_error', optimizer='Adam')\n",
    "    he = modelEncoder.fit(x_train, y_train, epochs=100, validation_data=(x_test, y_test))\n",
    "    lst_he.append(he)\n",
    "    \n",
    "    modelDecoder = Sequential()\n",
    "    modelDecoder.add(Dense(100, input_shape=(4,)))\n",
    "    modelDecoder.add(Activation('relu'))\n",
    "    modelDecoder.add(Dense(1000, input_shape=(100,)))\n",
    "    modelDecoder.add(Activation('relu'))\n",
    "    modelDecoder.add(Dense(1000, input_shape=(1000,)))\n",
    "    modelDecoder.add(Activation('relu'))\n",
    "    modelDecoder.add(Dense(19200))\n",
    "    modelDecoder.compile(loss='mean_squared_error', optimizer='Adam')\n",
    "    hd = modelDecoder.fit(y_train, x_train, epochs=100, validation_data=(y_test, x_test))\n",
    "\n",
    "    lst_hd.append(hd)\n"
   ]
  },
  {
   "cell_type": "code",
   "execution_count": 20,
   "metadata": {},
   "outputs": [],
   "source": [
    "tra_loss_encoding =  he.history['loss']\n",
    "val_loss_encoding = he.history['loss']"
   ]
  },
  {
   "cell_type": "code",
   "execution_count": null,
   "metadata": {},
   "outputs": [],
   "source": []
  },
  {
   "cell_type": "code",
   "execution_count": 42,
   "metadata": {},
   "outputs": [
    {
     "name": "stdout",
     "output_type": "stream",
     "text": [
      "Collecting plotly\n",
      "Requirement already satisfied: decorator>=4.0.6 in c:\\program files (x86)\\microsoft visual studio\\shared\\python36_64\\lib\\site-packages (from plotly)\n",
      "Requirement already satisfied: nbformat>=4.2 in c:\\program files (x86)\\microsoft visual studio\\shared\\python36_64\\lib\\site-packages (from plotly)\n",
      "Requirement already satisfied: six in c:\\program files (x86)\\microsoft visual studio\\shared\\python36_64\\lib\\site-packages (from plotly)\n",
      "Collecting requests (from plotly)\n",
      "  Using cached requests-2.18.4-py2.py3-none-any.whl\n",
      "Requirement already satisfied: pytz in c:\\program files (x86)\\microsoft visual studio\\shared\\python36_64\\lib\\site-packages (from plotly)\n",
      "Requirement already satisfied: jsonschema!=2.5.0,>=2.4 in c:\\program files (x86)\\microsoft visual studio\\shared\\python36_64\\lib\\site-packages (from nbformat>=4.2->plotly)\n",
      "Requirement already satisfied: ipython-genutils in c:\\program files (x86)\\microsoft visual studio\\shared\\python36_64\\lib\\site-packages (from nbformat>=4.2->plotly)\n",
      "Requirement already satisfied: jupyter-core in c:\\program files (x86)\\microsoft visual studio\\shared\\python36_64\\lib\\site-packages (from nbformat>=4.2->plotly)\n",
      "Requirement already satisfied: traitlets>=4.1 in c:\\program files (x86)\\microsoft visual studio\\shared\\python36_64\\lib\\site-packages (from nbformat>=4.2->plotly)\n",
      "Collecting urllib3<1.23,>=1.21.1 (from requests->plotly)\n",
      "  Using cached urllib3-1.22-py2.py3-none-any.whl\n",
      "Collecting certifi>=2017.4.17 (from requests->plotly)\n",
      "  Using cached certifi-2018.1.18-py2.py3-none-any.whl\n",
      "Collecting idna<2.7,>=2.5 (from requests->plotly)\n",
      "  Using cached idna-2.6-py2.py3-none-any.whl\n",
      "Collecting chardet<3.1.0,>=3.0.2 (from requests->plotly)\n",
      "  Using cached chardet-3.0.4-py2.py3-none-any.whl\n",
      "Installing collected packages: urllib3, certifi, idna, chardet, requests, plotly\n"
     ]
    },
    {
     "name": "stderr",
     "output_type": "stream",
     "text": [
      "Exception:\n",
      "Traceback (most recent call last):\n",
      "  File \"c:\\program files (x86)\\microsoft visual studio\\shared\\python36_64\\lib\\site-packages\\pip\\basecommand.py\", line 215, in main\n",
      "    status = self.run(options, args)\n",
      "  File \"c:\\program files (x86)\\microsoft visual studio\\shared\\python36_64\\lib\\site-packages\\pip\\commands\\install.py\", line 342, in run\n",
      "    prefix=options.prefix_path,\n",
      "  File \"c:\\program files (x86)\\microsoft visual studio\\shared\\python36_64\\lib\\site-packages\\pip\\req\\req_set.py\", line 784, in install\n",
      "    **kwargs\n",
      "  File \"c:\\program files (x86)\\microsoft visual studio\\shared\\python36_64\\lib\\site-packages\\pip\\req\\req_install.py\", line 851, in install\n",
      "    self.move_wheel_files(self.source_dir, root=root, prefix=prefix)\n",
      "  File \"c:\\program files (x86)\\microsoft visual studio\\shared\\python36_64\\lib\\site-packages\\pip\\req\\req_install.py\", line 1064, in move_wheel_files\n",
      "    isolated=self.isolated,\n",
      "  File \"c:\\program files (x86)\\microsoft visual studio\\shared\\python36_64\\lib\\site-packages\\pip\\wheel.py\", line 345, in move_wheel_files\n",
      "    clobber(source, lib_dir, True)\n",
      "  File \"c:\\program files (x86)\\microsoft visual studio\\shared\\python36_64\\lib\\site-packages\\pip\\wheel.py\", line 316, in clobber\n",
      "    ensure_dir(destdir)\n",
      "  File \"c:\\program files (x86)\\microsoft visual studio\\shared\\python36_64\\lib\\site-packages\\pip\\utils\\__init__.py\", line 83, in ensure_dir\n",
      "    os.makedirs(path)\n",
      "  File \"c:\\program files (x86)\\microsoft visual studio\\shared\\python36_64\\lib\\os.py\", line 220, in makedirs\n",
      "    mkdir(name, mode)\n",
      "PermissionError: [WinError 5] Access is denied: 'c:\\\\program files (x86)\\\\microsoft visual studio\\\\shared\\\\python36_64\\\\Lib\\\\site-packages\\\\urllib3'\n",
      "You are using pip version 9.0.1, however version 9.0.2 is available.\n",
      "You should consider upgrading via the 'python -m pip install --upgrade pip' command.\n"
     ]
    }
   ],
   "source": [
    "!pip install plotly"
   ]
  },
  {
   "cell_type": "code",
   "execution_count": 30,
   "metadata": {},
   "outputs": [],
   "source": [
    "tra_loss_encoding =  he.history['loss']\n",
    "val_loss_encoding = he.history['val_loss']\n",
    "\n",
    "tra_loss_decoding =  hd.history['loss']\n",
    "val_loss_decoding = hd.history['val_loss']"
   ]
  },
  {
   "cell_type": "code",
   "execution_count": null,
   "metadata": {},
   "outputs": [],
   "source": []
  },
  {
   "cell_type": "code",
   "execution_count": 109,
   "metadata": {},
   "outputs": [
    {
     "name": "stderr",
     "output_type": "stream",
     "text": [
      "No handles with labels found to put in legend.\n",
      "c:\\program files (x86)\\microsoft visual studio\\shared\\python36_64\\lib\\site-packages\\matplotlib\\figure.py:2267: UserWarning: This figure includes Axes that are not compatible with tight_layout, so results might be incorrect.\n",
      "  warnings.warn(\"This figure includes Axes that are not compatible \"\n"
     ]
    },
    {
     "data": {
      "image/png": "[encoded data removed]",
      "text/plain": [
       "<Figure size 432x288 with 1 Axes>"
      ]
     },
     "metadata": {},
     "output_type": "display_data"
    }
   ],
   "source": [
    "plt.plot(tra_loss_encoding[:80])\n",
    "plt.plot(val_loss_encoding[:80])\n",
    "plt.tight_layout()\n",
    "\n",
    "plt.xlabel = \"Number of Epochs\"\n",
    "plt.ylabel = \"Loss\"\n",
    "\n",
    "plt.legend()\n",
    "\n",
    "\n",
    "plt.show()"
   ]
  },
  {
   "cell_type": "code",
   "execution_count": 108,
   "metadata": {},
   "outputs": [
    {
     "ename": "TypeError",
     "evalue": "'str' object is not callable",
     "output_type": "error",
     "traceback": [
      "\u001b[1;31m---------------------------------------------------------------------------\u001b[0m",
      "\u001b[1;31mTypeError\u001b[0m                                 Traceback (most recent call last)",
      "\u001b[1;32m<ipython-input-108-2b553f11997f>\u001b[0m in \u001b[0;36m<module>\u001b[1;34m()\u001b[0m\n\u001b[0;32m      1\u001b[0m \u001b[0mplt\u001b[0m\u001b[1;33m.\u001b[0m\u001b[0mplot\u001b[0m\u001b[1;33m(\u001b[0m\u001b[0mtra_loss_decoding\u001b[0m\u001b[1;33m[\u001b[0m\u001b[1;33m:\u001b[0m\u001b[1;36m80\u001b[0m\u001b[1;33m]\u001b[0m\u001b[1;33m)\u001b[0m\u001b[1;33m\u001b[0m\u001b[0m\n\u001b[0;32m      2\u001b[0m \u001b[0mplt\u001b[0m\u001b[1;33m.\u001b[0m\u001b[0mplot\u001b[0m\u001b[1;33m(\u001b[0m\u001b[0mval_loss_decoding\u001b[0m\u001b[1;33m[\u001b[0m\u001b[1;33m:\u001b[0m\u001b[1;36m80\u001b[0m\u001b[1;33m]\u001b[0m\u001b[1;33m)\u001b[0m\u001b[1;33m\u001b[0m\u001b[0m\n\u001b[1;32m----> 3\u001b[1;33m \u001b[0mplt\u001b[0m\u001b[1;33m.\u001b[0m\u001b[0mxlabel\u001b[0m\u001b[1;33m(\u001b[0m\u001b[1;34m\"Number of Epochs\"\u001b[0m\u001b[1;33m)\u001b[0m\u001b[1;33m\u001b[0m\u001b[0m\n\u001b[0m\u001b[0;32m      4\u001b[0m \u001b[0mplt\u001b[0m\u001b[1;33m.\u001b[0m\u001b[0mylabel\u001b[0m\u001b[1;33m(\u001b[0m\u001b[1;34m\"Loss\"\u001b[0m\u001b[1;33m)\u001b[0m\u001b[1;33m\u001b[0m\u001b[0m\n\u001b[0;32m      5\u001b[0m \u001b[0mplt\u001b[0m\u001b[1;33m.\u001b[0m\u001b[0mlegend\u001b[0m\u001b[1;33m(\u001b[0m\u001b[1;33m)\u001b[0m\u001b[1;33m\u001b[0m\u001b[0m\n",
      "\u001b[1;31mTypeError\u001b[0m: 'str' object is not callable"
     ]
    },
    {
     "name": "stderr",
     "output_type": "stream",
     "text": [
      "c:\\program files (x86)\\microsoft visual studio\\shared\\python36_64\\lib\\site-packages\\matplotlib\\figure.py:2267: UserWarning: This figure includes Axes that are not compatible with tight_layout, so results might be incorrect.\n",
      "  warnings.warn(\"This figure includes Axes that are not compatible \"\n"
     ]
    },
    {
     "data": {
      "image/png": "[encoded data removed]",
      "text/plain": [
       "<Figure size 432x288 with 1 Axes>"
      ]
     },
     "metadata": {},
     "output_type": "display_data"
    }
   ],
   "source": [
    "plt.plot(tra_loss_decoding[:80])\n",
    "plt.plot(val_loss_decoding[:80])\n",
    "plt.xlabel(\"Number of Epochs\")\n",
    "plt.ylabel(\"Loss\")\n",
    "plt.legend()\n",
    "\n",
    "plt.show()"
   ]
  },
  {
   "cell_type": "code",
   "execution_count": 102,
   "metadata": {},
   "outputs": [
    {
     "data": {
      "text/plain": [
       "<Figure size 432x288 with 0 Axes>"
      ]
     },
     "metadata": {},
     "output_type": "display_data"
    }
   ],
   "source": [
    "import pickle\n",
    "from matplotlib.pyplot import subplots, show\n",
    "plt.gcf().subplots_adjust(bottom=0.15)\n"
   ]
  },
  {
   "cell_type": "code",
   "execution_count": 105,
   "metadata": {},
   "outputs": [
    {
     "ename": "TypeError",
     "evalue": "can't pickle _thread.lock objects",
     "output_type": "error",
     "traceback": [
      "\u001b[1;31m---------------------------------------------------------------------------\u001b[0m",
      "\u001b[1;31mTypeError\u001b[0m                                 Traceback (most recent call last)",
      "\u001b[1;32m<ipython-input-105-e978c8296aef>\u001b[0m in \u001b[0;36m<module>\u001b[1;34m()\u001b[0m\n\u001b[0;32m      1\u001b[0m \u001b[0mfile_object\u001b[0m  \u001b[1;33m=\u001b[0m \u001b[0mopen\u001b[0m\u001b[1;33m(\u001b[0m\u001b[1;34m\"he.dat\"\u001b[0m\u001b[1;33m,\u001b[0m \u001b[1;34m\"wb\"\u001b[0m\u001b[1;33m)\u001b[0m\u001b[1;33m\u001b[0m\u001b[0m\n\u001b[1;32m----> 2\u001b[1;33m \u001b[0mpickle\u001b[0m\u001b[1;33m.\u001b[0m\u001b[0mdump\u001b[0m\u001b[1;33m(\u001b[0m\u001b[0mhe\u001b[0m\u001b[1;33m,\u001b[0m \u001b[0mfile_object\u001b[0m\u001b[1;33m,\u001b[0m  \u001b[0mprotocol\u001b[0m\u001b[1;33m=\u001b[0m\u001b[1;36m4\u001b[0m\u001b[1;33m)\u001b[0m\u001b[1;33m\u001b[0m\u001b[0m\n\u001b[0m",
      "\u001b[1;31mTypeError\u001b[0m: can't pickle _thread.lock objects"
     ]
    }
   ],
   "source": [
    "file_object  = open(\"he.dat\", \"wb\") \n",
    "pickle.dump(he, file_object,  protocol=4)"
   ]
  },
  {
   "cell_type": "code",
   "execution_count": 41,
   "metadata": {},
   "outputs": [],
   "source": [
    "file_object  = open(\"Y.dat\", \"wb\") \n",
    "pickle.dump(Y, file_object , protocol=4)"
   ]
  },
  {
   "cell_type": "code",
   "execution_count": 77,
   "metadata": {},
   "outputs": [],
   "source": [
    "plt.rc('figure', figsize=(15, 6))\n"
   ]
  },
  {
   "cell_type": "code",
   "execution_count": 83,
   "metadata": {},
   "outputs": [
    {
     "data": {
      "image/png": "[encoded data removed]",
      "text/plain": [
       "<Figure size 432x288 with 1 Axes>"
      ]
     },
     "metadata": {},
     "output_type": "display_data"
    }
   ],
   "source": [
    "a = tra_loss_decoding\n",
    "b = val_loss_decoding\n",
    "fig, ax = subplots()\n",
    "ax.plot(b, b)\n",
    "ax.set_xlabel(\"Time\")\n",
    "ax.set_ylabel(\"Speed\")\n",
    "show()"
   ]
  },
  {
   "cell_type": "code",
   "execution_count": 104,
   "metadata": {},
   "outputs": [
    {
     "ename": "SyntaxError",
     "evalue": "invalid syntax (<ipython-input-104-1327d3741ebc>, line 22)",
     "output_type": "error",
     "traceback": [
      "\u001b[1;36m  File \u001b[1;32m\"<ipython-input-104-1327d3741ebc>\"\u001b[1;36m, line \u001b[1;32m22\u001b[0m\n\u001b[1;33m    xaxis: {zeroline: false},\u001b[0m\n\u001b[1;37m         ^\u001b[0m\n\u001b[1;31mSyntaxError\u001b[0m\u001b[1;31m:\u001b[0m invalid syntax\n"
     ]
    }
   ],
   "source": [
    "import plotly.graph_objs as go\n",
    "import plotly.offline as py\n",
    "\n",
    "import numpy as np\n",
    "\n",
    "data = [go.Scatter(\n",
    "    y = np.random.randn(500),\n",
    "    mode='markers',\n",
    "    marker=dict(\n",
    "        size='16',\n",
    "        color = np.random.randn(500),\n",
    "        colorscale='Viridis',\n",
    "        showscale=True,\n",
    " line={width: 0.5}\n",
    "    )\n",
    ")]\n",
    "\n",
    "layout = dict(\n",
    "plot_bgcolor ='#F5F7FA',\n",
    "   paper_bgcolor = '#F5F7FA',\n",
    "   width = 500,\n",
    "xaxis: {zeroline: false},\n",
    "yaxis: {zeroline: false},\n",
    ")\n",
    "\n",
    "py.iplot( dict(data=data, layout=layout) )"
   ]
  },
  {
   "cell_type": "code",
   "execution_count": 119,
   "metadata": {},
   "outputs": [],
   "source": [
    "lst = list()\n",
    "for i in range(80):\n",
    "    lst.append(i)\n",
    "    \n",
    "n_lst = np.asarray(lst)"
   ]
  },
  {
   "cell_type": "code",
   "execution_count": 131,
   "metadata": {},
   "outputs": [
    {
     "data": {
      "text/plain": [
       "[<matplotlib.lines.Line2D at 0x22933e32940>]"
      ]
     },
     "execution_count": 131,
     "metadata": {},
     "output_type": "execute_result"
    },
    {
     "data": {
      "text/plain": [
       "<Figure size 864x288 with 0 Axes>"
      ]
     },
     "metadata": {},
     "output_type": "display_data"
    },
    {
     "name": "stderr",
     "output_type": "stream",
     "text": [
      "c:\\program files (x86)\\microsoft visual studio\\shared\\python36_64\\lib\\site-packages\\matplotlib\\figure.py:2267: UserWarning: This figure includes Axes that are not compatible with tight_layout, so results might be incorrect.\n",
      "  warnings.warn(\"This figure includes Axes that are not compatible \"\n"
     ]
    },
    {
     "data": {
      "image/png": "[encoded data removed]",
      "text/plain": [
       "<Figure size 864x288 with 2 Axes>"
      ]
     },
     "metadata": {},
     "output_type": "display_data"
    }
   ],
   "source": [
    "fig = plt.figure()  # an empty figure with no axes\n",
    "\n",
    "fig, ax_lst = plt.subplots(1, 2)  # a figure with a 2x2 grid of Axes\n",
    "ax_lst[0].set_xlabel('Epochs')\n",
    "ax_lst[0].set_ylabel('Loss')\n",
    "ax_lst[0].set_title(\"Encoding Net\")\n",
    "ax_lst[0].plot(n_lst, tra_loss_encoding[:80])\n",
    "ax_lst[0].plot( n_lst, val_loss_encoding[:80])\n",
    "\n",
    "ax_lst[1].set_xlabel('Epochs')\n",
    "ax_lst[1].set_ylabel('Loss')\n",
    "ax_lst[1].set_title(\"Decoding Net\")\n",
    "ax_lst[1].plot(n_lst, tra_loss_decoding[:80])\n",
    "ax_lst[1].plot( n_lst, val_loss_decoding[:80])\n",
    "\n",
    "\n"
   ]
  },
  {
   "cell_type": "code",
   "execution_count": 2,
   "metadata": {},
   "outputs": [],
   "source": [
    "X = pickle.load( open( \"X.dat\", \"rb\" ) )\n",
    "Y = pickle.load( open( \"Y.dat\", \"rb\" ) )"
   ]
  },
  {
   "cell_type": "code",
   "execution_count": 6,
   "metadata": {},
   "outputs": [
    {
     "name": "stdout",
     "output_type": "stream",
     "text": [
      "Train on 32000 samples, validate on 8000 samples\n",
      "Epoch 1/1\n",
      "32000/32000 [==============================] - 91s 3ms/step - loss: 2.4410e-04 - val_loss: 1.2273e-04\n"
     ]
    }
   ],
   "source": [
    "# Histories\n",
    "lst_ae = list()\n",
    "for i in range(1):\n",
    "    np.random.seed(i)\n",
    "    np.random.shuffle(X)\n",
    "    np.random.seed(i)\n",
    "    np.random.shuffle(Y)\n",
    "   \n",
    "    training, test = X[:32000,:], X[32000:40000,:]\n",
    "    training_angle, test_angle = Y[:32000,:], Y[32000:40000,:]\n",
    "    x_train = training.reshape((len(training), np.prod(training.shape[1:])))\n",
    "    y_train = training_angle.reshape((len(training_angle), np.prod(training_angle.shape[1:])))\n",
    "\n",
    "    x_test = test.reshape((len(test), np.prod(test.shape[1:])))\n",
    "    y_test = test_angle.reshape((len(test_angle), np.prod(test_angle.shape[1:])))\n",
    "\n",
    "    modelAutoEncoder = Sequential()\n",
    "    modelAutoEncoder.add(Dense(1000, input_shape=(19200,)))\n",
    "    modelAutoEncoder.add(Activation('relu'))\n",
    "    modelAutoEncoder.add(Dense(1000, input_shape=(19200,)))\n",
    "    modelAutoEncoder.add(Activation('relu'))\n",
    "    modelAutoEncoder.add(Dense(100, input_shape=(1000,)))\n",
    "    modelAutoEncoder.add(Activation('relu'))\n",
    "    modelAutoEncoder.add(Dense(4))\n",
    "    modelAutoEncoder.add(Dense(100, input_shape=(4,)))\n",
    "    modelAutoEncoder.add(Activation('relu'))\n",
    "    modelAutoEncoder.add(Dense(1000, input_shape=(100,)))\n",
    "    modelAutoEncoder.add(Activation('relu'))\n",
    "    modelAutoEncoder.add(Dense(1000, input_shape=(1000,)))\n",
    "    modelAutoEncoder.add(Activation('relu'))\n",
    "    modelAutoEncoder.add(Dense(19200))\n",
    "    modelAutoEncoder.compile(loss='mean_squared_error', optimizer='Adam')\n",
    "    hae = modelAutoEncoder.fit(x_train, x_train, epochs=1, validation_data=(x_test, x_test))\n",
    "\n",
    "    lst_ae.append(hae)\n"
   ]
  },
  {
   "cell_type": "code",
   "execution_count": 60,
   "metadata": {},
   "outputs": [
    {
     "name": "stdout",
     "output_type": "stream",
     "text": [
      "Train on 32000 samples, validate on 8000 samples\n",
      "Epoch 1/80\n",
      "32000/32000 [==============================] - 46s 1ms/step - loss: 0.0102 - val_loss: 0.0059\n",
      "Epoch 2/80\n",
      "32000/32000 [==============================] - 45s 1ms/step - loss: 0.0030 - val_loss: 0.0019\n",
      "Epoch 3/80\n",
      "32000/32000 [==============================] - 45s 1ms/step - loss: 0.0015 - val_loss: 0.0017\n",
      "Epoch 4/80\n",
      "32000/32000 [==============================] - 45s 1ms/step - loss: 0.0011 - val_loss: 0.0012\n",
      "Epoch 5/80\n",
      "32000/32000 [==============================] - 45s 1ms/step - loss: 9.4908e-04 - val_loss: 8.0523e-04\n",
      "Epoch 6/80\n",
      "32000/32000 [==============================] - 45s 1ms/step - loss: 8.4235e-04 - val_loss: 9.1050e-04\n",
      "Epoch 7/80\n",
      "32000/32000 [==============================] - 46s 1ms/step - loss: 8.0567e-04 - val_loss: 0.0011\n",
      "Epoch 8/80\n",
      "32000/32000 [==============================] - 45s 1ms/step - loss: 6.8190e-04 - val_loss: 9.3975e-04\n",
      "Epoch 9/80\n",
      "32000/32000 [==============================] - 45s 1ms/step - loss: 6.2481e-04 - val_loss: 5.7962e-04\n",
      "Epoch 10/80\n",
      "32000/32000 [==============================] - 45s 1ms/step - loss: 5.5852e-04 - val_loss: 5.4032e-04\n",
      "Epoch 11/80\n",
      "32000/32000 [==============================] - 45s 1ms/step - loss: 5.1640e-04 - val_loss: 5.8262e-04\n",
      "Epoch 12/80\n",
      "32000/32000 [==============================] - 45s 1ms/step - loss: 5.0960e-04 - val_loss: 4.5824e-04\n",
      "Epoch 13/80\n",
      "32000/32000 [==============================] - 45s 1ms/step - loss: 4.1495e-04 - val_loss: 4.6164e-04\n",
      "Epoch 14/80\n",
      "32000/32000 [==============================] - 45s 1ms/step - loss: 3.8593e-04 - val_loss: 7.4599e-04\n",
      "Epoch 15/80\n",
      "32000/32000 [==============================] - 45s 1ms/step - loss: 3.7139e-04 - val_loss: 4.8104e-04\n",
      "Epoch 16/80\n",
      "32000/32000 [==============================] - 45s 1ms/step - loss: 3.7266e-04 - val_loss: 3.8085e-04\n",
      "Epoch 17/80\n",
      "32000/32000 [==============================] - 45s 1ms/step - loss: 3.1509e-04 - val_loss: 4.7575e-04\n",
      "Epoch 18/80\n",
      "32000/32000 [==============================] - 45s 1ms/step - loss: 3.2690e-04 - val_loss: 3.1307e-04\n",
      "Epoch 19/80\n",
      "32000/32000 [==============================] - 45s 1ms/step - loss: 3.2152e-04 - val_loss: 3.7536e-04\n",
      "Epoch 20/80\n",
      "32000/32000 [==============================] - 45s 1ms/step - loss: 2.7025e-04 - val_loss: 3.7637e-04\n",
      "Epoch 21/80\n",
      "32000/32000 [==============================] - 45s 1ms/step - loss: 2.7974e-04 - val_loss: 3.2230e-04\n",
      "Epoch 22/80\n",
      "32000/32000 [==============================] - 45s 1ms/step - loss: 2.5546e-04 - val_loss: 3.0196e-04\n",
      "Epoch 23/80\n",
      "32000/32000 [==============================] - 45s 1ms/step - loss: 2.5299e-04 - val_loss: 7.3721e-04\n",
      "Epoch 24/80\n",
      "32000/32000 [==============================] - 45s 1ms/step - loss: 2.4871e-04 - val_loss: 4.0697e-04\n",
      "Epoch 25/80\n",
      "32000/32000 [==============================] - 45s 1ms/step - loss: 2.4675e-04 - val_loss: 3.4628e-04\n",
      "Epoch 26/80\n",
      "32000/32000 [==============================] - 45s 1ms/step - loss: 2.2769e-04 - val_loss: 2.7418e-04\n",
      "Epoch 27/80\n",
      "32000/32000 [==============================] - 46s 1ms/step - loss: 2.2687e-04 - val_loss: 3.3239e-04\n",
      "Epoch 28/80\n",
      "32000/32000 [==============================] - 45s 1ms/step - loss: 2.0435e-04 - val_loss: 2.9182e-04\n",
      "Epoch 29/80\n",
      "32000/32000 [==============================] - 44s 1ms/step - loss: 2.1741e-04 - val_loss: 2.6529e-04\n",
      "Epoch 30/80\n",
      "32000/32000 [==============================] - 45s 1ms/step - loss: 2.1208e-04 - val_loss: 3.1264e-04\n",
      "Epoch 31/80\n",
      "32000/32000 [==============================] - 44s 1ms/step - loss: 1.9245e-04 - val_loss: 3.1677e-04\n",
      "Epoch 32/80\n",
      "32000/32000 [==============================] - 44s 1ms/step - loss: 1.9334e-04 - val_loss: 2.3256e-04\n",
      "Epoch 33/80\n",
      "32000/32000 [==============================] - 45s 1ms/step - loss: 2.0462e-04 - val_loss: 2.4613e-04\n",
      "Epoch 34/80\n",
      "32000/32000 [==============================] - 45s 1ms/step - loss: 1.9169e-04 - val_loss: 2.8757e-04\n",
      "Epoch 35/80\n",
      "32000/32000 [==============================] - 45s 1ms/step - loss: 1.7942e-04 - val_loss: 2.1933e-04\n",
      "Epoch 36/80\n",
      "32000/32000 [==============================] - 44s 1ms/step - loss: 1.7577e-04 - val_loss: 2.3926e-04\n",
      "Epoch 37/80\n",
      "32000/32000 [==============================] - 44s 1ms/step - loss: 1.6335e-04 - val_loss: 3.5880e-04\n",
      "Epoch 38/80\n",
      "32000/32000 [==============================] - 44s 1ms/step - loss: 1.7621e-04 - val_loss: 4.0580e-04\n",
      "Epoch 39/80\n",
      "32000/32000 [==============================] - 44s 1ms/step - loss: 1.6642e-04 - val_loss: 2.4126e-04\n",
      "Epoch 40/80\n",
      "32000/32000 [==============================] - 44s 1ms/step - loss: 1.7136e-04 - val_loss: 2.5387e-04\n",
      "Epoch 41/80\n",
      "32000/32000 [==============================] - 44s 1ms/step - loss: 1.6526e-04 - val_loss: 2.6051e-04\n",
      "Epoch 42/80\n",
      "32000/32000 [==============================] - 44s 1ms/step - loss: 1.5831e-04 - val_loss: 2.4863e-04\n",
      "Epoch 43/80\n",
      "32000/32000 [==============================] - 44s 1ms/step - loss: 1.5380e-04 - val_loss: 2.2266e-04\n",
      "Epoch 44/80\n",
      "32000/32000 [==============================] - 44s 1ms/step - loss: 1.5504e-04 - val_loss: 2.4182e-04\n",
      "Epoch 45/80\n",
      "32000/32000 [==============================] - 44s 1ms/step - loss: 1.4806e-04 - val_loss: 2.2514e-04\n",
      "Epoch 46/80\n",
      "32000/32000 [==============================] - 45s 1ms/step - loss: 1.4205e-04 - val_loss: 2.3394e-04\n",
      "Epoch 47/80\n",
      "32000/32000 [==============================] - 45s 1ms/step - loss: 1.5077e-04 - val_loss: 2.2174e-04\n",
      "Epoch 48/80\n",
      "32000/32000 [==============================] - 46s 1ms/step - loss: 1.3698e-04 - val_loss: 2.7073e-04\n",
      "Epoch 49/80\n",
      "32000/32000 [==============================] - 45s 1ms/step - loss: 1.4069e-04 - val_loss: 3.0228e-04\n",
      "Epoch 50/80\n",
      "32000/32000 [==============================] - 45s 1ms/step - loss: 1.4057e-04 - val_loss: 2.1560e-04\n",
      "Epoch 51/80\n",
      "32000/32000 [==============================] - 44s 1ms/step - loss: 1.3364e-04 - val_loss: 2.1438e-04\n",
      "Epoch 52/80\n",
      "32000/32000 [==============================] - 45s 1ms/step - loss: 1.3496e-04 - val_loss: 2.2217e-04\n",
      "Epoch 53/80\n",
      "32000/32000 [==============================] - 44s 1ms/step - loss: 1.2493e-04 - val_loss: 2.0789e-04\n",
      "Epoch 54/80\n",
      "32000/32000 [==============================] - 44s 1ms/step - loss: 1.2446e-04 - val_loss: 2.1945e-04\n",
      "Epoch 55/80\n",
      "32000/32000 [==============================] - 44s 1ms/step - loss: 1.3057e-04 - val_loss: 2.2749e-04\n",
      "Epoch 56/80\n",
      "32000/32000 [==============================] - 44s 1ms/step - loss: 1.2000e-04 - val_loss: 2.0814e-04\n",
      "Epoch 57/80\n",
      "32000/32000 [==============================] - 44s 1ms/step - loss: 1.2656e-04 - val_loss: 1.8781e-04\n",
      "Epoch 58/80\n",
      "32000/32000 [==============================] - 44s 1ms/step - loss: 1.3194e-04 - val_loss: 2.1371e-04\n",
      "Epoch 59/80\n",
      "32000/32000 [==============================] - 45s 1ms/step - loss: 1.1416e-04 - val_loss: 2.2219e-04\n",
      "Epoch 60/80\n",
      "32000/32000 [==============================] - 45s 1ms/step - loss: 1.2877e-04 - val_loss: 2.5084e-04\n",
      "Epoch 61/80\n",
      "32000/32000 [==============================] - 45s 1ms/step - loss: 1.2373e-04 - val_loss: 2.6510e-04\n",
      "Epoch 62/80\n",
      "32000/32000 [==============================] - 45s 1ms/step - loss: 1.1457e-04 - val_loss: 1.8068e-04\n",
      "Epoch 63/80\n",
      "32000/32000 [==============================] - 45s 1ms/step - loss: 1.1606e-04 - val_loss: 2.2404e-04\n",
      "Epoch 64/80\n",
      "32000/32000 [==============================] - 45s 1ms/step - loss: 1.1235e-04 - val_loss: 2.2390e-04\n",
      "Epoch 65/80\n",
      "32000/32000 [==============================] - 45s 1ms/step - loss: 1.2122e-04 - val_loss: 2.0872e-04\n",
      "Epoch 66/80\n",
      "32000/32000 [==============================] - 45s 1ms/step - loss: 1.0829e-04 - val_loss: 1.6815e-04\n",
      "Epoch 67/80\n",
      "32000/32000 [==============================] - 45s 1ms/step - loss: 1.1071e-04 - val_loss: 1.8699e-04\n",
      "Epoch 68/80\n",
      "32000/32000 [==============================] - 44s 1ms/step - loss: 1.1921e-04 - val_loss: 1.9701e-04\n",
      "Epoch 69/80\n",
      "32000/32000 [==============================] - 45s 1ms/step - loss: 1.0083e-04 - val_loss: 2.1714e-04\n",
      "Epoch 70/80\n",
      "32000/32000 [==============================] - 45s 1ms/step - loss: 1.1581e-04 - val_loss: 1.7907e-04\n",
      "Epoch 71/80\n",
      "32000/32000 [==============================] - 45s 1ms/step - loss: 1.0687e-04 - val_loss: 2.0112e-04\n",
      "Epoch 72/80\n",
      "32000/32000 [==============================] - 44s 1ms/step - loss: 1.0352e-04 - val_loss: 2.3970e-04\n"
     ]
    },
    {
     "name": "stdout",
     "output_type": "stream",
     "text": [
      "Epoch 73/80\n",
      "32000/32000 [==============================] - 45s 1ms/step - loss: 1.0691e-04 - val_loss: 1.8738e-04\n",
      "Epoch 74/80\n",
      "32000/32000 [==============================] - 45s 1ms/step - loss: 1.1060e-04 - val_loss: 1.8972e-04\n",
      "Epoch 75/80\n",
      "32000/32000 [==============================] - 45s 1ms/step - loss: 1.0225e-04 - val_loss: 1.9442e-04\n",
      "Epoch 76/80\n",
      "32000/32000 [==============================] - 45s 1ms/step - loss: 1.0152e-04 - val_loss: 1.8380e-04\n",
      "Epoch 77/80\n",
      "32000/32000 [==============================] - 45s 1ms/step - loss: 1.0108e-04 - val_loss: 2.0939e-04\n",
      "Epoch 78/80\n",
      "32000/32000 [==============================] - 45s 1ms/step - loss: 1.0302e-04 - val_loss: 1.9799e-04\n",
      "Epoch 79/80\n",
      "32000/32000 [==============================] - 45s 1ms/step - loss: 1.0087e-04 - val_loss: 2.0001e-04\n",
      "Epoch 80/80\n",
      "32000/32000 [==============================] - 45s 1ms/step - loss: 9.9804e-05 - val_loss: 1.7710e-04\n"
     ]
    }
   ],
   "source": [
    "#lst_he = list()\n",
    "#lst_hd = list()\n",
    "\n",
    "lst_neurons_ec = [1000, 1000, 100 ]\n",
    "for i in range(1):\n",
    "    np.random.seed(i)\n",
    "    np.random.shuffle(X)\n",
    "    np.random.seed(i)\n",
    "    np.random.shuffle(Y)\n",
    "   \n",
    "    training, test = X[:32000,:], X[32000:40000,:]\n",
    "    training_angle, test_angle = Y[:32000,:], Y[32000:40000,:]\n",
    "    x_train = training.reshape((len(training), np.prod(training.shape[1:])))\n",
    "    y_train = training_angle.reshape((len(training_angle), np.prod(training_angle.shape[1:])))\n",
    "\n",
    "    x_test = test.reshape((len(test), np.prod(test.shape[1:])))\n",
    "    y_test = test_angle.reshape((len(test_angle), np.prod(test_angle.shape[1:])))\n",
    "\n",
    "    modelEncoder = Sequential()\n",
    "    modelEncoder.add(Dense(lst_neurons_ec[0], input_shape=(19200,)))\n",
    "    modelEncoder.add(Activation('relu'))\n",
    "    modelEncoder.add(Dense(lst_neurons_ec[1], input_shape=(lst_neurons_ec[0],)))\n",
    "    modelEncoder.add(Activation('relu'))\n",
    "    modelEncoder.add(Dense(lst_neurons_ec[2], input_shape=(lst_neurons_ec[1],)))\n",
    "    modelEncoder.add(Activation('relu'))\n",
    "    modelEncoder.add(Dense(4))\n",
    "    modelEncoder.compile(loss='mean_squared_error', optimizer='Adam')\n",
    "    he = modelEncoder.fit(x_train, y_train, epochs=80, validation_data=(x_test, y_test))\n",
    "    lst_he.append(he)\n",
    "  \n"
   ]
  },
  {
   "cell_type": "code",
   "execution_count": 26,
   "metadata": {},
   "outputs": [
    {
     "name": "stdout",
     "output_type": "stream",
     "text": [
      "Train on 32000 samples, validate on 8000 samples\n",
      "Epoch 1/80\n",
      "32000/32000 [==============================] - 12s 388us/step - loss: 5.1032e-04 - val_loss: 3.6558e-04\n",
      "Epoch 2/80\n",
      "32000/32000 [==============================] - 12s 367us/step - loss: 3.2314e-04 - val_loss: 2.9570e-04\n",
      "Epoch 3/80\n",
      "32000/32000 [==============================] - 12s 368us/step - loss: 2.8403e-04 - val_loss: 2.7415e-04\n",
      "Epoch 4/80\n",
      "32000/32000 [==============================] - 12s 371us/step - loss: 2.7102e-04 - val_loss: 2.6688e-04\n",
      "Epoch 5/80\n",
      "32000/32000 [==============================] - 12s 371us/step - loss: 2.6494e-04 - val_loss: 2.6204e-04\n",
      "Epoch 6/80\n",
      "32000/32000 [==============================] - 12s 370us/step - loss: 2.6132e-04 - val_loss: 2.5987e-04\n",
      "Epoch 7/80\n",
      "32000/32000 [==============================] - 12s 365us/step - loss: 2.5870e-04 - val_loss: 2.5698e-04\n",
      "Epoch 8/80\n",
      "32000/32000 [==============================] - 12s 372us/step - loss: 2.5682e-04 - val_loss: 2.5543e-04\n",
      "Epoch 9/80\n",
      "32000/32000 [==============================] - 12s 370us/step - loss: 2.5555e-04 - val_loss: 2.5400e-04\n",
      "Epoch 10/80\n",
      "32000/32000 [==============================] - 12s 374us/step - loss: 2.5451e-04 - val_loss: 2.5343e-04\n",
      "Epoch 11/80\n",
      "32000/32000 [==============================] - 12s 373us/step - loss: 2.5373e-04 - val_loss: 2.5282e-04\n",
      "Epoch 12/80\n",
      "32000/32000 [==============================] - 12s 367us/step - loss: 2.5309e-04 - val_loss: 2.5221e-04\n",
      "Epoch 13/80\n",
      "32000/32000 [==============================] - 12s 373us/step - loss: 2.5248e-04 - val_loss: 2.5164e-04\n",
      "Epoch 14/80\n",
      " 5280/32000 [===>..........................] - ETA: 8s - loss: 2.4915e-04"
     ]
    },
    {
     "ename": "KeyboardInterrupt",
     "evalue": "",
     "output_type": "error",
     "traceback": [
      "\u001b[1;31m---------------------------------------------------------------------------\u001b[0m",
      "\u001b[1;31mKeyboardInterrupt\u001b[0m                         Traceback (most recent call last)",
      "\u001b[1;32m<ipython-input-26-b83084bf4594>\u001b[0m in \u001b[0;36m<module>\u001b[1;34m()\u001b[0m\n\u001b[0;32m     27\u001b[0m     \u001b[0mmodelDecoder\u001b[0m\u001b[1;33m.\u001b[0m\u001b[0madd\u001b[0m\u001b[1;33m(\u001b[0m\u001b[0mDense\u001b[0m\u001b[1;33m(\u001b[0m\u001b[1;36m19200\u001b[0m\u001b[1;33m)\u001b[0m\u001b[1;33m)\u001b[0m\u001b[1;33m\u001b[0m\u001b[0m\n\u001b[0;32m     28\u001b[0m     \u001b[0mmodelDecoder\u001b[0m\u001b[1;33m.\u001b[0m\u001b[0mcompile\u001b[0m\u001b[1;33m(\u001b[0m\u001b[0mloss\u001b[0m\u001b[1;33m=\u001b[0m\u001b[1;34m'mean_squared_error'\u001b[0m\u001b[1;33m,\u001b[0m \u001b[0moptimizer\u001b[0m\u001b[1;33m=\u001b[0m\u001b[1;34m'Adam'\u001b[0m\u001b[1;33m)\u001b[0m\u001b[1;33m\u001b[0m\u001b[0m\n\u001b[1;32m---> 29\u001b[1;33m     \u001b[0mhd\u001b[0m \u001b[1;33m=\u001b[0m \u001b[0mmodelDecoder\u001b[0m\u001b[1;33m.\u001b[0m\u001b[0mfit\u001b[0m\u001b[1;33m(\u001b[0m\u001b[0my_train\u001b[0m\u001b[1;33m,\u001b[0m \u001b[0mx_train\u001b[0m\u001b[1;33m,\u001b[0m \u001b[0mepochs\u001b[0m\u001b[1;33m=\u001b[0m\u001b[1;36m80\u001b[0m\u001b[1;33m,\u001b[0m \u001b[0mvalidation_data\u001b[0m\u001b[1;33m=\u001b[0m\u001b[1;33m(\u001b[0m\u001b[0my_test\u001b[0m\u001b[1;33m,\u001b[0m \u001b[0mx_test\u001b[0m\u001b[1;33m)\u001b[0m\u001b[1;33m)\u001b[0m\u001b[1;33m\u001b[0m\u001b[0m\n\u001b[0m\u001b[0;32m     30\u001b[0m \u001b[1;33m\u001b[0m\u001b[0m\n\u001b[0;32m     31\u001b[0m     \u001b[0mlst_hd\u001b[0m\u001b[1;33m.\u001b[0m\u001b[0mappend\u001b[0m\u001b[1;33m(\u001b[0m\u001b[0mhd\u001b[0m\u001b[1;33m)\u001b[0m\u001b[1;33m\u001b[0m\u001b[0m\n",
      "\u001b[1;32mc:\\program files (x86)\\microsoft visual studio\\shared\\python36_64\\lib\\site-packages\\keras\\models.py\u001b[0m in \u001b[0;36mfit\u001b[1;34m(self, x, y, batch_size, epochs, verbose, callbacks, validation_split, validation_data, shuffle, class_weight, sample_weight, initial_epoch, steps_per_epoch, validation_steps, **kwargs)\u001b[0m\n\u001b[0;32m    961\u001b[0m                               \u001b[0minitial_epoch\u001b[0m\u001b[1;33m=\u001b[0m\u001b[0minitial_epoch\u001b[0m\u001b[1;33m,\u001b[0m\u001b[1;33m\u001b[0m\u001b[0m\n\u001b[0;32m    962\u001b[0m                               \u001b[0msteps_per_epoch\u001b[0m\u001b[1;33m=\u001b[0m\u001b[0msteps_per_epoch\u001b[0m\u001b[1;33m,\u001b[0m\u001b[1;33m\u001b[0m\u001b[0m\n\u001b[1;32m--> 963\u001b[1;33m                               validation_steps=validation_steps)\n\u001b[0m\u001b[0;32m    964\u001b[0m \u001b[1;33m\u001b[0m\u001b[0m\n\u001b[0;32m    965\u001b[0m     def evaluate(self, x=None, y=None,\n",
      "\u001b[1;32mc:\\program files (x86)\\microsoft visual studio\\shared\\python36_64\\lib\\site-packages\\keras\\engine\\training.py\u001b[0m in \u001b[0;36mfit\u001b[1;34m(self, x, y, batch_size, epochs, verbose, callbacks, validation_split, validation_data, shuffle, class_weight, sample_weight, initial_epoch, steps_per_epoch, validation_steps, **kwargs)\u001b[0m\n\u001b[0;32m   1710\u001b[0m                               \u001b[0minitial_epoch\u001b[0m\u001b[1;33m=\u001b[0m\u001b[0minitial_epoch\u001b[0m\u001b[1;33m,\u001b[0m\u001b[1;33m\u001b[0m\u001b[0m\n\u001b[0;32m   1711\u001b[0m                               \u001b[0msteps_per_epoch\u001b[0m\u001b[1;33m=\u001b[0m\u001b[0msteps_per_epoch\u001b[0m\u001b[1;33m,\u001b[0m\u001b[1;33m\u001b[0m\u001b[0m\n\u001b[1;32m-> 1712\u001b[1;33m                               validation_steps=validation_steps)\n\u001b[0m\u001b[0;32m   1713\u001b[0m \u001b[1;33m\u001b[0m\u001b[0m\n\u001b[0;32m   1714\u001b[0m     def evaluate(self, x=None, y=None,\n",
      "\u001b[1;32mc:\\program files (x86)\\microsoft visual studio\\shared\\python36_64\\lib\\site-packages\\keras\\engine\\training.py\u001b[0m in \u001b[0;36m_fit_loop\u001b[1;34m(self, f, ins, out_labels, batch_size, epochs, verbose, callbacks, val_f, val_ins, shuffle, callback_metrics, initial_epoch, steps_per_epoch, validation_steps)\u001b[0m\n\u001b[0;32m   1221\u001b[0m                             \u001b[0mins_batch\u001b[0m \u001b[1;33m=\u001b[0m \u001b[0m_slice_arrays\u001b[0m\u001b[1;33m(\u001b[0m\u001b[0mins\u001b[0m\u001b[1;33m[\u001b[0m\u001b[1;33m:\u001b[0m\u001b[1;33m-\u001b[0m\u001b[1;36m1\u001b[0m\u001b[1;33m]\u001b[0m\u001b[1;33m,\u001b[0m \u001b[0mbatch_ids\u001b[0m\u001b[1;33m)\u001b[0m \u001b[1;33m+\u001b[0m \u001b[1;33m[\u001b[0m\u001b[0mins\u001b[0m\u001b[1;33m[\u001b[0m\u001b[1;33m-\u001b[0m\u001b[1;36m1\u001b[0m\u001b[1;33m]\u001b[0m\u001b[1;33m]\u001b[0m\u001b[1;33m\u001b[0m\u001b[0m\n\u001b[0;32m   1222\u001b[0m                         \u001b[1;32melse\u001b[0m\u001b[1;33m:\u001b[0m\u001b[1;33m\u001b[0m\u001b[0m\n\u001b[1;32m-> 1223\u001b[1;33m                             \u001b[0mins_batch\u001b[0m \u001b[1;33m=\u001b[0m \u001b[0m_slice_arrays\u001b[0m\u001b[1;33m(\u001b[0m\u001b[0mins\u001b[0m\u001b[1;33m,\u001b[0m \u001b[0mbatch_ids\u001b[0m\u001b[1;33m)\u001b[0m\u001b[1;33m\u001b[0m\u001b[0m\n\u001b[0m\u001b[0;32m   1224\u001b[0m                     \u001b[1;32mexcept\u001b[0m \u001b[0mTypeError\u001b[0m\u001b[1;33m:\u001b[0m\u001b[1;33m\u001b[0m\u001b[0m\n\u001b[0;32m   1225\u001b[0m                         raise TypeError('TypeError while preparing batch. '\n",
      "\u001b[1;32mc:\\program files (x86)\\microsoft visual studio\\shared\\python36_64\\lib\\site-packages\\keras\\engine\\training.py\u001b[0m in \u001b[0;36m_slice_arrays\u001b[1;34m(arrays, start, stop)\u001b[0m\n\u001b[0;32m    383\u001b[0m             \u001b[1;32mif\u001b[0m \u001b[0mhasattr\u001b[0m\u001b[1;33m(\u001b[0m\u001b[0mstart\u001b[0m\u001b[1;33m,\u001b[0m \u001b[1;34m'shape'\u001b[0m\u001b[1;33m)\u001b[0m\u001b[1;33m:\u001b[0m\u001b[1;33m\u001b[0m\u001b[0m\n\u001b[0;32m    384\u001b[0m                 \u001b[0mstart\u001b[0m \u001b[1;33m=\u001b[0m \u001b[0mstart\u001b[0m\u001b[1;33m.\u001b[0m\u001b[0mtolist\u001b[0m\u001b[1;33m(\u001b[0m\u001b[1;33m)\u001b[0m\u001b[1;33m\u001b[0m\u001b[0m\n\u001b[1;32m--> 385\u001b[1;33m             \u001b[1;32mreturn\u001b[0m \u001b[1;33m[\u001b[0m\u001b[1;32mNone\u001b[0m \u001b[1;32mif\u001b[0m \u001b[0mx\u001b[0m \u001b[1;32mis\u001b[0m \u001b[1;32mNone\u001b[0m \u001b[1;32melse\u001b[0m \u001b[0mx\u001b[0m\u001b[1;33m[\u001b[0m\u001b[0mstart\u001b[0m\u001b[1;33m]\u001b[0m \u001b[1;32mfor\u001b[0m \u001b[0mx\u001b[0m \u001b[1;32min\u001b[0m \u001b[0marrays\u001b[0m\u001b[1;33m]\u001b[0m\u001b[1;33m\u001b[0m\u001b[0m\n\u001b[0m\u001b[0;32m    386\u001b[0m         \u001b[1;32melse\u001b[0m\u001b[1;33m:\u001b[0m\u001b[1;33m\u001b[0m\u001b[0m\n\u001b[0;32m    387\u001b[0m             \u001b[1;32mreturn\u001b[0m \u001b[1;33m[\u001b[0m\u001b[1;32mNone\u001b[0m \u001b[1;32mif\u001b[0m \u001b[0mx\u001b[0m \u001b[1;32mis\u001b[0m \u001b[1;32mNone\u001b[0m \u001b[1;32melse\u001b[0m \u001b[0mx\u001b[0m\u001b[1;33m[\u001b[0m\u001b[0mstart\u001b[0m\u001b[1;33m:\u001b[0m\u001b[0mstop\u001b[0m\u001b[1;33m]\u001b[0m \u001b[1;32mfor\u001b[0m \u001b[0mx\u001b[0m \u001b[1;32min\u001b[0m \u001b[0marrays\u001b[0m\u001b[1;33m]\u001b[0m\u001b[1;33m\u001b[0m\u001b[0m\n",
      "\u001b[1;32mc:\\program files (x86)\\microsoft visual studio\\shared\\python36_64\\lib\\site-packages\\keras\\engine\\training.py\u001b[0m in \u001b[0;36m<listcomp>\u001b[1;34m(.0)\u001b[0m\n\u001b[0;32m    383\u001b[0m             \u001b[1;32mif\u001b[0m \u001b[0mhasattr\u001b[0m\u001b[1;33m(\u001b[0m\u001b[0mstart\u001b[0m\u001b[1;33m,\u001b[0m \u001b[1;34m'shape'\u001b[0m\u001b[1;33m)\u001b[0m\u001b[1;33m:\u001b[0m\u001b[1;33m\u001b[0m\u001b[0m\n\u001b[0;32m    384\u001b[0m                 \u001b[0mstart\u001b[0m \u001b[1;33m=\u001b[0m \u001b[0mstart\u001b[0m\u001b[1;33m.\u001b[0m\u001b[0mtolist\u001b[0m\u001b[1;33m(\u001b[0m\u001b[1;33m)\u001b[0m\u001b[1;33m\u001b[0m\u001b[0m\n\u001b[1;32m--> 385\u001b[1;33m             \u001b[1;32mreturn\u001b[0m \u001b[1;33m[\u001b[0m\u001b[1;32mNone\u001b[0m \u001b[1;32mif\u001b[0m \u001b[0mx\u001b[0m \u001b[1;32mis\u001b[0m \u001b[1;32mNone\u001b[0m \u001b[1;32melse\u001b[0m \u001b[0mx\u001b[0m\u001b[1;33m[\u001b[0m\u001b[0mstart\u001b[0m\u001b[1;33m]\u001b[0m \u001b[1;32mfor\u001b[0m \u001b[0mx\u001b[0m \u001b[1;32min\u001b[0m \u001b[0marrays\u001b[0m\u001b[1;33m]\u001b[0m\u001b[1;33m\u001b[0m\u001b[0m\n\u001b[0m\u001b[0;32m    386\u001b[0m         \u001b[1;32melse\u001b[0m\u001b[1;33m:\u001b[0m\u001b[1;33m\u001b[0m\u001b[0m\n\u001b[0;32m    387\u001b[0m             \u001b[1;32mreturn\u001b[0m \u001b[1;33m[\u001b[0m\u001b[1;32mNone\u001b[0m \u001b[1;32mif\u001b[0m \u001b[0mx\u001b[0m \u001b[1;32mis\u001b[0m \u001b[1;32mNone\u001b[0m \u001b[1;32melse\u001b[0m \u001b[0mx\u001b[0m\u001b[1;33m[\u001b[0m\u001b[0mstart\u001b[0m\u001b[1;33m:\u001b[0m\u001b[0mstop\u001b[0m\u001b[1;33m]\u001b[0m \u001b[1;32mfor\u001b[0m \u001b[0mx\u001b[0m \u001b[1;32min\u001b[0m \u001b[0marrays\u001b[0m\u001b[1;33m]\u001b[0m\u001b[1;33m\u001b[0m\u001b[0m\n",
      "\u001b[1;31mKeyboardInterrupt\u001b[0m: "
     ]
    }
   ],
   "source": [
    "lst_hd = list()\n",
    "\n",
    "lst_neurons_ec = [10, 10, 4 ]\n",
    "for i in range(1):\n",
    "    np.random.seed(i)\n",
    "    np.random.shuffle(X)\n",
    "    np.random.seed(i)\n",
    "    np.random.shuffle(Y)\n",
    "   \n",
    "    training, test = X[:32000,:], X[32000:40000,:]\n",
    "    training_angle, test_angle = Y[:32000,:], Y[32000:40000,:]\n",
    "    x_train = training.reshape((len(training), np.prod(training.shape[1:])))\n",
    "    y_train = training_angle.reshape((len(training_angle), np.prod(training_angle.shape[1:])))\n",
    "\n",
    "    x_test = test.reshape((len(test), np.prod(test.shape[1:])))\n",
    "    y_test = test_angle.reshape((len(test_angle), np.prod(test_angle.shape[1:])))\n",
    "\n",
    " \n",
    "    \n",
    "    modelDecoder = Sequential()\n",
    "    modelDecoder.add(Dense(lst_neurons_ec[2], input_shape=(4,)))\n",
    "    modelDecoder.add(Activation('relu'))\n",
    "    modelDecoder.add(Dense(lst_neurons_ec[1], input_shape=(lst_neurons_ec[2],)))\n",
    "    modelDecoder.add(Activation('relu'))\n",
    "    modelDecoder.add(Dense(lst_neurons_ec[0], input_shape=(lst_neurons_ec[1],)))\n",
    "    modelDecoder.add(Activation('relu'))\n",
    "    modelDecoder.add(Dense(19200))\n",
    "    modelDecoder.compile(loss='mean_squared_error', optimizer='Adam')\n",
    "    hd = modelDecoder.fit(y_train, x_train, epochs=80, validation_data=(y_test, x_test))\n",
    "\n",
    "    lst_hd.append(hd)"
   ]
  },
  {
   "cell_type": "code",
   "execution_count": 6,
   "metadata": {},
   "outputs": [
    {
     "ename": "SyntaxError",
     "evalue": "invalid syntax (<ipython-input-6-c57b28b15e1a>, line 5)",
     "output_type": "error",
     "traceback": [
      "\u001b[1;36m  File \u001b[1;32m\"<ipython-input-6-c57b28b15e1a>\"\u001b[1;36m, line \u001b[1;32m5\u001b[0m\n\u001b[1;33m    loss = 0.5 * encoder_loss + 0.5 decoder_loss\u001b[0m\n\u001b[1;37m                                               ^\u001b[0m\n\u001b[1;31mSyntaxError\u001b[0m\u001b[1;31m:\u001b[0m invalid syntax\n"
     ]
    }
   ],
   "source": [
    "# Composite loss\n",
    "def myloss(mid_layer_output):\n",
    "    encoder_loss = K.mean(K.square(y_pred[:19200] - y_true[:19200]), axis=-1)\n",
    "    decoder_loss = K.mean(K.square(y_pred[19200:19203] - y_true[19200:19203]), axis=-1)\n",
    "    loss = 0.5 * encoder_loss + 0.5 * decoder_loss \n",
    "    return loss "
   ]
  },
  {
   "cell_type": "code",
   "execution_count": 28,
   "metadata": {},
   "outputs": [
    {
     "name": "stderr",
     "output_type": "stream",
     "text": [
      "c:\\program files (x86)\\microsoft visual studio\\shared\\python36_64\\lib\\site-packages\\skimage\\io\\_plugins\\matplotlib_plugin.py:51: FutureWarning: Conversion of the second argument of issubdtype from `float` to `np.floating` is deprecated. In future, it will be treated as `np.float64 == np.dtype(float).type`.\n",
      "  out_of_range_float = (np.issubdtype(image.dtype, np.float) and\n",
      "c:\\program files (x86)\\microsoft visual studio\\shared\\python36_64\\lib\\site-packages\\matplotlib\\axes\\_base.py:1400: MatplotlibDeprecationWarning: The 'box-forced' keyword argument is deprecated since 2.2.\n",
      "  \" since 2.2.\", cbook.mplDeprecation)\n"
     ]
    },
    {
     "data": {
      "text/plain": [
       "<matplotlib.image.AxesImage at 0x2b98f88aef0>"
      ]
     },
     "execution_count": 28,
     "metadata": {},
     "output_type": "execute_result"
    },
    {
     "data": {
      "image/png": "[encoded data removed]",
      "text/plain": [
       "<Figure size 432x288 with 2 Axes>"
      ]
     },
     "metadata": {},
     "output_type": "display_data"
    }
   ],
   "source": [
    "output = modelDecoder.predict(y_test[65:])\n",
    "a = output[0].reshape(120,160)\n",
    "skimage.io.imshow(a)"
   ]
  },
  {
   "cell_type": "code",
   "execution_count": 21,
   "metadata": {},
   "outputs": [
    {
     "data": {
      "text/plain": [
       "array([-0.12586522,  0.47382617,  0.13221979,  0.05274391])"
      ]
     },
     "execution_count": 21,
     "metadata": {},
     "output_type": "execute_result"
    }
   ],
   "source": [
    "output = modelEncoder.predict(x_test[50:])\n",
    "y_test[50]"
   ]
  },
  {
   "cell_type": "code",
   "execution_count": 25,
   "metadata": {},
   "outputs": [
    {
     "name": "stdout",
     "output_type": "stream",
     "text": [
      "[[-0.10507033 -0.14241403  0.16465406  0.01850457]\n",
      " [-0.09294368  0.08777469  0.03617337  0.00686596]\n",
      " [ 0.41592944  0.26867104  0.1422904   0.0169105 ]\n",
      " ...\n",
      " [ 0.15581112  0.13342488 -0.0033551   0.00658415]\n",
      " [-0.08735096 -0.4117399   0.2882646   0.03079036]\n",
      " [-0.06557208 -0.10615534 -0.23329352 -0.00706801]]\n"
     ]
    }
   ],
   "source": [
    "print(output)"
   ]
  },
  {
   "cell_type": "code",
   "execution_count": 24,
   "metadata": {},
   "outputs": [
    {
     "data": {
      "text/plain": [
       "array([-0.10683489, -0.13679099,  0.15617204,  0.11060357])"
      ]
     },
     "execution_count": 24,
     "metadata": {},
     "output_type": "execute_result"
    }
   ],
   "source": [
    "output = modelEncoder.predict(x_test[50:])\n",
    "y_test[50]"
   ]
  },
  {
   "cell_type": "code",
   "execution_count": 29,
   "metadata": {},
   "outputs": [],
   "source": [
    "output = modelEncoder.predict(x_test)\n"
   ]
  },
  {
   "cell_type": "code",
   "execution_count": 45,
   "metadata": {},
   "outputs": [
    {
     "data": {
      "text/plain": [
       "(8000, 4)"
      ]
     },
     "execution_count": 45,
     "metadata": {},
     "output_type": "execute_result"
    }
   ],
   "source": [
    "residuals_angles  = y_test - output\n",
    "residuals_angles.shape\n"
   ]
  },
  {
   "cell_type": "code",
   "execution_count": 55,
   "metadata": {},
   "outputs": [
    {
     "name": "stdout",
     "output_type": "stream",
     "text": [
      "0.01929314094723951\n",
      "0.017995861544857692\n",
      "0.022858273039013766\n",
      "0.15588541865605715\n"
     ]
    }
   ],
   "source": [
    "print( np.std(residuals_angles[:,0]))\n",
    "print( np.std(residuals_angles[:,1]))\n",
    "print( np.std(residuals_angles[:,2]))\n",
    "print( np.std(residuals_angles[:,3]))"
   ]
  },
  {
   "cell_type": "code",
   "execution_count": 58,
   "metadata": {},
   "outputs": [],
   "source": [
    "output_100 = modelEncoder.predict(x_test)\n",
    "residuals_angles_100  = y_test - output_100\n"
   ]
  },
  {
   "cell_type": "code",
   "execution_count": 59,
   "metadata": {},
   "outputs": [
    {
     "name": "stdout",
     "output_type": "stream",
     "text": [
      "0.010838231245972663\n",
      "0.0073325866821590795\n",
      "0.010660240100247893\n",
      "0.024167100506210085\n"
     ]
    }
   ],
   "source": [
    "print( np.std(residuals_angles_100[:,0]))\n",
    "print( np.std(residuals_angles_100[:,1]))\n",
    "print( np.std(residuals_angles_100[:,2]))\n",
    "print( np.std(residuals_angles_100[:,3]))"
   ]
  },
  {
   "cell_type": "code",
   "execution_count": 61,
   "metadata": {},
   "outputs": [
    {
     "name": "stdout",
     "output_type": "stream",
     "text": [
      "0.010105911254186108\n",
      "0.0075083836383580665\n",
      "0.008749322495004864\n",
      "0.020483169715784837\n"
     ]
    }
   ],
   "source": [
    "output_1000 = modelEncoder.predict(x_test)\n",
    "residuals_angles_1000  = y_test - output_1000\n",
    "\n",
    "print( np.std(residuals_angles_1000[:,0]))\n",
    "print( np.std(residuals_angles_1000[:,1]))\n",
    "print( np.std(residuals_angles_1000[:,2]))\n",
    "print( np.std(residuals_angles_1000[:,3]))\n"
   ]
  },
  {
   "cell_type": "code",
   "execution_count": 79,
   "metadata": {},
   "outputs": [
    {
     "data": {
      "text/plain": [
       "[<matplotlib.lines.Line2D at 0x2b9be4864e0>]"
      ]
     },
     "execution_count": 79,
     "metadata": {},
     "output_type": "execute_result"
    },
    {
     "data": {
      "text/plain": [
       "<Figure size 1080x432 with 0 Axes>"
      ]
     },
     "metadata": {},
     "output_type": "display_data"
    },
    {
     "data": {
      "image/png": "[encoded data removed]",
      "text/plain": [
       "<Figure size 1080x432 with 3 Axes>"
      ]
     },
     "metadata": {},
     "output_type": "display_data"
    }
   ],
   "source": [
    "x = list()\n",
    "y_10 = list()\n",
    "y_100 = list()\n",
    "y_1000 = list()\n",
    "for i in range(4):\n",
    "    x.append(i)\n",
    "    y_10.append(np.std(residuals_angles[:,i]))\n",
    "    y_100.append(np.std(residuals_angles_100[:,i]))\n",
    "    y_1000.append(np.std(residuals_angles_1000[:,i]))\n",
    "\n",
    "fig = plt.figure()  # an empty figure with no axes\n",
    "\n",
    "fig, ax_lst = plt.subplots(1, 3)  # a figure with a 2x2 grid of Axes\n",
    "ax_lst[0].set_xlabel('Joint')\n",
    "ax_lst[0].set_ylabel('Error')\n",
    "ax_lst[0].set_title(\"10 Net\")\n",
    "ax_lst[0].plot(x, y_10)\n",
    "\n",
    "ax_lst[1].set_xlabel('Joint')\n",
    "ax_lst[1].set_ylabel('Error')\n",
    "ax_lst[1].set_title(\"100 Net\")\n",
    "ax_lst[1].plot(x,  y_100)\n",
    "\n",
    "ax_lst[2].set_xlabel('Joint')\n",
    "ax_lst[2].set_ylabel('Error')\n",
    "ax_lst[2].set_title(\"1000 Net\")\n",
    "ax_lst[2].plot(x,  y_1000)\n",
    "\n",
    "\n"
   ]
  },
  {
   "cell_type": "code",
   "execution_count": 84,
   "metadata": {},
   "outputs": [],
   "source": [
    "with open('.pkl', 'wb') as f:  # Python 3: open(..., 'wb')\n",
    "    pickle.dump(y_1000, f)\n"
   ]
  },
  {
   "cell_type": "code",
   "execution_count": null,
   "metadata": {},
   "outputs": [],
   "source": []
  }
 ],
 "metadata": {
  "kernelspec": {
   "display_name": "Python 3",
   "language": "python",
   "name": "python3"
  },
  "language_info": {
   "codemirror_mode": {
    "name": "ipython",
    "version": 3
   },
   "file_extension": ".py",
   "mimetype": "text/x-python",
   "name": "python",
   "nbconvert_exporter": "python",
   "pygments_lexer": "ipython3",
   "version": "3.6.4"
  }
 },
 "nbformat": 4,
 "nbformat_minor": 2
}
